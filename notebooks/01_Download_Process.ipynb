{
 "cells": [
  {
   "cell_type": "markdown",
   "metadata": {},
   "source": [
    "# Preparing demolition data by the City of Austin\n",
    "\n",
    "- We start with [Construction permits](https://data.austintexas.gov/Building-and-Development/Issued-Construction-Permits/3syk-w9eu/data) published on the city's Socrata data porta.\n",
    "- We've flitered it to permits for [full building demolitions](https://data.austintexas.gov/Building-and-Development/demolitions-full-post2017/4d8v-cjdw).\n",
    "- In this notebook, we further filter and work the data based on what we've learned about the data, and the export it for analysis in other notebooks."
   ]
  },
  {
   "cell_type": "markdown",
   "metadata": {},
   "source": [
    "## Set up and configurations"
   ]
  },
  {
   "cell_type": "code",
   "execution_count": 1,
   "metadata": {},
   "outputs": [],
   "source": [
    "import pandas as pd"
   ]
  },
  {
   "cell_type": "markdown",
   "metadata": {},
   "source": [
    "## Download file from Socrata\n",
    "\n",
    "This is the full building demolitions filter noted above."
   ]
  },
  {
   "cell_type": "code",
   "execution_count": 2,
   "metadata": {},
   "outputs": [
    {
     "name": "stderr",
     "output_type": "stream",
     "text": [
      "  % Total    % Received % Xferd  Average Speed   Time    Time     Time  Current\n",
      "                                 Dload  Upload   Total   Spent    Left  Speed\n",
      "100 5796k    0 5796k    0     0   491k      0 --:--:--  0:00:11 --:--:--  479k\n"
     ]
    }
   ],
   "source": [
    "%%bash\n",
    "curl -L -o ../data-raw/full-downloaded.csv \\\n",
    "https://data.austintexas.gov/resource/4d8v-cjdw.csv?\\$limit=10000"
   ]
  },
  {
   "cell_type": "markdown",
   "metadata": {},
   "source": [
    "## Import and processing"
   ]
  },
  {
   "cell_type": "code",
   "execution_count": 3,
   "metadata": {},
   "outputs": [
    {
     "data": {
      "text/plain": [
       "(7882, 66)"
      ]
     },
     "execution_count": 3,
     "metadata": {},
     "output_type": "execute_result"
    }
   ],
   "source": [
    "# Column type fixes\n",
    "column_types = {\n",
    "    \"ApplicantPhone\": pd.np.str,\n",
    "    \"ContractorPhone\": pd.np.str,\n",
    "    'CalendarYearIssued': pd.np.str,\n",
    "}\n",
    "\n",
    "# import raw data\n",
    "data_raw = pd.read_csv(\n",
    "    '../data-raw/full-downloaded.csv',\n",
    "    index_col=None,\n",
    "    dtype=column_types\n",
    ")\n",
    "\n",
    "data_raw.shape"
   ]
  },
  {
   "cell_type": "markdown",
   "metadata": {},
   "source": [
    "## Global filters\n",
    "\n",
    "For any filters that might apply beyond residential permits, in case we look at those later."
   ]
  },
  {
   "cell_type": "markdown",
   "metadata": {},
   "source": [
    "### Filter for permit status\n",
    "\n",
    "We want only Active and Final, per interview with the city. "
   ]
  },
  {
   "cell_type": "code",
   "execution_count": 4,
   "metadata": {},
   "outputs": [
    {
     "data": {
      "text/plain": [
       "Final                              4654\n",
       "Expired                            1634\n",
       "Active                              923\n",
       "VOID                                525\n",
       "Withdrawn                           138\n",
       "Aborted                               3\n",
       "Closed                                2\n",
       "On Hold                               2\n",
       "Cancelled - Contractor Required       1\n",
       "Name: StatusCurrent, dtype: int64"
      ]
     },
     "execution_count": 4,
     "metadata": {},
     "output_type": "execute_result"
    }
   ],
   "source": [
    "# Consider permit status. \n",
    "data_raw.StatusCurrent.value_counts()"
   ]
  },
  {
   "cell_type": "code",
   "execution_count": 5,
   "metadata": {},
   "outputs": [
    {
     "data": {
      "text/plain": [
       "(5577, 66)"
      ]
     },
     "execution_count": 5,
     "metadata": {},
     "output_type": "execute_result"
    }
   ],
   "source": [
    "# We want only Active and Final, per city\n",
    "permit_status_filtered = data_raw[\n",
    "    (data_raw['StatusCurrent'] == 'Active')\n",
    "    | (data_raw['StatusCurrent'] == 'Final')\n",
    "]\n",
    "permit_status_filtered.shape"
   ]
  },
  {
   "cell_type": "markdown",
   "metadata": {},
   "source": [
    "## Preparing file for residential demolitions"
   ]
  },
  {
   "cell_type": "markdown",
   "metadata": {},
   "source": [
    "### Filter for residential vs commercial"
   ]
  },
  {
   "cell_type": "code",
   "execution_count": 6,
   "metadata": {},
   "outputs": [
    {
     "data": {
      "text/plain": [
       "Residential    4774\n",
       "Commercial      803\n",
       "Name: PermitClassMapped, dtype: int64"
      ]
     },
     "execution_count": 6,
     "metadata": {},
     "output_type": "execute_result"
    }
   ],
   "source": [
    "# show residential vs commercial\n",
    "permit_status_filtered.PermitClassMapped.value_counts()"
   ]
  },
  {
   "cell_type": "code",
   "execution_count": 7,
   "metadata": {},
   "outputs": [
    {
     "data": {
      "text/plain": [
       "(4774, 66)"
      ]
     },
     "execution_count": 7,
     "metadata": {},
     "output_type": "execute_result"
    }
   ],
   "source": [
    "# filter to just residential premits\n",
    "filtered_residential = permit_status_filtered[\n",
    "    permit_status_filtered['PermitClassMapped'] == 'Residential'\n",
    "]\n",
    "filtered_residential.shape"
   ]
  },
  {
   "cell_type": "markdown",
   "metadata": {},
   "source": [
    "### Filter for permit class"
   ]
  },
  {
   "cell_type": "code",
   "execution_count": 8,
   "metadata": {},
   "outputs": [
    {
     "data": {
      "text/plain": [
       "R- 645 Demolition One Family Homes       3047\n",
       "R- 646 Demolition Two Family Bldgs        122\n",
       "R- 649 Demolition All Other Bldgs Res    1605\n",
       "Name: PermitClass, dtype: int64"
      ]
     },
     "execution_count": 8,
     "metadata": {},
     "output_type": "execute_result"
    }
   ],
   "source": [
    "# Look at Permit class to remove non-residential\n",
    "# \"All Other\" are typically garages, pools, sheds, etc.\n",
    "filtered_residential['PermitClass'].value_counts().sort_index()"
   ]
  },
  {
   "cell_type": "code",
   "execution_count": 9,
   "metadata": {},
   "outputs": [
    {
     "data": {
      "text/plain": [
       "(3169, 66)"
      ]
     },
     "execution_count": 9,
     "metadata": {},
     "output_type": "execute_result"
    }
   ],
   "source": [
    "# Filter to only homes people live in\n",
    "filtered_homes = filtered_residential[\n",
    "    (filtered_residential['PermitClass'] == \"R- 645 Demolition One Family Homes\")\n",
    "    | (filtered_residential['PermitClass'] == \"R- 646 Demolition Two Family Bldgs\")\n",
    "]\n",
    "filtered_homes.shape"
   ]
  },
  {
   "cell_type": "markdown",
   "metadata": {},
   "source": [
    "## Set final dataframe and export"
   ]
  },
  {
   "cell_type": "code",
   "execution_count": 10,
   "metadata": {},
   "outputs": [
    {
     "data": {
      "text/plain": [
       "(3169, 66)"
      ]
     },
     "execution_count": 10,
     "metadata": {},
     "output_type": "execute_result"
    }
   ],
   "source": [
    "# Set final dataframe for analysis\n",
    "residential_demolitions = filtered_homes\n",
    "residential_demolitions.shape"
   ]
  },
  {
   "cell_type": "markdown",
   "metadata": {},
   "source": [
    "### Export"
   ]
  },
  {
   "cell_type": "code",
   "execution_count": 11,
   "metadata": {},
   "outputs": [],
   "source": [
    "residential_demolitions.to_csv('../data-processed/residential_demolitions.csv')"
   ]
  },
  {
   "cell_type": "code",
   "execution_count": null,
   "metadata": {},
   "outputs": [],
   "source": []
  }
 ],
 "metadata": {
  "kernelspec": {
   "display_name": "Python 3",
   "language": "python",
   "name": "python3"
  },
  "language_info": {
   "codemirror_mode": {
    "name": "ipython",
    "version": 3
   },
   "file_extension": ".py",
   "mimetype": "text/x-python",
   "name": "python",
   "nbconvert_exporter": "python",
   "pygments_lexer": "ipython3",
   "version": "3.6.5"
  }
 },
 "nbformat": 4,
 "nbformat_minor": 2
}
