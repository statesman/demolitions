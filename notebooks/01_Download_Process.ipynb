{
 "cells": [
  {
   "cell_type": "markdown",
   "metadata": {},
   "source": [
    "# Preparing demolition data by the City of Austin\n",
    "\n",
    "- We start with [Construction permits](https://data.austintexas.gov/Building-and-Development/Issued-Construction-Permits/3syk-w9eu/data) published on the city's Socrata data porta.\n",
    "- We've flitered it to permits for [full building demolitions](https://data.austintexas.gov/Building-and-Development/demolitions-full-post2017/4d8v-cjdw).\n",
    "- In this notebook, we further filter and work the data based on what we've learned about the data, and the export it for analysis in other notebooks.\n",
    "- This is currently set to filter the data to older than July 1, 2018 to have a cutoff date."
   ]
  },
  {
   "cell_type": "markdown",
   "metadata": {},
   "source": [
    "## Set up and configurations"
   ]
  },
  {
   "cell_type": "code",
   "execution_count": 1,
   "metadata": {},
   "outputs": [],
   "source": [
    "import pandas as pd"
   ]
  },
  {
   "cell_type": "markdown",
   "metadata": {},
   "source": [
    "## Download file from Socrata\n",
    "\n",
    "This is the full building demolitions filter noted above."
   ]
  },
  {
   "cell_type": "code",
   "execution_count": 2,
   "metadata": {},
   "outputs": [
    {
     "name": "stderr",
     "output_type": "stream",
     "text": [
      "  % Total    % Received % Xferd  Average Speed   Time    Time     Time  Current\n",
      "                                 Dload  Upload   Total   Spent    Left  Speed\n",
      "100 5806k    0 5806k    0     0   753k      0 --:--:--  0:00:07 --:--:--  790k\n"
     ]
    }
   ],
   "source": [
    "%%bash\n",
    "curl -L -o ../data-raw/full-downloaded.csv \\\n",
    "https://data.austintexas.gov/resource/4d8v-cjdw.csv?\\$limit=10000"
   ]
  },
  {
   "cell_type": "markdown",
   "metadata": {},
   "source": [
    "## Import and processing"
   ]
  },
  {
   "cell_type": "code",
   "execution_count": 3,
   "metadata": {},
   "outputs": [
    {
     "data": {
      "text/plain": [
       "(7897, 66)"
      ]
     },
     "execution_count": 3,
     "metadata": {},
     "output_type": "execute_result"
    }
   ],
   "source": [
    "# Column type fixes\n",
    "column_types = {\n",
    "    \"ApplicantPhone\": pd.np.str,\n",
    "    \"ContractorPhone\": pd.np.str,\n",
    "    'CalendarYearIssued': pd.np.str,\n",
    "}\n",
    "\n",
    "# import raw data\n",
    "data_raw = pd.read_csv(\n",
    "    '../data-raw/full-downloaded.csv',\n",
    "    index_col=None,\n",
    "    dtype=column_types,\n",
    "    parse_dates=['IssuedDate']\n",
    ")\n",
    "\n",
    "data_raw.shape"
   ]
  },
  {
   "cell_type": "markdown",
   "metadata": {},
   "source": [
    "## Global filters\n",
    "\n",
    "For any filters that might apply beyond residential permits, in case we look at those later."
   ]
  },
  {
   "cell_type": "markdown",
   "metadata": {},
   "source": [
    "### Filter for permit status\n",
    "\n",
    "We want only Active and Final, per interview with the city. "
   ]
  },
  {
   "cell_type": "code",
   "execution_count": 4,
   "metadata": {},
   "outputs": [
    {
     "data": {
      "text/plain": [
       "Final                              4661\n",
       "Expired                            1640\n",
       "Active                              925\n",
       "VOID                                525\n",
       "Withdrawn                           138\n",
       "Aborted                               3\n",
       "Closed                                2\n",
       "On Hold                               2\n",
       "Cancelled - Contractor Required       1\n",
       "Name: StatusCurrent, dtype: int64"
      ]
     },
     "execution_count": 4,
     "metadata": {},
     "output_type": "execute_result"
    }
   ],
   "source": [
    "# Consider permit status. \n",
    "data_raw.StatusCurrent.value_counts()"
   ]
  },
  {
   "cell_type": "code",
   "execution_count": 5,
   "metadata": {},
   "outputs": [
    {
     "data": {
      "text/plain": [
       "(5586, 66)"
      ]
     },
     "execution_count": 5,
     "metadata": {},
     "output_type": "execute_result"
    }
   ],
   "source": [
    "# We want only Active and Final, per city\n",
    "permit_status_filtered = data_raw[\n",
    "    (data_raw['StatusCurrent'] == 'Active')\n",
    "    | (data_raw['StatusCurrent'] == 'Final')\n",
    "]\n",
    "permit_status_filtered.shape"
   ]
  },
  {
   "cell_type": "markdown",
   "metadata": {},
   "source": [
    "## Preparing file for residential demolitions"
   ]
  },
  {
   "cell_type": "markdown",
   "metadata": {},
   "source": [
    "### Filter for residential vs commercial"
   ]
  },
  {
   "cell_type": "code",
   "execution_count": 6,
   "metadata": {},
   "outputs": [
    {
     "data": {
      "text/plain": [
       "Residential    4784\n",
       "Commercial      802\n",
       "Name: PermitClassMapped, dtype: int64"
      ]
     },
     "execution_count": 6,
     "metadata": {},
     "output_type": "execute_result"
    }
   ],
   "source": [
    "# show residential vs commercial\n",
    "permit_status_filtered.PermitClassMapped.value_counts()"
   ]
  },
  {
   "cell_type": "code",
   "execution_count": 7,
   "metadata": {},
   "outputs": [
    {
     "data": {
      "text/plain": [
       "(4784, 66)"
      ]
     },
     "execution_count": 7,
     "metadata": {},
     "output_type": "execute_result"
    }
   ],
   "source": [
    "# filter to just residential premits\n",
    "filtered_residential = permit_status_filtered[\n",
    "    permit_status_filtered['PermitClassMapped'] == 'Residential'\n",
    "]\n",
    "filtered_residential.shape"
   ]
  },
  {
   "cell_type": "markdown",
   "metadata": {},
   "source": [
    "### Filter for permit class"
   ]
  },
  {
   "cell_type": "code",
   "execution_count": 8,
   "metadata": {},
   "outputs": [
    {
     "data": {
      "text/plain": [
       "R- 645 Demolition One Family Homes       3056\n",
       "R- 646 Demolition Two Family Bldgs        122\n",
       "R- 649 Demolition All Other Bldgs Res    1606\n",
       "Name: PermitClass, dtype: int64"
      ]
     },
     "execution_count": 8,
     "metadata": {},
     "output_type": "execute_result"
    }
   ],
   "source": [
    "# Look at Permit class to remove non-residential\n",
    "# \"All Other\" are typically garages, pools, sheds, etc.\n",
    "filtered_residential['PermitClass'].value_counts().sort_index()"
   ]
  },
  {
   "cell_type": "code",
   "execution_count": 9,
   "metadata": {},
   "outputs": [
    {
     "data": {
      "text/plain": [
       "(3178, 66)"
      ]
     },
     "execution_count": 9,
     "metadata": {},
     "output_type": "execute_result"
    }
   ],
   "source": [
    "# Filter to only homes people live in\n",
    "filtered_homes = filtered_residential[\n",
    "    (filtered_residential['PermitClass'] == \"R- 645 Demolition One Family Homes\")\n",
    "    | (filtered_residential['PermitClass'] == \"R- 646 Demolition Two Family Bldgs\")\n",
    "]\n",
    "filtered_homes.shape"
   ]
  },
  {
   "cell_type": "markdown",
   "metadata": {},
   "source": [
    "## Cut off June 30, 2018"
   ]
  },
  {
   "cell_type": "code",
   "execution_count": 10,
   "metadata": {},
   "outputs": [
    {
     "data": {
      "text/plain": [
       "(3167, 66)"
      ]
     },
     "execution_count": 10,
     "metadata": {},
     "output_type": "execute_result"
    }
   ],
   "source": [
    "# filter by date to set at half the year\n",
    "cutoff = filtered_homes[filtered_homes['IssuedDate'] < '2018-07-01']\n",
    "cutoff.shape"
   ]
  },
  {
   "cell_type": "markdown",
   "metadata": {},
   "source": [
    "## Set final dataframe and export"
   ]
  },
  {
   "cell_type": "code",
   "execution_count": 11,
   "metadata": {},
   "outputs": [
    {
     "data": {
      "text/plain": [
       "(3167, 66)"
      ]
     },
     "execution_count": 11,
     "metadata": {},
     "output_type": "execute_result"
    }
   ],
   "source": [
    "# Set final dataframe for analysis\n",
    "residential_demolitions = cutoff\n",
    "residential_demolitions.shape"
   ]
  },
  {
   "cell_type": "markdown",
   "metadata": {},
   "source": [
    "### Export"
   ]
  },
  {
   "cell_type": "code",
   "execution_count": 12,
   "metadata": {},
   "outputs": [],
   "source": [
    "residential_demolitions.to_csv('../data-processed/residential_demolitions.csv')"
   ]
  },
  {
   "cell_type": "markdown",
   "metadata": {},
   "source": [
    "## Reference\n",
    "Ignore this. It's just for reference."
   ]
  },
  {
   "cell_type": "code",
   "execution_count": 13,
   "metadata": {},
   "outputs": [
    {
     "name": "stdout",
     "output_type": "stream",
     "text": [
      "<class 'pandas.core.frame.DataFrame'>\n",
      "RangeIndex: 7897 entries, 0 to 7896\n",
      "Data columns (total 66 columns):\n",
      "PermitType                    7897 non-null object\n",
      "PermitTypeDesc                7897 non-null object\n",
      "PermitNum                     7897 non-null object\n",
      "PermitClassMapped             7897 non-null object\n",
      "PermitClass                   7897 non-null object\n",
      "WorkClass                     7897 non-null object\n",
      "Condominium                   7897 non-null object\n",
      "ProjectName                   7897 non-null object\n",
      "Description                   7897 non-null object\n",
      "TCAD_ID                       7807 non-null object\n",
      "PropertyLegalDescription      7006 non-null object\n",
      "AppliedDate                   7897 non-null object\n",
      "IssuedDate                    7897 non-null datetime64[ns]\n",
      "DayIssued                     7897 non-null object\n",
      "CalendarYearIssued            7897 non-null object\n",
      "FiscalYearIssued              7897 non-null int64\n",
      "IssuedInLast30Days            7897 non-null object\n",
      "IssuanceMethod                7897 non-null object\n",
      "StatusCurrent                 7897 non-null object\n",
      "StatusDate                    7897 non-null object\n",
      "ExpiresDate                   7897 non-null object\n",
      "CompletedDate                 4792 non-null object\n",
      "TotalExistingBldgSQFT         7892 non-null float64\n",
      "RemodelRepairSQFT             2 non-null float64\n",
      "TotalNewAddSQFT               1 non-null float64\n",
      "TotalValuationRemodel         2 non-null float64\n",
      "TotalJobValuation             7897 non-null float64\n",
      "NumberOfFloors                7897 non-null int64\n",
      "HousingUnits                  7897 non-null int64\n",
      "BuildingValuation             3 non-null float64\n",
      "BuildingValuationRemodel      2 non-null float64\n",
      "ElectricalValuation           3 non-null float64\n",
      "ElectricalValuationRemodel    2 non-null float64\n",
      "MechanicalValuation           3 non-null float64\n",
      "MechanicalValuationRemodel    2 non-null float64\n",
      "PlumbingValuation             3 non-null float64\n",
      "PlumbingValuationRemodel      2 non-null float64\n",
      "MedGasValuation               0 non-null float64\n",
      "MedGasValuationRemodel        0 non-null float64\n",
      "OriginalAddress1              7897 non-null object\n",
      "OriginalCity                  7897 non-null object\n",
      "OriginalState                 7897 non-null object\n",
      "OriginalZip                   7897 non-null int64\n",
      "CouncilDistrict               7851 non-null float64\n",
      "Jurisdiction                  7897 non-null object\n",
      "Link                          7897 non-null object\n",
      "ProjectID                     7897 non-null int64\n",
      "MasterPermitNum               7850 non-null float64\n",
      "Latitude                      7897 non-null float64\n",
      "Longitude                     7897 non-null float64\n",
      "Location                      7897 non-null object\n",
      "ContractorTrade               7851 non-null object\n",
      "ContractorCompanyName         6919 non-null object\n",
      "ContractorFullName            4613 non-null object\n",
      "ContractorPhone               7800 non-null object\n",
      "ContractorAddress1            5836 non-null object\n",
      "ContractorAddress2            7004 non-null object\n",
      "ContractorCity                7826 non-null object\n",
      "ContractorZip                 7652 non-null object\n",
      "ApplicantFullName             4277 non-null object\n",
      "ApplicantOrganization         6551 non-null object\n",
      "ApplicantPhone                7324 non-null object\n",
      "ApplicantAddress1             5447 non-null object\n",
      "ApplicantAddress2             6590 non-null object\n",
      "ApplicantCity                 7351 non-null object\n",
      "ApplicantZip                  7193 non-null object\n",
      "dtypes: datetime64[ns](1), float64(19), int64(5), object(41)\n",
      "memory usage: 4.0+ MB\n"
     ]
    }
   ],
   "source": [
    "data_raw.info()"
   ]
  },
  {
   "cell_type": "code",
   "execution_count": null,
   "metadata": {},
   "outputs": [],
   "source": []
  }
 ],
 "metadata": {
  "kernelspec": {
   "display_name": "Python 3",
   "language": "python",
   "name": "python3"
  },
  "language_info": {
   "codemirror_mode": {
    "name": "ipython",
    "version": 3
   },
   "file_extension": ".py",
   "mimetype": "text/x-python",
   "name": "python",
   "nbconvert_exporter": "python",
   "pygments_lexer": "ipython3",
   "version": "3.6.5"
  }
 },
 "nbformat": 4,
 "nbformat_minor": 2
}
