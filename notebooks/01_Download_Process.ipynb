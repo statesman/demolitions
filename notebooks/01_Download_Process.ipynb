{
 "cells": [
  {
   "cell_type": "markdown",
   "metadata": {},
   "source": [
    "# Preparing demolition data by the City of Austin\n",
    "\n",
    "- We start with [Construction permits](https://data.austintexas.gov/Building-and-Development/Issued-Construction-Permits/3syk-w9eu/data) published on the city's Socrata data porta.\n",
    "- We've flitered it to permits for [full building demolitions](https://data.austintexas.gov/Building-and-Development/demolitions-full-post2017/4d8v-cjdw) and for [partial demos](https://data.austintexas.gov/Building-and-Development/demolitions-partial-post2007/8qw5-9tag).\n",
    "- We combine those and apply some global filtering to get active/complete residential permits and to clip permits newer than June 30, 2018.\n",
    "- We then split again to apply filters specific to full or partial demos.\n",
    "- We export the data gain for analysis in other notebooks."
   ]
  },
  {
   "cell_type": "markdown",
   "metadata": {},
   "source": [
    "## Set up and configurations"
   ]
  },
  {
   "cell_type": "code",
   "execution_count": 1,
   "metadata": {},
   "outputs": [],
   "source": [
    "import pandas as pd"
   ]
  },
  {
   "cell_type": "markdown",
   "metadata": {},
   "source": [
    "## Download file from Socrata\n",
    "\n",
    "This is the full building demolitions filter noted above."
   ]
  },
  {
   "cell_type": "code",
   "execution_count": 2,
   "metadata": {},
   "outputs": [
    {
     "name": "stderr",
     "output_type": "stream",
     "text": [
      "  % Total    % Received % Xferd  Average Speed   Time    Time     Time  Current\n",
      "                                 Dload  Upload   Total   Spent    Left  Speed\n",
      "100 5814k    0 5814k    0     0  1224k      0 --:--:--  0:00:04 --:--:-- 1224k\n",
      "  % Total    % Received % Xferd  Average Speed   Time    Time     Time  Current\n",
      "                                 Dload  Upload   Total   Spent    Left  Speed\n",
      "100 5926k    0 5926k    0     0   761k      0 --:--:--  0:00:07 --:--:--  785k\n"
     ]
    }
   ],
   "source": [
    "%%bash\n",
    "curl -L -o ../data-raw/full-downloaded.csv \\\n",
    "https://data.austintexas.gov/resource/4d8v-cjdw.csv?\\$limit=10000\n",
    "curl -L -o ../data-raw/partials-downloaded.csv \\\n",
    "https://data.austintexas.gov/resource/8qw5-9tag.csv?\\$limit=10000"
   ]
  },
  {
   "cell_type": "markdown",
   "metadata": {},
   "source": [
    "## Import and processing"
   ]
  },
  {
   "cell_type": "code",
   "execution_count": 3,
   "metadata": {},
   "outputs": [
    {
     "data": {
      "text/plain": [
       "(7908, 66)"
      ]
     },
     "execution_count": 3,
     "metadata": {},
     "output_type": "execute_result"
    }
   ],
   "source": [
    "# Column type fixes\n",
    "column_types = {\n",
    "    \"ApplicantPhone\": pd.np.str,\n",
    "    \"ContractorPhone\": pd.np.str,\n",
    "    'CalendarYearIssued': pd.np.str,\n",
    "}\n",
    "\n",
    "# import raw data\n",
    "raw_full = pd.read_csv(\n",
    "    '../data-raw/full-downloaded.csv',\n",
    "    index_col=None,\n",
    "    dtype=column_types,\n",
    "    parse_dates=['IssuedDate']\n",
    ")\n",
    "\n",
    "raw_full.shape"
   ]
  },
  {
   "cell_type": "code",
   "execution_count": 4,
   "metadata": {},
   "outputs": [
    {
     "data": {
      "text/plain": [
       "(6336, 66)"
      ]
     },
     "execution_count": 4,
     "metadata": {},
     "output_type": "execute_result"
    }
   ],
   "source": [
    "# import partials data\n",
    "raw_partial = pd.read_csv(\n",
    "    '../data-raw/partials-downloaded.csv',\n",
    "    index_col=None,\n",
    "    dtype=column_types,\n",
    "    parse_dates=['IssuedDate']\n",
    ")\n",
    "\n",
    "raw_partial.shape"
   ]
  },
  {
   "cell_type": "markdown",
   "metadata": {},
   "source": [
    "### Combine full and partial demos"
   ]
  },
  {
   "cell_type": "code",
   "execution_count": 5,
   "metadata": {},
   "outputs": [
    {
     "data": {
      "text/plain": [
       "(14244, 66)"
      ]
     },
     "execution_count": 5,
     "metadata": {},
     "output_type": "execute_result"
    }
   ],
   "source": [
    "data_raw = pd.concat([raw_full,raw_partial])\n",
    "\n",
    "data_raw.shape"
   ]
  },
  {
   "cell_type": "markdown",
   "metadata": {},
   "source": [
    "## Global filters\n",
    "\n",
    "For any filters that might apply beyond residential permits, in case we look at those later."
   ]
  },
  {
   "cell_type": "markdown",
   "metadata": {},
   "source": [
    "### Create Partial vs Full flag\n",
    "\n",
    "Since we are working with both full and partial demolitions, we need a flag to separate them so we can apply filters later that are specific to each."
   ]
  },
  {
   "cell_type": "code",
   "execution_count": 6,
   "metadata": {},
   "outputs": [
    {
     "data": {
      "text/plain": [
       "Full       7908\n",
       "Partial    6336\n",
       "Name: DemoType, dtype: int64"
      ]
     },
     "execution_count": 6,
     "metadata": {},
     "output_type": "execute_result"
    }
   ],
   "source": [
    "# function to determine type\n",
    "def set_demo_type(row):\n",
    "    \"\"\" Function to evaluate demolition type. \"\"\"\n",
    "\n",
    "    if row['WorkClass'] == 'Demolition':\n",
    "        return 'Full'\n",
    "    else:\n",
    "        return 'Partial'\n",
    "\n",
    "# apply get_winner function to new column through .assign\n",
    "data_typed = data_raw.assign(\n",
    "    DemoType=data_raw.apply(\n",
    "        set_demo_type,\n",
    "        axis=1\n",
    "        )\n",
    ")\n",
    "\n",
    "# peek at it\n",
    "data_typed.DemoType.value_counts()"
   ]
  },
  {
   "cell_type": "markdown",
   "metadata": {},
   "source": [
    "### Filter for permit status\n",
    "\n",
    "We want only Active and Final, per interview with the city. "
   ]
  },
  {
   "cell_type": "code",
   "execution_count": 7,
   "metadata": {},
   "outputs": [
    {
     "data": {
      "text/plain": [
       "Final                              9703\n",
       "Expired                            2059\n",
       "Active                             1639\n",
       "VOID                                612\n",
       "Withdrawn                           212\n",
       "Inactive Pending Revision             9\n",
       "Aborted                               4\n",
       "Cancelled - Contractor Required       2\n",
       "On Hold                               2\n",
       "Closed                                2\n",
       "Name: StatusCurrent, dtype: int64"
      ]
     },
     "execution_count": 7,
     "metadata": {},
     "output_type": "execute_result"
    }
   ],
   "source": [
    "# Consider permit status. \n",
    "data_typed.StatusCurrent.value_counts()"
   ]
  },
  {
   "cell_type": "code",
   "execution_count": 8,
   "metadata": {},
   "outputs": [
    {
     "data": {
      "text/plain": [
       "(11342, 67)"
      ]
     },
     "execution_count": 8,
     "metadata": {},
     "output_type": "execute_result"
    }
   ],
   "source": [
    "# We want only Active and Final, per city\n",
    "permit_status_filtered = data_typed[\n",
    "    (data_typed['StatusCurrent'] == 'Active')\n",
    "    | (data_typed['StatusCurrent'] == 'Final')\n",
    "]\n",
    "permit_status_filtered.shape"
   ]
  },
  {
   "cell_type": "markdown",
   "metadata": {},
   "source": [
    "### Filter for residential vs commercial"
   ]
  },
  {
   "cell_type": "code",
   "execution_count": 9,
   "metadata": {},
   "outputs": [
    {
     "data": {
      "text/plain": [
       "Residential    10531\n",
       "Commercial       811\n",
       "Name: PermitClassMapped, dtype: int64"
      ]
     },
     "execution_count": 9,
     "metadata": {},
     "output_type": "execute_result"
    }
   ],
   "source": [
    "# show residential vs commercial\n",
    "permit_status_filtered.PermitClassMapped.value_counts()"
   ]
  },
  {
   "cell_type": "code",
   "execution_count": 10,
   "metadata": {},
   "outputs": [
    {
     "data": {
      "text/plain": [
       "(10531, 67)"
      ]
     },
     "execution_count": 10,
     "metadata": {},
     "output_type": "execute_result"
    }
   ],
   "source": [
    "# filter to just residential premits\n",
    "filtered_residential = permit_status_filtered[\n",
    "    permit_status_filtered['PermitClassMapped'] == 'Residential'\n",
    "]\n",
    "filtered_residential.shape"
   ]
  },
  {
   "cell_type": "markdown",
   "metadata": {},
   "source": [
    "### Cut off June 30, 2018"
   ]
  },
  {
   "cell_type": "code",
   "execution_count": 11,
   "metadata": {},
   "outputs": [
    {
     "data": {
      "text/plain": [
       "(10497, 67)"
      ]
     },
     "execution_count": 11,
     "metadata": {},
     "output_type": "execute_result"
    }
   ],
   "source": [
    "# filter by date to set at half the year\n",
    "cutoff = filtered_residential[filtered_residential['IssuedDate'] < '2018-07-01']\n",
    "cutoff.shape"
   ]
  },
  {
   "cell_type": "markdown",
   "metadata": {},
   "source": [
    "### Set demolitions_all dataframe and export"
   ]
  },
  {
   "cell_type": "code",
   "execution_count": 12,
   "metadata": {},
   "outputs": [
    {
     "data": {
      "text/plain": [
       "(10497, 67)"
      ]
     },
     "execution_count": 12,
     "metadata": {},
     "output_type": "execute_result"
    }
   ],
   "source": [
    "# Set final dataframe for analysis\n",
    "demolitions_all = cutoff\n",
    "demolitions_all.to_csv('../data-processed/demolitions_all.csv')\n",
    "demolitions_all.shape"
   ]
  },
  {
   "cell_type": "markdown",
   "metadata": {},
   "source": [
    "## Filters specific to full demolitions\n",
    "\n",
    "We filter the full demolitions by one- and two-family homes to remove garages, etc."
   ]
  },
  {
   "cell_type": "code",
   "execution_count": 13,
   "metadata": {},
   "outputs": [
    {
     "data": {
      "text/plain": [
       "R- 101 Single Family Houses                 15\n",
       "R- 102 Secondary Apartment                   9\n",
       "R- 103 Two Family Bldgs                      2\n",
       "R- 329 Res Structures Other Than Bldg       20\n",
       "R- 330  Accessory Use to Primary            18\n",
       "R- 434 Addition & Alterations             5062\n",
       "R- 435 Renovations/Remodel                 588\n",
       "R- 436 Addn to increase housing units        1\n",
       "R- 437 Residential Boat Dock                 1\n",
       "R- 438 Residential Garage/Carport Addn      11\n",
       "R- 645 Demolition One Family Homes        3044\n",
       "R- 646 Demolition Two Family Bldgs         121\n",
       "R- 649 Demolition All Other Bldgs Res     1605\n",
       "Name: PermitClass, dtype: int64"
      ]
     },
     "execution_count": 13,
     "metadata": {},
     "output_type": "execute_result"
    }
   ],
   "source": [
    "# Look at Permit class to spot those the are full demos\n",
    "demolitions_all['PermitClass'].value_counts().sort_index()"
   ]
  },
  {
   "cell_type": "code",
   "execution_count": 14,
   "metadata": {},
   "outputs": [
    {
     "data": {
      "text/plain": [
       "R- 645 Demolition One Family Homes    3044\n",
       "R- 646 Demolition Two Family Bldgs     121\n",
       "Name: PermitClass, dtype: int64"
      ]
     },
     "execution_count": 14,
     "metadata": {},
     "output_type": "execute_result"
    }
   ],
   "source": [
    "# Filter to only full demo homes people live in\n",
    "filtered_homes = demolitions_all[\n",
    "    (demolitions_all['PermitClass'] == \"R- 645 Demolition One Family Homes\")\n",
    "    | (demolitions_all['PermitClass'] == \"R- 646 Demolition Two Family Bldgs\")\n",
    "]\n",
    "\n",
    "# peek at the results\n",
    "filtered_homes.PermitClass.value_counts()"
   ]
  },
  {
   "cell_type": "markdown",
   "metadata": {},
   "source": [
    "### Set Full demolitions dataframe and export"
   ]
  },
  {
   "cell_type": "code",
   "execution_count": 15,
   "metadata": {},
   "outputs": [
    {
     "data": {
      "text/plain": [
       "(3165, 67)"
      ]
     },
     "execution_count": 15,
     "metadata": {},
     "output_type": "execute_result"
    }
   ],
   "source": [
    "demolitions_full = filtered_homes\n",
    "demolitions_full.to_csv('../data-processed/demolitions_full.csv')\n",
    "demolitions_full.shape"
   ]
  },
  {
   "cell_type": "markdown",
   "metadata": {},
   "source": [
    "## Filters specific to partial demolitions"
   ]
  },
  {
   "cell_type": "code",
   "execution_count": 16,
   "metadata": {},
   "outputs": [
    {
     "data": {
      "text/plain": [
       "(5727, 67)"
      ]
     },
     "execution_count": 16,
     "metadata": {},
     "output_type": "execute_result"
    }
   ],
   "source": [
    "# filter all demos to those we designated as Partials\n",
    "filtered_demotype_partial = demolitions_all[demolitions_all['DemoType'] == 'Partial']\n",
    "filtered_demotype_partial.shape"
   ]
  },
  {
   "cell_type": "code",
   "execution_count": 17,
   "metadata": {},
   "outputs": [
    {
     "data": {
      "text/plain": [
       "Addition and Remodel    4389\n",
       "Addition                 678\n",
       "Remodel                  532\n",
       "New                       72\n",
       "Repair                    52\n",
       "Life Safety                4\n",
       "Name: WorkClass, dtype: int64"
      ]
     },
     "execution_count": 17,
     "metadata": {},
     "output_type": "execute_result"
    }
   ],
   "source": [
    "# look at the WorkClass so we can filter on them.\n",
    "filtered_demotype_partial.WorkClass.value_counts()"
   ]
  },
  {
   "cell_type": "code",
   "execution_count": 18,
   "metadata": {},
   "outputs": [],
   "source": [
    "# Filter on WorkClass to get to possible additions\n",
    "# SHOULD I REMOVE THE \"REMODEL\" WORKCLASS??????? \n",
    "partials_workclass = filtered_demotype_partial[\n",
    "    (filtered_demotype_partial['WorkClass'] == \"Addition and Remodel\")\n",
    "    | (filtered_demotype_partial['WorkClass'] == \"Addition\")\n",
    "]"
   ]
  },
  {
   "cell_type": "code",
   "execution_count": 19,
   "metadata": {},
   "outputs": [
    {
     "data": {
      "text/plain": [
       "R- 434 Addition & Alterations             5062\n",
       "R- 438 Residential Garage/Carport Addn       4\n",
       "R- 436 Addn to increase housing units        1\n",
       "Name: PermitClass, dtype: int64"
      ]
     },
     "execution_count": 19,
     "metadata": {},
     "output_type": "execute_result"
    }
   ],
   "source": [
    "# Look at PermitClass to filter them\n",
    "partials_workclass.PermitClass.value_counts()"
   ]
  },
  {
   "cell_type": "code",
   "execution_count": 20,
   "metadata": {},
   "outputs": [
    {
     "data": {
      "text/plain": [
       "(5063, 67)"
      ]
     },
     "execution_count": 20,
     "metadata": {},
     "output_type": "execute_result"
    }
   ],
   "source": [
    "# filter to remove garage/carports\n",
    "partials_permitclass = partials_workclass[\n",
    "    (partials_workclass['PermitClass'] != 'R- 438 Residential Garage/Carport Addn')\n",
    "]\n",
    "partials_permitclass.shape"
   ]
  },
  {
   "cell_type": "markdown",
   "metadata": {},
   "source": [
    "### Set partials dataframe and export"
   ]
  },
  {
   "cell_type": "code",
   "execution_count": 21,
   "metadata": {},
   "outputs": [
    {
     "data": {
      "text/plain": [
       "(5063, 67)"
      ]
     },
     "execution_count": 21,
     "metadata": {},
     "output_type": "execute_result"
    }
   ],
   "source": [
    "demolitions_partial = partials_permitclass\n",
    "demolitions_partial.to_csv('../data-processed/demolitions_partial.csv')\n",
    "demolitions_partial.shape"
   ]
  },
  {
   "cell_type": "markdown",
   "metadata": {},
   "source": [
    "## Reference\n",
    "Ignore this. It's just for reference."
   ]
  },
  {
   "cell_type": "code",
   "execution_count": 22,
   "metadata": {},
   "outputs": [
    {
     "name": "stdout",
     "output_type": "stream",
     "text": [
      "<class 'pandas.core.frame.DataFrame'>\n",
      "Int64Index: 14244 entries, 0 to 6335\n",
      "Data columns (total 67 columns):\n",
      "PermitType                    14244 non-null object\n",
      "PermitTypeDesc                14244 non-null object\n",
      "PermitNum                     14244 non-null object\n",
      "PermitClassMapped             14244 non-null object\n",
      "PermitClass                   14244 non-null object\n",
      "WorkClass                     14244 non-null object\n",
      "Condominium                   14244 non-null object\n",
      "ProjectName                   14244 non-null object\n",
      "Description                   14244 non-null object\n",
      "TCAD_ID                       14151 non-null object\n",
      "PropertyLegalDescription      13267 non-null object\n",
      "AppliedDate                   14244 non-null object\n",
      "IssuedDate                    14244 non-null datetime64[ns]\n",
      "DayIssued                     14244 non-null object\n",
      "CalendarYearIssued            14244 non-null object\n",
      "FiscalYearIssued              14244 non-null int64\n",
      "IssuedInLast30Days            14244 non-null object\n",
      "IssuanceMethod                14244 non-null object\n",
      "StatusCurrent                 14244 non-null object\n",
      "StatusDate                    14244 non-null object\n",
      "ExpiresDate                   14244 non-null object\n",
      "CompletedDate                 9904 non-null object\n",
      "TotalExistingBldgSQFT         7905 non-null float64\n",
      "RemodelRepairSQFT             1151 non-null float64\n",
      "TotalNewAddSQFT               5660 non-null float64\n",
      "TotalValuationRemodel         5392 non-null float64\n",
      "TotalJobValuation             13629 non-null float64\n",
      "NumberOfFloors                14243 non-null float64\n",
      "HousingUnits                  14243 non-null float64\n",
      "BuildingValuation             6 non-null float64\n",
      "BuildingValuationRemodel      5460 non-null float64\n",
      "ElectricalValuation           6 non-null float64\n",
      "ElectricalValuationRemodel    5459 non-null float64\n",
      "MechanicalValuation           6 non-null float64\n",
      "MechanicalValuationRemodel    5459 non-null float64\n",
      "PlumbingValuation             6 non-null float64\n",
      "PlumbingValuationRemodel      5458 non-null float64\n",
      "MedGasValuation               0 non-null float64\n",
      "MedGasValuationRemodel        8 non-null float64\n",
      "OriginalAddress1              14244 non-null object\n",
      "OriginalCity                  14244 non-null object\n",
      "OriginalState                 14244 non-null object\n",
      "OriginalZip                   14244 non-null int64\n",
      "CouncilDistrict               14191 non-null float64\n",
      "Jurisdiction                  14244 non-null object\n",
      "Link                          14244 non-null object\n",
      "ProjectID                     14244 non-null int64\n",
      "MasterPermitNum               14189 non-null float64\n",
      "Latitude                      14244 non-null float64\n",
      "Longitude                     14244 non-null float64\n",
      "Location                      14244 non-null object\n",
      "ContractorTrade               14142 non-null object\n",
      "ContractorCompanyName         11887 non-null object\n",
      "ContractorFullName            9302 non-null object\n",
      "ContractorPhone               14066 non-null object\n",
      "ContractorAddress1            10382 non-null object\n",
      "ContractorAddress2            12934 non-null object\n",
      "ContractorCity                14113 non-null object\n",
      "ContractorZip                 13724 non-null object\n",
      "ApplicantFullName             8632 non-null object\n",
      "ApplicantOrganization         11179 non-null object\n",
      "ApplicantPhone                13137 non-null object\n",
      "ApplicantAddress1             9609 non-null object\n",
      "ApplicantAddress2             12096 non-null object\n",
      "ApplicantCity                 13185 non-null object\n",
      "ApplicantZip                  12832 non-null object\n",
      "DemoType                      14244 non-null object\n",
      "dtypes: datetime64[ns](1), float64(21), int64(3), object(42)\n",
      "memory usage: 7.4+ MB\n"
     ]
    }
   ],
   "source": [
    "data_typed.info()"
   ]
  },
  {
   "cell_type": "code",
   "execution_count": null,
   "metadata": {},
   "outputs": [],
   "source": []
  }
 ],
 "metadata": {
  "kernelspec": {
   "display_name": "Python 3",
   "language": "python",
   "name": "python3"
  },
  "language_info": {
   "codemirror_mode": {
    "name": "ipython",
    "version": 3
   },
   "file_extension": ".py",
   "mimetype": "text/x-python",
   "name": "python",
   "nbconvert_exporter": "python",
   "pygments_lexer": "ipython3",
   "version": "3.6.5"
  }
 },
 "nbformat": 4,
 "nbformat_minor": 2
}
