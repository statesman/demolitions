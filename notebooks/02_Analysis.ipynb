{
 "cells": [
  {
   "cell_type": "code",
   "execution_count": 1,
   "metadata": {},
   "outputs": [],
   "source": [
    "import agate"
   ]
  },
  {
   "cell_type": "code",
   "execution_count": 2,
   "metadata": {},
   "outputs": [],
   "source": [
    "# %run 01_Download_Process.ipynb"
   ]
  },
  {
   "cell_type": "code",
   "execution_count": 3,
   "metadata": {},
   "outputs": [],
   "source": [
    "specified_types = {\n",
    "    'Condominium': agate.Text(),\n",
    "    'CalendarYearIssued': agate.Text(),\n",
    "    'DayIssued': agate.Text(),\n",
    "    'IssuedInLast30Days': agate.Text(),\n",
    "    'MedGasValuation': agate.Text(),\n",
    "    'MedGasValuationRemodel': agate.Text(),\n",
    "    'OriginalZip': agate.Text(),\n",
    "    'ContractorZip': agate.Text(),\n",
    "    'ApplicantZip': agate.Text(),\n",
    "    'ContractorPhone': agate.Text(),\n",
    "    'ApplicantPhone': agate.Text(),\n",
    "}\n",
    "\n",
    "demolitions = agate.Table.from_csv(\n",
    "    '../data-processed/demolitions.csv',\n",
    "    column_types=specified_types\n",
    ")"
   ]
  },
  {
   "cell_type": "code",
   "execution_count": 4,
   "metadata": {},
   "outputs": [
    {
     "name": "stdout",
     "output_type": "stream",
     "text": [
      "| column                     | data_type |\n",
      "| -------------------------- | --------- |\n",
      "| PermitType                 | Text      |\n",
      "| PermitTypeDesc             | Text      |\n",
      "| PermitNum                  | Text      |\n",
      "| PermitClassMapped          | Text      |\n",
      "| PermitClass                | Text      |\n",
      "| WorkClass                  | Text      |\n",
      "| Condominium                | Text      |\n",
      "| ProjectName                | Text      |\n",
      "| Description                | Text      |\n",
      "| TCAD_ID                    | Text      |\n",
      "| PropertyLegalDescription   | Text      |\n",
      "| AppliedDate                | Date      |\n",
      "| IssuedDate                 | Date      |\n",
      "| DayIssued                  | Text      |\n",
      "| CalendarYearIssued         | Text      |\n",
      "| FiscalYearIssued           | Number    |\n",
      "| IssuedInLast30Days         | Text      |\n",
      "| IssuanceMethod             | Text      |\n",
      "| StatusCurrent              | Text      |\n",
      "| StatusDate                 | Date      |\n",
      "| ExpiresDate                | Date      |\n",
      "| CompletedDate              | Date      |\n",
      "| TotalExistingBldgSQFT      | Number    |\n",
      "| RemodelRepairSQFT          | Number    |\n",
      "| TotalNewAddSQFT            | Number    |\n",
      "| TotalValuationRemodel      | Number    |\n",
      "| TotalJobValuation          | Number    |\n",
      "| NumberOfFloors             | Number    |\n",
      "| HousingUnits               | Number    |\n",
      "| BuildingValuation          | Number    |\n",
      "| BuildingValuationRemodel   | Number    |\n",
      "| ElectricalValuation        | Number    |\n",
      "| ElectricalValuationRemodel | Number    |\n",
      "| MechanicalValuation        | Number    |\n",
      "| MechanicalValuationRemodel | Number    |\n",
      "| PlumbingValuation          | Number    |\n",
      "| PlumbingValuationRemodel   | Number    |\n",
      "| MedGasValuation            | Text      |\n",
      "| MedGasValuationRemodel     | Text      |\n",
      "| OriginalAddress1           | Text      |\n",
      "| OriginalCity               | Text      |\n",
      "| OriginalState              | Text      |\n",
      "| OriginalZip                | Text      |\n",
      "| CouncilDistrict            | Number    |\n",
      "| Jurisdiction               | Text      |\n",
      "| Link                       | Text      |\n",
      "| ProjectID                  | Number    |\n",
      "| MasterPermitNum            | Number    |\n",
      "| Latitude                   | Number    |\n",
      "| Longitude                  | Number    |\n",
      "| Location                   | Text      |\n",
      "| ContractorTrade            | Text      |\n",
      "| ContractorCompanyName      | Text      |\n",
      "| ContractorFullName         | Text      |\n",
      "| ContractorPhone            | Text      |\n",
      "| ContractorAddress1         | Text      |\n",
      "| ContractorAddress2         | Text      |\n",
      "| ContractorCity             | Text      |\n",
      "| ContractorZip              | Text      |\n",
      "| ApplicantFullName          | Text      |\n",
      "| ApplicantOrganization      | Text      |\n",
      "| ApplicantPhone             | Text      |\n",
      "| ApplicantAddress1          | Text      |\n",
      "| ApplicantAddress2          | Text      |\n",
      "| ApplicantCity              | Text      |\n",
      "| ApplicantZip               | Text      |\n",
      "| DemoType                   | Text      |\n",
      "\n"
     ]
    }
   ],
   "source": [
    "# print the columns for reference\n",
    "print(demolitions)"
   ]
  },
  {
   "cell_type": "markdown",
   "metadata": {},
   "source": [
    "### Looking at WorkClass differences"
   ]
  },
  {
   "cell_type": "code",
   "execution_count": 5,
   "metadata": {},
   "outputs": [
    {
     "name": "stdout",
     "output_type": "stream",
     "text": [
      "All WorkClass:\n",
      "\n",
      "| WorkClass            | Count |\n",
      "| -------------------- | ----- |\n",
      "| Demolition           | 5,480 |\n",
      "| Addition and Remodel | 4,303 |\n",
      "| Addition             |   671 |\n",
      "| New                  |    65 |\n",
      "| Remodel              |   538 |\n",
      "| Repair               |    52 |\n",
      "| Life Safety          |     4 |\n",
      "\n",
      "Addition and Remodel:\n",
      "\n",
      "CalendarYearIssued Count\n",
      "2018                 233 ▓░░░░░░░░░░░░░                               \n",
      "2017                 673 ▓░░░░░░░░░░░░░░░░░░░░░░░░░░░░░░░░░░░░░       \n",
      "2016                 762 ▓░░░░░░░░░░░░░░░░░░░░░░░░░░░░░░░░░░░░░░░░░░  \n",
      "2015                 624 ▓░░░░░░░░░░░░░░░░░░░░░░░░░░░░░░░░░░          \n",
      "2014                 445 ▓░░░░░░░░░░░░░░░░░░░░░░░░                    \n",
      "2013                 402 ▓░░░░░░░░░░░░░░░░░░░░░░                      \n",
      "2012                 320 ▓░░░░░░░░░░░░░░░░░░                          \n",
      "2011                 304 ▓░░░░░░░░░░░░░░░░░                           \n",
      "2010                 223 ▓░░░░░░░░░░░░                                \n",
      "2009                 189 ▓░░░░░░░░░░                                  \n",
      "2008                 128 ▓░░░░░░░                                     \n",
      "                         +----------+----------+----------+----------+\n",
      "                         0         200        400        600       800\n",
      "\n",
      "Remodel:\n",
      "\n",
      "CalendarYearIssued Count\n",
      "2017                   2 ▓                                            \n",
      "2016                  10 ▓░░                                          \n",
      "2015                  72 ▓░░░░░░░░░░░░░░░░                            \n",
      "2014                 110 ▓░░░░░░░░░░░░░░░░░░░░░░░░                    \n",
      "2013                  89 ▓░░░░░░░░░░░░░░░░░░░░                        \n",
      "2012                  72 ▓░░░░░░░░░░░░░░░░                            \n",
      "2011                  71 ▓░░░░░░░░░░░░░░░░                            \n",
      "2010                  39 ▓░░░░░░░░░                                   \n",
      "2009                  46 ▓░░░░░░░░░░                                  \n",
      "2008                  27 ▓░░░░░░                                      \n",
      "                         +----------+----------+----------+----------+\n",
      "                         0         50         100        150       200\n",
      "\n",
      "Addition:\n",
      "\n",
      "CalendarYearIssued Count\n",
      "2018                  22 ▓░░░░░                                       \n",
      "2017                  20 ▓░░░░                                        \n",
      "2016                   2 ▓                                            \n",
      "2015                  82 ▓░░░░░░░░░░░░░░░░░░                          \n",
      "2014                  89 ▓░░░░░░░░░░░░░░░░░░░░                        \n",
      "2013                  94 ▓░░░░░░░░░░░░░░░░░░░░░                       \n",
      "2012                 110 ▓░░░░░░░░░░░░░░░░░░░░░░░░                    \n",
      "2011                 100 ▓░░░░░░░░░░░░░░░░░░░░░░                      \n",
      "2010                  61 ▓░░░░░░░░░░░░░                               \n",
      "2009                  66 ▓░░░░░░░░░░░░░░░                             \n",
      "2008                  25 ▓░░░░░░                                      \n",
      "                         +----------+----------+----------+----------+\n",
      "                         0         50         100        150       200\n"
     ]
    }
   ],
   "source": [
    "# thought is \"Addition and Remodel\" is used more than\n",
    "# those fields alone, perhaps because they are more flexible\n",
    "\n",
    "# see permit class type.\n",
    "print('All WorkClass:\\n')\n",
    "demolitions.pivot(['WorkClass']).print_table()\n",
    "\n",
    "# print('\\nAddition, Remodel and \"Addition and Remodel\" WorkClass by year:\\n')\n",
    "# demolitions.where(lambda row: row['WorkClass'] in ['Addition and Remodel', 'Addition', 'Remodel'])\\\n",
    "# .order_by('WorkClass').order_by('CalendarYearIssued').pivot(['CalendarYearIssued','WorkClass'])\\\n",
    "# .print_table(max_rows=None)\n",
    "\n",
    "print('\\nAddition and Remodel:\\n')\n",
    "demolitions.where(lambda r: r['WorkClass'] == 'Addition and Remodel')\\\n",
    "    .pivot(['CalendarYearIssued','WorkClass'])\\\n",
    "    .print_bars('CalendarYearIssued', 'Count', width=70)\n",
    "\n",
    "print('\\nRemodel:\\n')\n",
    "demolitions.where(lambda r: r['WorkClass'] == 'Remodel')\\\n",
    "    .pivot(['CalendarYearIssued','WorkClass'])\\\n",
    "    .print_bars('CalendarYearIssued', 'Count', width=70)\n",
    "\n",
    "print('\\nAddition:\\n')\n",
    "demolitions.where(lambda r: r['WorkClass'] == 'Addition')\\\n",
    "    .pivot(['CalendarYearIssued','WorkClass'])\\\n",
    "    .print_bars('CalendarYearIssued', 'Count', width=70)\n",
    "\n",
    "\n"
   ]
  },
  {
   "cell_type": "markdown",
   "metadata": {},
   "source": [
    "### Overall statistics"
   ]
  },
  {
   "cell_type": "code",
   "execution_count": 6,
   "metadata": {},
   "outputs": [
    {
     "name": "stdout",
     "output_type": "stream",
     "text": [
      "CalendarYearIssued Count\n",
      "2018                 530 ▓░░░░░░░░░░░░                                \n",
      "2017               1,553 ▓░░░░░░░░░░░░░░░░░░░░░░░░░░░░░░░░░░          \n",
      "2016               1,478 ▓░░░░░░░░░░░░░░░░░░░░░░░░░░░░░░░░░           \n",
      "2015               1,380 ▓░░░░░░░░░░░░░░░░░░░░░░░░░░░░░░              \n",
      "2014               1,269 ▓░░░░░░░░░░░░░░░░░░░░░░░░░░░░                \n",
      "2013               1,172 ▓░░░░░░░░░░░░░░░░░░░░░░░░░░                  \n",
      "2012               1,115 ▓░░░░░░░░░░░░░░░░░░░░░░░░░                   \n",
      "2011                 906 ▓░░░░░░░░░░░░░░░░░░░░                        \n",
      "2010                 641 ▓░░░░░░░░░░░░░░                              \n",
      "2009                 615 ▓░░░░░░░░░░░░░░                              \n",
      "2008                 454 ▓░░░░░░░░░░                                  \n",
      "                         +----------+----------+----------+----------+\n",
      "                         0         500       1,000      1,500    2,000\n"
     ]
    }
   ],
   "source": [
    "# overall by year\n",
    "demolitions.pivot(['CalendarYearIssued']).print_bars('CalendarYearIssued', 'Count', width=70)"
   ]
  },
  {
   "cell_type": "markdown",
   "metadata": {},
   "source": [
    "### Commercial vs Residential"
   ]
  },
  {
   "cell_type": "code",
   "execution_count": 41,
   "metadata": {},
   "outputs": [
    {
     "name": "stdout",
     "output_type": "stream",
     "text": [
      "pivot of PermitClassMapped from table above:\n",
      "\n",
      "| PermitClassMapped |  Count |\n",
      "| ----------------- | ------ |\n",
      "| Residential       | 10,301 |\n",
      "| Commercial        |    812 |\n",
      "\n",
      "Length of all demolitions: 11113\n",
      "\n",
      "Length of residential subset: 10301\n",
      "Length of commercial subset: 812\n"
     ]
    }
   ],
   "source": [
    "# filter to keep residential but not commercial\n",
    "\n",
    "# see the breakdown by PermitClassMapped\n",
    "print('pivot of PermitClassMapped from table above:\\n')\n",
    "demolitions.pivot(['PermitClassMapped']).print_table(max_rows=None)\n",
    "print('\\nLength of all demolitions: {}'.format(len(demolitions)))\n",
    "\n",
    "# create residential and commercial subsets\n",
    "residential = demolitions.where(lambda row: row['PermitClassMapped'] == \"Residential\")\n",
    "print('\\nLength of residential subset: {}'.format(len(residential)))\n",
    "\n",
    "commercial = demolitions.where(lambda row: row['PermitClassMapped'] == \"Commercial\")\n",
    "print('Length of commercial subset: {}'.format(len(commercial)))\n",
    "\n"
   ]
  },
  {
   "cell_type": "markdown",
   "metadata": {},
   "source": [
    "### HousingUnits"
   ]
  },
  {
   "cell_type": "code",
   "execution_count": 8,
   "metadata": {},
   "outputs": [
    {
     "name": "stdout",
     "output_type": "stream",
     "text": [
      "| HousingUnits | Count |\n",
      "| ------------ | ----- |\n",
      "|            1 | 9,471 |\n",
      "|            0 |   622 |\n",
      "|            2 |   195 |\n",
      "|            5 |     5 |\n",
      "|            3 |     2 |\n",
      "|            4 |     2 |\n",
      "|       10,575 |     1 |\n",
      "|       11,755 |     1 |\n",
      "|              |     1 |\n",
      "|        1,193 |     1 |\n",
      "\n",
      "Clearly there are some errors in the data, as there are no 10k unit complexes.\n"
     ]
    }
   ],
   "source": [
    "# We looked at housingunits to see if there were\n",
    "# lots of multi-family stuff. Seems mostly not.\n",
    "# Uses residential only\n",
    "residential.pivot(['HousingUnits']).order_by('Count', reverse=True).print_table(max_rows=None)\n",
    "\n",
    "print('\\nClearly there are some errors in the data, as there are no 10k unit complexes.')\n",
    "\n",
    "## TO DO: FIND THE DATA MISTAKES AND UNDERSTAND THEM"
   ]
  },
  {
   "cell_type": "markdown",
   "metadata": {},
   "source": [
    "### Looking at HousingUnit = 0 "
   ]
  },
  {
   "cell_type": "code",
   "execution_count": 9,
   "metadata": {},
   "outputs": [
    {
     "name": "stdout",
     "output_type": "stream",
     "text": [
      "Most of these are non-housing structures. Some ambiguious.\n",
      "\n",
      "| CalendarYearIssued | Description                                                  |\n",
      "| ------------------ | ------------------------------------------------------------ |\n",
      "| 2018               | demolition of detached garage                                |\n",
      "| 2018               | total demo of detached garage                                |\n",
      "| 2018               | demolition carport historic approval in comments             |\n",
      "| 2017               | total demo of detached shed                                  |\n",
      "| 2017               | total demo of detached carport circa 1938                    |\n",
      "| 2017               | Total demolition of garage                                   |\n",
      "| 2016               | Total demolition of detached guest house                     |\n",
      "| 2016               | Total demolition of detached garage                          |\n",
      "| 2016               | Demolish existing boat dock refer SP 2016012993              |\n",
      "| 2015               | Total demo of detached garage                                |\n",
      "| 2015               | Total demolition of 310 sqft concreteslab utility hub        |\n",
      "| 2015               | Total demo of carport                                        |\n",
      "| 2015               | Total demo of detached structure                             |\n",
      "| 2015               | Total demo of detached structureTree Permit required for ... |\n",
      "| 2015               | Total demolition of 800 sqft framepier and beam warehouse    |\n",
      "| 2015               | Total demo of home  Circa 1951                               |\n",
      "| 2015               | Total demo of home  Circa 1959                               |\n",
      "| 2014               | Total demo of home  Circa 1953                               |\n",
      "| 2014               | Total demo of carport                                        |\n",
      "| 2014               | Total demolition of a 576sf piear and beam SFR               |\n",
      "| ...                | ...                                                          |\n"
     ]
    }
   ],
   "source": [
    "# looking further at HousingUnits = 0, which seems off\n",
    "zero_housing = residential.where(lambda row: row['HousingUnits'] == 0)\n",
    "\n",
    "# looking at descriptions to better understand HousingUnit\n",
    "# increase max_rows to see more, or export.\n",
    "\n",
    "print('Most of these are non-housing structures. Some ambiguious.\\n')\n",
    "zero_housing.select(['CalendarYearIssued','Description'])\\\n",
    "    .print_table(max_column_width=60, max_rows=20)"
   ]
  },
  {
   "cell_type": "markdown",
   "metadata": {},
   "source": [
    "### full vs partial"
   ]
  },
  {
   "cell_type": "code",
   "execution_count": 10,
   "metadata": {},
   "outputs": [
    {
     "name": "stdout",
     "output_type": "stream",
     "text": [
      "Both residential/commercial:\n",
      "\n",
      "| DemoType | Count |\n",
      "| -------- | ----- |\n",
      "| Full     | 5,480 |\n",
      "| Partial  | 5,633 |\n",
      "\n",
      "Just residential:\n",
      "\n",
      "| DemoType | Count |\n",
      "| -------- | ----- |\n",
      "| Full     | 4,676 |\n",
      "| Partial  | 5,625 |\n"
     ]
    }
   ],
   "source": [
    "print('Both residential/commercial:\\n')\n",
    "demolitions.pivot('DemoType').print_table()\n",
    "print('\\nJust residential:\\n')\n",
    "residential.pivot('DemoType').print_table()"
   ]
  },
  {
   "cell_type": "code",
   "execution_count": 11,
   "metadata": {},
   "outputs": [],
   "source": [
    "# create a table of partial residential demolitions and export said as file\n",
    "res_partials = residential.where(lambda row: row['DemoType'] == \"Partial\")\n",
    "res_partials.order_by(\n",
    "    'CalendarYearIssued',\n",
    "    reverse=True).select(['CalendarYearIssued','Description'])\\\n",
    "                 .to_csv('../data-processed/res_partial_descriptions.csv')\n"
   ]
  },
  {
   "cell_type": "markdown",
   "metadata": {},
   "source": [
    "## Looking for single-wall demos"
   ]
  },
  {
   "cell_type": "code",
   "execution_count": 12,
   "metadata": {},
   "outputs": [
    {
     "name": "stdout",
     "output_type": "stream",
     "text": [
      "| IssuedDate | DemoType | ProjectName          | Description                                        |\n",
      "| ---------- | -------- | -------------------- | -------------------------------------------------- |\n",
      "| 2015-10-15 | Partial  | 2400 SPRING CREEK DR | Partial demolition of sfres for new addition  r... |\n"
     ]
    }
   ],
   "source": [
    "import re\n",
    "# BOB SECHLER: There apparently is a relatively new one of these (meaning\n",
    "    # currently under construction) on Venado Drive off West Rim in the 78731\n",
    "    # area code. (CONFIRMED BY BOB, PHOTOGRAPHY, 4212 VENADO DR)\n",
    "# SHARON: 3909 BAILEY LN (confirmed BY SHARON)\n",
    "# ADDIE: There’s a vet office on South first (I think this is Paz Veterinary - crit), just south\n",
    "    # of oltorf on the east side of the road.\n",
    "    # - `2613 S 1ST ST` IS A FULL DEMO COMMERCIAL\n",
    "    # And then there’s also a totally renovated convenience store about three blocks\n",
    "    # farther south. I can’t recall the exact name of either but they both had the\n",
    "    # one-wall left during the rebuild, probably last year.\n",
    "    # Addie said this is an Exxon station now\n",
    "    # - 2907 S 1st St (NO DEMOS OR PARTIALS, EVEN COMMERCIAL.\n",
    "# JASON: 1214 WILDERNESS DR (CLASSIFIED AS FULL DEMO)\n",
    "# JAMES GREGG: 1814 E MARTIN LUTHER KING JR BLVD (commercial/ No demolition or partial demo listsed)\n",
    "# DEBORAH: 2314 SANTA RITA ST (confirmed by Deborah)\n",
    "# ANDY: 2400 s. first st (commercial, but I can't find permits)\n",
    "# ANDY: 100 E. Milton St. (commercial, but I can't find permits)\n",
    "# ANDY: 300 W. Monroe (REALLY 1600 NEWTON ST). Not confirmed.\n",
    "# RALPH HAURWITZ: There are two others that are older on Knollwood Drive in the 78731 area code.\n",
    "\n",
    "### Search for single-wall\n",
    "test = demolitions.where(lambda r: re.match('.*2400 S', r['ProjectName']))\n",
    "test.select([\n",
    "    'IssuedDate',\n",
    "    'DemoType',\n",
    "    'ProjectName',\n",
    "    'Description'\n",
    "]).order_by('ProjectName').print_table(max_rows=None, max_column_width=50)"
   ]
  },
  {
   "cell_type": "code",
   "execution_count": 13,
   "metadata": {},
   "outputs": [],
   "source": [
    "# proposed single_wall permit address\n",
    "single_walls = {\n",
    "    '3909 BAILEY LN',\n",
    "    '4212 VENADO DR',\n",
    "    '2314 SANTA RITA ST'\n",
    "}\n",
    "\n",
    "single_wall_descriptions = demolitions.where(lambda r: r['ProjectName'] in single_walls)\n",
    "single_wall_descriptions = single_wall_descriptions.where(lambda r: r['DemoType'] == 'Partial')"
   ]
  },
  {
   "cell_type": "code",
   "execution_count": 14,
   "metadata": {},
   "outputs": [
    {
     "name": "stdout",
     "output_type": "stream",
     "text": [
      "| IssuedDate | DemoType | ProjectName        | Description                                        |\n",
      "| ---------- | -------- | ------------------ | -------------------------------------------------- |\n",
      "| 2018-02-26 | Partial  | 4212 VENADO DR     | PARIAL DEMO 2nd floor addition to existing SFR ... |\n",
      "| 2017-10-10 | Partial  | 2314 SANTA RITA ST | Partial demo for addition and carport roof must... |\n",
      "| 2015-05-21 | Partial  | 3909 BAILEY LN     | Partial demo  Change of Use of an existing dupl... |\n"
     ]
    }
   ],
   "source": [
    "single_wall_descriptions.select([\n",
    "    'IssuedDate',\n",
    "    'DemoType',\n",
    "    'ProjectName',\n",
    "    'Description'\n",
    "]).\\\n",
    "    print_table(max_rows=None, max_column_width=50)"
   ]
  },
  {
   "cell_type": "code",
   "execution_count": 15,
   "metadata": {},
   "outputs": [
    {
     "name": "stdout",
     "output_type": "stream",
     "text": [
      "| Description                                                                                                                                                                                                                                                                                                                                             |\n",
      "| ------------------------------------------------------------------------------------------------------------------------------------------------------------------------------------------------------------------------------------------------------------------------------------------------------------------------------------------------------- |\n",
      "| PARIAL DEMO 2nd floor addition to existing SFR and interior remodel in mm new patio4 BED35 BATH                                                                                                                                                                                                                                                         |\n",
      "| Partial demo for addition and carport roof must be removed to meet total building coverage max 40 Additionremodel of Second floor master Suite bed and bath add and additional 3rd floor office with balcony                                                                                                                                            |\n",
      "| Partial demo  Change of Use of an existing duplex into a single family residence  Single family residence to have 4 bedrooms 35 bathrooms  finished basement an attached via breezeway 2car garage habitable attic with roof deck side and rear porches  1 bedroom and 1 bathroom is on the ground level south of the garage New inground swimming pool |\n"
     ]
    }
   ],
   "source": [
    "single_wall_descriptions.select([\n",
    "    'Description'\n",
    "]).\\\n",
    "    print_table(max_rows=None, max_column_width=None)"
   ]
  },
  {
   "cell_type": "markdown",
   "metadata": {},
   "source": [
    "## Exploring PermitClass variances"
   ]
  },
  {
   "cell_type": "code",
   "execution_count": 24,
   "metadata": {},
   "outputs": [
    {
     "name": "stdout",
     "output_type": "stream",
     "text": [
      "| PermitClass                            | Count |\n",
      "| -------------------------------------- | ----- |\n",
      "| R- 101 Single Family Houses            |    15 |\n",
      "| R- 102 Secondary Apartment             |     8 |\n",
      "| R- 103 Two Family Bldgs                |     2 |\n",
      "| R- 329 Res Structures Other Than Bldg  |    17 |\n",
      "| R- 330  Accessory Use to Primary       |    15 |\n",
      "| R- 434 Addition & Alterations          | 4,967 |\n",
      "| R- 435 Renovations/Remodel             |   588 |\n",
      "| R- 436 Addn to increase housing units  |     1 |\n",
      "| R- 437 Residential Boat Dock           |     1 |\n",
      "| R- 438 Residential Garage/Carport Addn |    11 |\n",
      "| R- 645 Demolition One Family Homes     | 2,993 |\n",
      "| R- 646 Demolition Two Family Bldgs     |   120 |\n",
      "| R- 649 Demolition All Other Bldgs Res  | 1,563 |\n"
     ]
    }
   ],
   "source": [
    "residential.pivot('PermitClass').order_by('PermitClass').print_table(max_column_width=None)"
   ]
  },
  {
   "cell_type": "code",
   "execution_count": 39,
   "metadata": {},
   "outputs": [
    {
     "name": "stdout",
     "output_type": "stream",
     "text": [
      "| WorkClass   | Count |\n",
      "| ----------- | ----- |\n",
      "| Remodel     |   532 |\n",
      "| Repair      |    52 |\n",
      "| Life Safety |     4 |\n"
     ]
    }
   ],
   "source": [
    "res_descripts = residential.where(lambda r: r['PermitClass'] == 'R- 435 Renovations/Remodel')\n",
    "res_subset = res_descripts.where(lambda r: r['WorkClass'] == 'Repair')\n",
    "res_descripts.pivot('WorkClass').print_table()\n"
   ]
  },
  {
   "cell_type": "code",
   "execution_count": 40,
   "metadata": {},
   "outputs": [
    {
     "name": "stdout",
     "output_type": "stream",
     "text": [
      "| Description                                                                                                                                                                                                                                                                                                                                                                                                                                                                                                                          |\n",
      "| ------------------------------------------------------------------------------------------------------------------------------------------------------------------------------------------------------------------------------------------------------------------------------------------------------------------------------------------------------------------------------------------------------------------------------------------------------------------------------------------------------------------------------------ |\n",
      "| Partial demo of existing bathroom wall to enlarge 18 SF move toilet 10  Renovations to kitchen to include cabinetry countertops replace fixtures renovations to 2 bathrooms  to include new vanities new fixtures new tile install new AC system replace windows size for size  Replace electrical system                                                                                                                                                                                                                            |\n",
      "| Partial demolition Int Remodel includes reconfiguring walls to modify layout from office closet and bonus room into a loft area two bedrooms and two bathromms upgrades includes electrical mechanical and plumbing work                                                                                                                                                                                                                                                                                                             |\n",
      "| PARTIAL DEMOLITION   Express permit  The chimney needs to be replaces along with framing and siding from fire damage                                                                                                                                                                                                                                                                                                                                                                                                                 |\n",
      "| Interior remodel  Partial Demolition  Replace front entry door  Paint exterior stucco and window frames  Replace side leftnorth elevation door and window  Remove interior walls  Remodel interior finishes in kitchen and bathrooms  Relocate plumbing  Replace interior and exterior light fixtures                                                                                                                                                                                                                                |\n",
      "| Partial demo Replacerepair chimney on exterior of home  Replace siding as needed                                                                                                                                                                                                                                                                                                                                                                                                                                                     |\n",
      "| Interior Remodel  Partial Demolition  Includes Expired Permits PPEP BP 08081058 and MP 08089466  Remodel and repair existing bathroom in finished basement space  Replace damaged tile and aging galvalnized pipes  Enlarge bath by removing nonstructural interior walls  New opening in exterior concrete block and stucco wall  New plubming fixtures                                                                                                                                                                             |\n",
      "| Partial demo work includes Repair siding as needed to complete demo work performedRemodel kitchen replace cabinets and flooring  Repairupgrade electrical and plumbing  Replace HVAC system and 9 exterior windows                                                                                                                                                                                                                                                                                                                   |\n",
      "| Partial demo of existing roof removal of window and 2 layers of exterior siding to repair rotted framing on south and east sides of house change pitch of roof on south side of house to eliminate flat roof partial reroof of south side of house where pitch changed replace windows on the south and east sides of house replace finishes of interior of top level of house after replacingrepairing rotted framing                                                                                                               |\n",
      "| Partial demo to reverse unpermitted addition due to code violation14050173 CVDemolition of patio addition at rear of the house                                                                                                                                                                                                                                                                                                                                                                                                       |\n",
      "| Partial demo  Remove existing carport  Replace siding on sf res                                                                                                                                                                                                                                                                                                                                                                                                                                                                      |\n",
      "| Partial demo of roof above bathroom to install skylight Interior remodel for exist bathroom Convert single sink to double sink refinish tub replace toilet Fill in existing window in bathroom Repermit expired permit 2011039698 Window replacement on the existing single family residence 5 windows  2 in the front 3 in the back                                                                                                                                                                                                 |\n",
      "| Partial demo  Remove exterior chimney and replace with siding  No tech review required                                                                                                                                                                                                                                                                                                                                                                                                                                               |\n",
      "| Partial demo of exterior wall for exploratory purposes  Will provide engineer recommendations and structurals once exploration is complete                                                                                                                                                                                                                                                                                                                                                                                           |\n",
      "| Partial demo of portions of house repair of those walls and replacement of doors same size                                                                                                                                                                                                                                                                                                                                                                                                                                           |\n",
      "| FIRE DAMAGE  Partial demo of roof trusses and decking back exterior wall and rightside wall  Replace roof windowssidingexterior doors sheetrock insullaton  flooring interior doors decking HVAC ducts lighting electrical wiringoutlets  House and floorplan will remain the same                                                                                                                                                                                                                                                   |\n",
      "| Partial demo of carport metal roof panels  Replacement of metal roof panels on carport                                                                                                                                                                                                                                                                                                                                                                                                                                               |\n",
      "| Partial demo Replace roof windows doors and siding  Work being performed on existing single family res                                                                                                                                                                                                                                                                                                                                                                                                                               |\n",
      "| Partial demo of chimney on westside in backyard  Replace with siding  Work performed on existing single family res                                                                                                                                                                                                                                                                                                                                                                                                                   |\n",
      "| Partial demolition to repair fire damage structure  New roof repair fire damage framing Repair fire damaged wireing drywall insulation flooring paint plumbing mechanical and siding on gables  Roof will not be raised from original height  House will go back exactly as it was Repermit of 2011064090 BP Install 1 replacement patio entry door on the existing single family residence                                                                                                                                          |\n",
      "| fire damage partial demo to entire roof 20 linear feet of rear upper exterior 8 linear feet of upper right face and deck debris remodel repair fire damage replace entire roof replace 20 linear feet of rear upper facade replace 8 linear feet of right facade completely gut and rebuild upstairs master bath suite and downstairs kitchen replace two damaged electrical homeruns replace entire HVAC remove and replace blown in insulation interior and exterior paint new flooring throughout rebuild portion of damaged deck |\n",
      "| ...                                                                                                                                                                                                                                                                                                                                                                                                                                                                                                                                  |\n"
     ]
    }
   ],
   "source": [
    "res_subset.select([\n",
    "    'Description'\n",
    "]).\\\n",
    "    print_table(max_column_width=None)"
   ]
  },
  {
   "cell_type": "code",
   "execution_count": null,
   "metadata": {},
   "outputs": [],
   "source": []
  }
 ],
 "metadata": {
  "kernelspec": {
   "display_name": "Python 3",
   "language": "python",
   "name": "python3"
  },
  "language_info": {
   "codemirror_mode": {
    "name": "ipython",
    "version": 3
   },
   "file_extension": ".py",
   "mimetype": "text/x-python",
   "name": "python",
   "nbconvert_exporter": "python",
   "pygments_lexer": "ipython3",
   "version": "3.6.4"
  }
 },
 "nbformat": 4,
 "nbformat_minor": 2
}
