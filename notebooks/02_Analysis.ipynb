{
 "cells": [
  {
   "cell_type": "code",
   "execution_count": 1,
   "metadata": {},
   "outputs": [],
   "source": [
    "import agate"
   ]
  },
  {
   "cell_type": "code",
   "execution_count": 2,
   "metadata": {},
   "outputs": [],
   "source": [
    "specified_types = {\n",
    "    'Condominium': agate.Text(),\n",
    "    'CalendarYearIssued': agate.Text(),\n",
    "    'DayIssued': agate.Text(),\n",
    "    'IssuedInLast30Days': agate.Text(),\n",
    "    'MedGasValuation': agate.Text(),\n",
    "    'MedGasValuationRemodel': agate.Text(),\n",
    "    'OriginalZip': agate.Text(),\n",
    "    'ContractorZip': agate.Text(),\n",
    "    'ApplicantZip': agate.Text(),\n",
    "    'ContractorPhone': agate.Text(),\n",
    "    'ApplicantPhone': agate.Text(),\n",
    "}\n",
    "\n",
    "demolitions = agate.Table.from_csv(\n",
    "    '../data-processed/demolitions.csv',\n",
    "    column_types=specified_types\n",
    ")"
   ]
  },
  {
   "cell_type": "code",
   "execution_count": 3,
   "metadata": {},
   "outputs": [
    {
     "name": "stdout",
     "output_type": "stream",
     "text": [
      "| column                     | data_type |\n",
      "| -------------------------- | --------- |\n",
      "| PermitType                 | Text      |\n",
      "| PermitTypeDesc             | Text      |\n",
      "| PermitNum                  | Text      |\n",
      "| PermitClassMapped          | Text      |\n",
      "| PermitClass                | Text      |\n",
      "| WorkClass                  | Text      |\n",
      "| Condominium                | Text      |\n",
      "| ProjectName                | Text      |\n",
      "| Description                | Text      |\n",
      "| TCAD_ID                    | Text      |\n",
      "| PropertyLegalDescription   | Text      |\n",
      "| AppliedDate                | Date      |\n",
      "| IssuedDate                 | Date      |\n",
      "| DayIssued                  | Text      |\n",
      "| CalendarYearIssued         | Text      |\n",
      "| FiscalYearIssued           | Number    |\n",
      "| IssuedInLast30Days         | Text      |\n",
      "| IssuanceMethod             | Text      |\n",
      "| StatusCurrent              | Text      |\n",
      "| StatusDate                 | Date      |\n",
      "| ExpiresDate                | Date      |\n",
      "| CompletedDate              | Date      |\n",
      "| TotalExistingBldgSQFT      | Number    |\n",
      "| RemodelRepairSQFT          | Number    |\n",
      "| TotalNewAddSQFT            | Number    |\n",
      "| TotalValuationRemodel      | Number    |\n",
      "| TotalJobValuation          | Number    |\n",
      "| NumberOfFloors             | Number    |\n",
      "| HousingUnits               | Number    |\n",
      "| BuildingValuation          | Number    |\n",
      "| BuildingValuationRemodel   | Number    |\n",
      "| ElectricalValuation        | Number    |\n",
      "| ElectricalValuationRemodel | Number    |\n",
      "| MechanicalValuation        | Number    |\n",
      "| MechanicalValuationRemodel | Number    |\n",
      "| PlumbingValuation          | Number    |\n",
      "| PlumbingValuationRemodel   | Number    |\n",
      "| MedGasValuation            | Text      |\n",
      "| MedGasValuationRemodel     | Text      |\n",
      "| OriginalAddress1           | Text      |\n",
      "| OriginalCity               | Text      |\n",
      "| OriginalState              | Text      |\n",
      "| OriginalZip                | Text      |\n",
      "| CouncilDistrict            | Number    |\n",
      "| Jurisdiction               | Text      |\n",
      "| Link                       | Text      |\n",
      "| ProjectID                  | Number    |\n",
      "| MasterPermitNum            | Number    |\n",
      "| Latitude                   | Number    |\n",
      "| Longitude                  | Number    |\n",
      "| Location                   | Text      |\n",
      "| ContractorTrade            | Text      |\n",
      "| ContractorCompanyName      | Text      |\n",
      "| ContractorFullName         | Text      |\n",
      "| ContractorPhone            | Text      |\n",
      "| ContractorAddress1         | Text      |\n",
      "| ContractorAddress2         | Text      |\n",
      "| ContractorCity             | Text      |\n",
      "| ContractorZip              | Text      |\n",
      "| ApplicantFullName          | Text      |\n",
      "| ApplicantOrganization      | Text      |\n",
      "| ApplicantPhone             | Text      |\n",
      "| ApplicantAddress1          | Text      |\n",
      "| ApplicantAddress2          | Text      |\n",
      "| ApplicantCity              | Text      |\n",
      "| ApplicantZip               | Text      |\n",
      "| DemoType                   | Text      |\n",
      "\n"
     ]
    }
   ],
   "source": [
    "# print the columns for reference\n",
    "print(demolitions)"
   ]
  },
  {
   "cell_type": "markdown",
   "metadata": {},
   "source": [
    "### Looking at WorkClass differences"
   ]
  },
  {
   "cell_type": "code",
   "execution_count": 41,
   "metadata": {},
   "outputs": [
    {
     "name": "stdout",
     "output_type": "stream",
     "text": [
      "All WorkClass:\n",
      "\n",
      "| WorkClass            | Count |\n",
      "| -------------------- | ----- |\n",
      "| Demolition           | 5,475 |\n",
      "| Addition and Remodel | 4,288 |\n",
      "| New                  |    66 |\n",
      "| Addition             |   667 |\n",
      "| Remodel              |   538 |\n",
      "| Repair               |    52 |\n",
      "| Life Safety          |     4 |\n",
      "\n",
      "Addition and Remodel:\n",
      "\n",
      "CalendarYearIssued Count\n",
      "2018                 216 ▓░░░░░░░░░░░░                                \n",
      "2017                 676 ▓░░░░░░░░░░░░░░░░░░░░░░░░░░░░░░░░░░░░░       \n",
      "2016                 762 ▓░░░░░░░░░░░░░░░░░░░░░░░░░░░░░░░░░░░░░░░░░░  \n",
      "2015                 624 ▓░░░░░░░░░░░░░░░░░░░░░░░░░░░░░░░░░░          \n",
      "2014                 444 ▓░░░░░░░░░░░░░░░░░░░░░░░░                    \n",
      "2013                 402 ▓░░░░░░░░░░░░░░░░░░░░░░                      \n",
      "2012                 320 ▓░░░░░░░░░░░░░░░░░░                          \n",
      "2011                 304 ▓░░░░░░░░░░░░░░░░░                           \n",
      "2010                 223 ▓░░░░░░░░░░░░                                \n",
      "2009                 189 ▓░░░░░░░░░░                                  \n",
      "2008                 128 ▓░░░░░░░                                     \n",
      "                         +----------+----------+----------+----------+\n",
      "                         0         200        400        600       800\n",
      "\n",
      "Remodel:\n",
      "\n",
      "CalendarYearIssued Count\n",
      "2017                   2 ▓                                            \n",
      "2016                  10 ▓░░                                          \n",
      "2015                  72 ▓░░░░░░░░░░░░░░░░                            \n",
      "2014                 110 ▓░░░░░░░░░░░░░░░░░░░░░░░░                    \n",
      "2013                  89 ▓░░░░░░░░░░░░░░░░░░░░                        \n",
      "2012                  72 ▓░░░░░░░░░░░░░░░░                            \n",
      "2011                  71 ▓░░░░░░░░░░░░░░░░                            \n",
      "2010                  39 ▓░░░░░░░░░                                   \n",
      "2009                  46 ▓░░░░░░░░░░                                  \n",
      "2008                  27 ▓░░░░░░                                      \n",
      "                         +----------+----------+----------+----------+\n",
      "                         0         50         100        150       200\n",
      "\n",
      "Addition:\n",
      "\n",
      "CalendarYearIssued Count\n",
      "2018                  18 ▓░░░░                                        \n",
      "2017                  20 ▓░░░░                                        \n",
      "2016                   2 ▓                                            \n",
      "2015                  82 ▓░░░░░░░░░░░░░░░░░░                          \n",
      "2014                  89 ▓░░░░░░░░░░░░░░░░░░░░                        \n",
      "2013                  94 ▓░░░░░░░░░░░░░░░░░░░░░                       \n",
      "2012                 110 ▓░░░░░░░░░░░░░░░░░░░░░░░░                    \n",
      "2011                 100 ▓░░░░░░░░░░░░░░░░░░░░░░                      \n",
      "2010                  61 ▓░░░░░░░░░░░░░                               \n",
      "2009                  66 ▓░░░░░░░░░░░░░░░                             \n",
      "2008                  25 ▓░░░░░░                                      \n",
      "                         +----------+----------+----------+----------+\n",
      "                         0         50         100        150       200\n"
     ]
    }
   ],
   "source": [
    "# thought is \"Addition and Remodel\" is used more than\n",
    "# those fields alone, perhaps because they are more flexible\n",
    "\n",
    "# see permit class type.\n",
    "print('All WorkClass:\\n')\n",
    "demolitions.pivot(['WorkClass']).print_table()\n",
    "\n",
    "# print('\\nAddition, Remodel and \"Addition and Remodel\" WorkClass by year:\\n')\n",
    "# demolitions.where(lambda row: row['WorkClass'] in ['Addition and Remodel', 'Addition', 'Remodel'])\\\n",
    "# .order_by('WorkClass').order_by('CalendarYearIssued').pivot(['CalendarYearIssued','WorkClass'])\\\n",
    "# .print_table(max_rows=None)\n",
    "\n",
    "print('\\nAddition and Remodel:\\n')\n",
    "demolitions.where(lambda r: r['WorkClass'] == 'Addition and Remodel')\\\n",
    "    .pivot(['CalendarYearIssued','WorkClass'])\\\n",
    "    .print_bars('CalendarYearIssued', 'Count', width=70)\n",
    "\n",
    "print('\\nRemodel:\\n')\n",
    "demolitions.where(lambda r: r['WorkClass'] == 'Remodel')\\\n",
    "    .pivot(['CalendarYearIssued','WorkClass'])\\\n",
    "    .print_bars('CalendarYearIssued', 'Count', width=70)\n",
    "\n",
    "print('\\nAddition:\\n')\n",
    "demolitions.where(lambda r: r['WorkClass'] == 'Addition')\\\n",
    "    .pivot(['CalendarYearIssued','WorkClass'])\\\n",
    "    .print_bars('CalendarYearIssued', 'Count', width=70)\n",
    "\n",
    "\n"
   ]
  },
  {
   "cell_type": "markdown",
   "metadata": {},
   "source": [
    "### Overall statistics"
   ]
  },
  {
   "cell_type": "code",
   "execution_count": 42,
   "metadata": {},
   "outputs": [
    {
     "name": "stdout",
     "output_type": "stream",
     "text": [
      "CalendarYearIssued Count\n",
      "2018                 492 ▓░░░░░░░░░░░                                 \n",
      "2017               1,557 ▓░░░░░░░░░░░░░░░░░░░░░░░░░░░░░░░░░░          \n",
      "2016               1,491 ▓░░░░░░░░░░░░░░░░░░░░░░░░░░░░░░░░░           \n",
      "2015               1,380 ▓░░░░░░░░░░░░░░░░░░░░░░░░░░░░░░              \n",
      "2014               1,267 ▓░░░░░░░░░░░░░░░░░░░░░░░░░░░░                \n",
      "2013               1,172 ▓░░░░░░░░░░░░░░░░░░░░░░░░░░                  \n",
      "2012               1,115 ▓░░░░░░░░░░░░░░░░░░░░░░░░░                   \n",
      "2011                 906 ▓░░░░░░░░░░░░░░░░░░░░                        \n",
      "2010                 641 ▓░░░░░░░░░░░░░░                              \n",
      "2009                 615 ▓░░░░░░░░░░░░░░                              \n",
      "2008                 454 ▓░░░░░░░░░░                                  \n",
      "                         +----------+----------+----------+----------+\n",
      "                         0         500       1,000      1,500    2,000\n"
     ]
    }
   ],
   "source": [
    "# overall by year\n",
    "demolitions.pivot(['CalendarYearIssued']).print_bars('CalendarYearIssued', 'Count', width=70)"
   ]
  },
  {
   "cell_type": "markdown",
   "metadata": {},
   "source": [
    "### Commercial vs Residential"
   ]
  },
  {
   "cell_type": "code",
   "execution_count": 43,
   "metadata": {},
   "outputs": [
    {
     "name": "stdout",
     "output_type": "stream",
     "text": [
      "pivot of PermitClassMapped from table above:\n",
      "\n",
      "| PermitClassMapped |  Count |\n",
      "| ----------------- | ------ |\n",
      "| Residential       | 10,279 |\n",
      "| Commercial        |    811 |\n",
      "\n",
      "Length of residential subset: 10279\n",
      "Length of commercial subset: 811\n"
     ]
    }
   ],
   "source": [
    "# filter to keep residential but not commercial\n",
    "\n",
    "# see the breakdown by PermitClassMapped\n",
    "print('pivot of PermitClassMapped from table above:\\n')\n",
    "demolitions.pivot(['PermitClassMapped']).print_table(max_rows=None)\n",
    "\n",
    "# create residential and commercial subsets\n",
    "residential = demolitions.where(lambda row: row['PermitClassMapped'] == \"Residential\")\n",
    "print('\\nLength of residential subset: {}'.format(len(residential)))\n",
    "commercial = demolitions.where(lambda row: row['PermitClassMapped'] == \"Commercial\")\n",
    "print('Length of commercial subset: {}'.format(len(commercial)))\n",
    "\n"
   ]
  },
  {
   "cell_type": "markdown",
   "metadata": {},
   "source": [
    "### HousingUnits"
   ]
  },
  {
   "cell_type": "code",
   "execution_count": 44,
   "metadata": {},
   "outputs": [
    {
     "name": "stdout",
     "output_type": "stream",
     "text": [
      "| HousingUnits | Count |\n",
      "| ------------ | ----- |\n",
      "|            1 | 9,452 |\n",
      "|            0 |   619 |\n",
      "|            2 |   195 |\n",
      "|            5 |     5 |\n",
      "|            3 |     2 |\n",
      "|            4 |     2 |\n",
      "|       10,575 |     1 |\n",
      "|       11,755 |     1 |\n",
      "|              |     1 |\n",
      "|        1,193 |     1 |\n",
      "\n",
      "Clearly there are some errors in the data, as there are no 10k unit complexes.\n"
     ]
    }
   ],
   "source": [
    "# We looked at housingunits to see if there were\n",
    "# lots of multi-family stuff. Seems mostly not.\n",
    "# Uses residential only\n",
    "residential.pivot(['HousingUnits']).order_by('Count', reverse=True).print_table(max_rows=None)\n",
    "\n",
    "print('\\nClearly there are some errors in the data, as there are no 10k unit complexes.')\n",
    "\n",
    "## TO DO: FIND THE DATA MISTAKES AND UNDERSTAND THEM"
   ]
  },
  {
   "cell_type": "markdown",
   "metadata": {},
   "source": [
    "### Looking at HousingUnit = 0 "
   ]
  },
  {
   "cell_type": "code",
   "execution_count": 45,
   "metadata": {},
   "outputs": [
    {
     "name": "stdout",
     "output_type": "stream",
     "text": [
      "Most of these are non-housing structures. Some ambiguious.\n",
      "\n",
      "| CalendarYearIssued | Description                                                  |\n",
      "| ------------------ | ------------------------------------------------------------ |\n",
      "| 2018               | demolition of detached garage                                |\n",
      "| 2018               | total demo of detached garage                                |\n",
      "| 2018               | demolition carport historic approval in comments             |\n",
      "| 2017               | total demo of detached shed                                  |\n",
      "| 2017               | total demo of detached carport circa 1938                    |\n",
      "| 2017               | Total demolition of garage                                   |\n",
      "| 2016               | Total demolition of detached guest house                     |\n",
      "| 2016               | Total demolition of detached garage                          |\n",
      "| 2016               | Demolish existing boat dock refer SP 2016012993              |\n",
      "| 2015               | Total demo of detached garage                                |\n",
      "| 2015               | Total demolition of 310 sqft concreteslab utility hub        |\n",
      "| 2015               | Total demo of carport                                        |\n",
      "| 2015               | Total demo of detached structure                             |\n",
      "| 2015               | Total demo of detached structureTree Permit required for ... |\n",
      "| 2015               | Total demolition of 800 sqft framepier and beam warehouse    |\n",
      "| 2015               | Total demo of home  Circa 1951                               |\n",
      "| 2015               | Total demo of home  Circa 1959                               |\n",
      "| 2014               | Total demo of home  Circa 1953                               |\n",
      "| 2014               | Total demo of carport                                        |\n",
      "| 2014               | Total demolition of a 576sf piear and beam SFR               |\n",
      "| ...                | ...                                                          |\n"
     ]
    }
   ],
   "source": [
    "# looking further at HousingUnits = 0, which seems off\n",
    "zero_housing = residential.where(lambda row: row['HousingUnits'] == 0)\n",
    "\n",
    "# looking at descriptions to better understand HousingUnit\n",
    "# increase max_rows to see more, or export.\n",
    "\n",
    "print('Most of these are non-housing structures. Some ambiguious.\\n')\n",
    "zero_housing.select(['CalendarYearIssued','Description'])\\\n",
    "    .print_table(max_column_width=60, max_rows=20)"
   ]
  },
  {
   "cell_type": "markdown",
   "metadata": {},
   "source": [
    "### full vs partial"
   ]
  },
  {
   "cell_type": "code",
   "execution_count": 46,
   "metadata": {},
   "outputs": [
    {
     "name": "stdout",
     "output_type": "stream",
     "text": [
      "Both residential/commercial:\n",
      "\n",
      "| DemoType | Count |\n",
      "| -------- | ----- |\n",
      "| Full     | 5,475 |\n",
      "| Partial  | 5,615 |\n",
      "\n",
      "Just residential:\n",
      "\n",
      "| DemoType | Count |\n",
      "| -------- | ----- |\n",
      "| Full     | 4,672 |\n",
      "| Partial  | 5,607 |\n"
     ]
    }
   ],
   "source": [
    "print('Both residential/commercial:\\n')\n",
    "demolitions.pivot('DemoType').print_table()\n",
    "print('\\nJust residential:\\n')\n",
    "residential.pivot('DemoType').print_table()"
   ]
  },
  {
   "cell_type": "code",
   "execution_count": 47,
   "metadata": {},
   "outputs": [],
   "source": [
    "# create a table of partial residential demolitions and export said as file\n",
    "res_partials = residential.where(lambda row: row['DemoType'] == \"Partial\")\n",
    "res_partials.order_by(\n",
    "    'CalendarYearIssued',\n",
    "    reverse=True).select(['CalendarYearIssued','Description'])\\\n",
    "                 .to_csv('../data-processed/res_partial_descriptions.csv')\n"
   ]
  },
  {
   "cell_type": "markdown",
   "metadata": {},
   "source": [
    "## Looking for single-wall demos"
   ]
  },
  {
   "cell_type": "code",
   "execution_count": 48,
   "metadata": {},
   "outputs": [
    {
     "name": "stdout",
     "output_type": "stream",
     "text": [
      "| IssuedDate | DemoType | ProjectName          | Description                                        |\n",
      "| ---------- | -------- | -------------------- | -------------------------------------------------- |\n",
      "| 2015-10-15 | Partial  | 2400 SPRING CREEK DR | Partial demolition of sfres for new addition  r... |\n"
     ]
    }
   ],
   "source": [
    "import re\n",
    "# BOB SECHLER: There apparently is a relatively new one of these (meaning\n",
    "    # currently under construction) on Venado Drive off West Rim in the 78731\n",
    "    # area code. (CONFIRMED BY BOB, PHOTOGRAPHY, 4212 VENADO DR)\n",
    "# SHARON: 3909 BAILEY LN (confirmed BY SHARON)\n",
    "# ADDIE: There’s a vet office on South first (I think this is Paz Veterinary - crit), just south\n",
    "    # of oltorf on the east side of the road.\n",
    "    # - `2613 S 1ST ST` IS A FULL DEMO COMMERCIAL\n",
    "    # And then there’s also a totally renovated convenience store about three blocks\n",
    "    # farther south. I can’t recall the exact name of either but they both had the\n",
    "    # one-wall left during the rebuild, probably last year.\n",
    "    # Addie said this is an Exxon station now\n",
    "    # - 2907 S 1st St (NO DEMOS OR PARTIALS, EVEN COMMERCIAL.\n",
    "# JASON: 1214 WILDERNESS DR (CLASSIFIED AS FULL DEMO)\n",
    "# JAMES GREGG: 1814 E MARTIN LUTHER KING JR BLVD (commercial/ No demolition or partial demo listsed)\n",
    "# DEBORAH: 2314 SANTA RITA ST (confirmed by Deborah)\n",
    "# ANDY: 2400 s. first st (commercial, but I can't find permits)\n",
    "# ANDY: 100 E. Milton St. (commercial, but I can't find permits)\n",
    "# ANDY: 300 W. Monroe (REALLY 1600 NEWTON ST). Not confirmed.\n",
    "# RALPH HAURWITZ: There are two others that are older on Knollwood Drive in the 78731 area code.\n",
    "\n",
    "### Search for single-wall\n",
    "test = demolitions.where(lambda r: re.match('.*2400 S', r['ProjectName']))\n",
    "test.select([\n",
    "    'IssuedDate',\n",
    "    'DemoType',\n",
    "    'ProjectName',\n",
    "    'Description'\n",
    "]).order_by('ProjectName').print_table(max_rows=None, max_column_width=50)"
   ]
  },
  {
   "cell_type": "code",
   "execution_count": 49,
   "metadata": {},
   "outputs": [],
   "source": [
    "# proposed single_wall permit address\n",
    "single_walls = {\n",
    "    '3909 BAILEY LN',\n",
    "    '4212 VENADO DR',\n",
    "    '2314 SANTA RITA ST'\n",
    "}\n",
    "\n",
    "single_wall_descriptions = demolitions.where(lambda r: r['ProjectName'] in single_walls)\n",
    "single_wall_descriptions = single_wall_descriptions.where(lambda r: r['DemoType'] == 'Partial')"
   ]
  },
  {
   "cell_type": "code",
   "execution_count": 50,
   "metadata": {},
   "outputs": [
    {
     "name": "stdout",
     "output_type": "stream",
     "text": [
      "| IssuedDate | DemoType | ProjectName        | Description                                        |\n",
      "| ---------- | -------- | ------------------ | -------------------------------------------------- |\n",
      "| 2018-02-26 | Partial  | 4212 VENADO DR     | PARIAL DEMO 2nd floor addition to existing SFR ... |\n",
      "| 2017-10-10 | Partial  | 2314 SANTA RITA ST | Partial demo for addition and carport roof must... |\n",
      "| 2015-05-21 | Partial  | 3909 BAILEY LN     | Partial demo  Change of Use of an existing dupl... |\n"
     ]
    }
   ],
   "source": [
    "single_wall_descriptions.select([\n",
    "    'IssuedDate',\n",
    "    'DemoType',\n",
    "    'ProjectName',\n",
    "    'Description'\n",
    "]).\\\n",
    "    print_table(max_rows=None, max_column_width=50)"
   ]
  },
  {
   "cell_type": "code",
   "execution_count": 51,
   "metadata": {},
   "outputs": [
    {
     "name": "stdout",
     "output_type": "stream",
     "text": [
      "| Description                                                                                                                                                                                                                                                                                                                                             |\n",
      "| ------------------------------------------------------------------------------------------------------------------------------------------------------------------------------------------------------------------------------------------------------------------------------------------------------------------------------------------------------- |\n",
      "| PARIAL DEMO 2nd floor addition to existing SFR and interior remodel in mm new patio4 BED35 BATH                                                                                                                                                                                                                                                         |\n",
      "| Partial demo for addition and carport roof must be removed to meet total building coverage max 40 Additionremodel of Second floor master Suite bed and bath add and additional 3rd floor office with balcony                                                                                                                                            |\n",
      "| Partial demo  Change of Use of an existing duplex into a single family residence  Single family residence to have 4 bedrooms 35 bathrooms  finished basement an attached via breezeway 2car garage habitable attic with roof deck side and rear porches  1 bedroom and 1 bathroom is on the ground level south of the garage New inground swimming pool |\n"
     ]
    }
   ],
   "source": [
    "single_wall_descriptions.select([\n",
    "    'Description'\n",
    "]).\\\n",
    "    print_table(max_rows=None, max_column_width=None)"
   ]
  }
 ],
 "metadata": {
  "kernelspec": {
   "display_name": "Python 3",
   "language": "python",
   "name": "python3"
  },
  "language_info": {
   "codemirror_mode": {
    "name": "ipython",
    "version": 3
   },
   "file_extension": ".py",
   "mimetype": "text/x-python",
   "name": "python",
   "nbconvert_exporter": "python",
   "pygments_lexer": "ipython3",
   "version": "3.6.4"
  }
 },
 "nbformat": 4,
 "nbformat_minor": 2
}
