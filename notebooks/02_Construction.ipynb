{
 "cells": [
  {
   "cell_type": "markdown",
   "metadata": {},
   "source": [
    "### Demolition and construction\n",
    "\n",
    "This notebook uses lists of permits for residential demolition and residential construction to compare the total sizes of properties demolished and constructed on the same property."
   ]
  },
  {
   "cell_type": "code",
   "execution_count": 1,
   "metadata": {},
   "outputs": [],
   "source": [
    "import pandas as pd"
   ]
  },
  {
   "cell_type": "code",
   "execution_count": 2,
   "metadata": {},
   "outputs": [],
   "source": [
    "demo = pd.read_csv(\n",
    "    '../data-processed/Demo residential.csv',\n",
    "    dtype=str\n",
    ")\n",
    "\n",
    "construction = pd.read_csv(\n",
    "    '../data-processed/New residential.csv',\n",
    "    dtype=str\n",
    ")"
   ]
  },
  {
   "cell_type": "code",
   "execution_count": 3,
   "metadata": {},
   "outputs": [],
   "source": [
    "dat = pd.DataFrame(demo[\n",
    "    # Filter for properties in both demolition and construction lists\n",
    "    demo.TCAD_ID.isin(\n",
    "        construction.TCAD_ID\n",
    "    )\n",
    "].assign(\n",
    "    TotalExistingBldgSQFT = lambda x: x.TotalExistingBldgSQFT.str.replace(\n",
    "        ',', ''\n",
    "    ).astype(int)\n",
    ").query(\n",
    "    # Filter for demolitions where space demolished was more than zero\n",
    "    'TotalExistingBldgSQFT > 0'\n",
    ").groupby(\n",
    "    # Sum the total space demolished for each property\n",
    "    # Some properties had multiple demolition permits\n",
    "    'TCAD_ID'\n",
    ").TotalExistingBldgSQFT.sum().rename(\n",
    "    'demolition'\n",
    ")).join(\n",
    "    construction.assign(\n",
    "        TotalNewAddSQFT = lambda x: x.TotalNewAddSQFT.astype(int)\n",
    "    ).groupby(\n",
    "        # Sum the total construction space for each property\n",
    "        # and join to demolition totals on parcel id.\n",
    "        'TCAD_ID'\n",
    "    ).TotalNewAddSQFT.sum().rename('construction')\n",
    ").assign(\n",
    "    # Compare total construction space to total demolition space\n",
    "    more_construction = lambda x: x.construction > x.demolition\n",
    ")"
   ]
  },
  {
   "cell_type": "code",
   "execution_count": 4,
   "metadata": {},
   "outputs": [
    {
     "name": "stdout",
     "output_type": "stream",
     "text": [
      "Among 2,370 properties with sizes given for both demolition and construction, how many had more total space constructed than demolished?\n",
      "\n"
     ]
    },
    {
     "data": {
      "text/html": [
       "<div>\n",
       "<style>\n",
       "    .dataframe thead tr:only-child th {\n",
       "        text-align: right;\n",
       "    }\n",
       "\n",
       "    .dataframe thead th {\n",
       "        text-align: left;\n",
       "    }\n",
       "\n",
       "    .dataframe tbody tr th {\n",
       "        vertical-align: top;\n",
       "    }\n",
       "</style>\n",
       "<table border=\"1\" class=\"dataframe\">\n",
       "  <thead>\n",
       "    <tr style=\"text-align: right;\">\n",
       "      <th></th>\n",
       "      <th>number</th>\n",
       "      <th>percent</th>\n",
       "    </tr>\n",
       "  </thead>\n",
       "  <tbody>\n",
       "    <tr>\n",
       "      <th>True</th>\n",
       "      <td>2,291</td>\n",
       "      <td>96.67%</td>\n",
       "    </tr>\n",
       "    <tr>\n",
       "      <th>False</th>\n",
       "      <td>79</td>\n",
       "      <td>3.33%</td>\n",
       "    </tr>\n",
       "  </tbody>\n",
       "</table>\n",
       "</div>"
      ],
      "text/plain": [
       "      number percent\n",
       "True   2,291  96.67%\n",
       "False     79   3.33%"
      ]
     },
     "execution_count": 4,
     "metadata": {},
     "output_type": "execute_result"
    }
   ],
   "source": [
    "print(\n",
    "    'Among {:,} properties with sizes given for both demolition and construction, how many had more total space constructed than demolished?\\n'.format(\n",
    "        dat.shape[0]\n",
    "    )\n",
    ")\n",
    "\n",
    "pd.DataFrame(\n",
    "    dat.more_construction.value_counts().apply(\n",
    "        '{:,}'.format\n",
    "    ).rename('number')\n",
    ").join(\n",
    "    pd.DataFrame(dat.more_construction.value_counts(normalize=True).apply(\n",
    "        '{:.2%}'.format\n",
    "    ).rename('percent'))\n",
    ")"
   ]
  },
  {
   "cell_type": "code",
   "execution_count": null,
   "metadata": {},
   "outputs": [],
   "source": []
  }
 ],
 "metadata": {
  "kernelspec": {
   "display_name": "Python 3",
   "language": "python",
   "name": "python3"
  },
  "language_info": {
   "codemirror_mode": {
    "name": "ipython",
    "version": 3
   },
   "file_extension": ".py",
   "mimetype": "text/x-python",
   "name": "python",
   "nbconvert_exporter": "python",
   "pygments_lexer": "ipython3",
   "version": "3.6.1"
  }
 },
 "nbformat": 4,
 "nbformat_minor": 2
}
