{
 "cells": [
  {
   "cell_type": "markdown",
   "metadata": {},
   "source": [
    "# Partial demolitions\n",
    "\n",
    "This analysis is based on files downloaded and filtered in the `01_Download_process` notebook in this repo. It is construction permits for \"Addition\" or \"Remodel or Addition\" that have the term \"partial demo\" in the description. They are only residential permits for single-family or duplex homes.\n"
   ]
  },
  {
   "cell_type": "code",
   "execution_count": 1,
   "metadata": {},
   "outputs": [],
   "source": [
    "import pandas as pd\n",
    "import altair as alt\n",
    "pd.options.display.max_colwidth = 60"
   ]
  },
  {
   "cell_type": "code",
   "execution_count": 2,
   "metadata": {},
   "outputs": [
    {
     "data": {
      "text/plain": [
       "(5063, 68)"
      ]
     },
     "execution_count": 2,
     "metadata": {},
     "output_type": "execute_result"
    }
   ],
   "source": [
    "# Column type fixes\n",
    "column_types = {\n",
    "    'ApplicantPhone': pd.np.str,\n",
    "    'ContractorPhone': pd.np.str,\n",
    "    'CalendarYearIssued': pd.np.str,\n",
    "    'OriginalZip': pd.np.str,\n",
    "#     'IssuedDate': pd.np.str,\n",
    "}\n",
    "\n",
    "# import raw data\n",
    "data_raw = pd.read_csv(\n",
    "    '../data-processed/demolitions_partial.csv',\n",
    "    index_col=None,\n",
    "    dtype=column_types,\n",
    "    parse_dates=['IssuedDate']\n",
    ")\n",
    "\n",
    "demolitions = data_raw\n",
    "demolitions.shape"
   ]
  },
  {
   "cell_type": "markdown",
   "metadata": {},
   "source": [
    "## Total cases"
   ]
  },
  {
   "cell_type": "code",
   "execution_count": 3,
   "metadata": {},
   "outputs": [
    {
     "name": "stdout",
     "output_type": "stream",
     "text": [
      "Partial demolition permits that _could be_ additions: 5063\n"
     ]
    }
   ],
   "source": [
    "print(\"Partial demolition permits that _could be_ additions: {}\".format(len(demolitions)))"
   ]
  },
  {
   "cell_type": "code",
   "execution_count": 4,
   "metadata": {},
   "outputs": [
    {
     "data": {
      "text/html": [
       "<div>\n",
       "<style scoped>\n",
       "    .dataframe tbody tr th:only-of-type {\n",
       "        vertical-align: middle;\n",
       "    }\n",
       "\n",
       "    .dataframe tbody tr th {\n",
       "        vertical-align: top;\n",
       "    }\n",
       "\n",
       "    .dataframe thead th {\n",
       "        text-align: right;\n",
       "    }\n",
       "</style>\n",
       "<table border=\"1\" class=\"dataframe\">\n",
       "  <thead>\n",
       "    <tr style=\"text-align: right;\">\n",
       "      <th></th>\n",
       "      <th>Year</th>\n",
       "      <th>Count</th>\n",
       "    </tr>\n",
       "  </thead>\n",
       "  <tbody>\n",
       "    <tr>\n",
       "      <th>10</th>\n",
       "      <td>2008</td>\n",
       "      <td>154</td>\n",
       "    </tr>\n",
       "    <tr>\n",
       "      <th>9</th>\n",
       "      <td>2009</td>\n",
       "      <td>255</td>\n",
       "    </tr>\n",
       "    <tr>\n",
       "      <th>8</th>\n",
       "      <td>2010</td>\n",
       "      <td>283</td>\n",
       "    </tr>\n",
       "    <tr>\n",
       "      <th>6</th>\n",
       "      <td>2011</td>\n",
       "      <td>404</td>\n",
       "    </tr>\n",
       "    <tr>\n",
       "      <th>5</th>\n",
       "      <td>2012</td>\n",
       "      <td>430</td>\n",
       "    </tr>\n",
       "    <tr>\n",
       "      <th>4</th>\n",
       "      <td>2013</td>\n",
       "      <td>494</td>\n",
       "    </tr>\n",
       "    <tr>\n",
       "      <th>3</th>\n",
       "      <td>2014</td>\n",
       "      <td>532</td>\n",
       "    </tr>\n",
       "    <tr>\n",
       "      <th>1</th>\n",
       "      <td>2015</td>\n",
       "      <td>709</td>\n",
       "    </tr>\n",
       "    <tr>\n",
       "      <th>0</th>\n",
       "      <td>2016</td>\n",
       "      <td>757</td>\n",
       "    </tr>\n",
       "    <tr>\n",
       "      <th>2</th>\n",
       "      <td>2017</td>\n",
       "      <td>682</td>\n",
       "    </tr>\n",
       "    <tr>\n",
       "      <th>7</th>\n",
       "      <td>2018</td>\n",
       "      <td>363</td>\n",
       "    </tr>\n",
       "  </tbody>\n",
       "</table>\n",
       "</div>"
      ],
      "text/plain": [
       "    Year  Count\n",
       "10  2008    154\n",
       "9   2009    255\n",
       "8   2010    283\n",
       "6   2011    404\n",
       "5   2012    430\n",
       "4   2013    494\n",
       "3   2014    532\n",
       "1   2015    709\n",
       "0   2016    757\n",
       "2   2017    682\n",
       "7   2018    363"
      ]
     },
     "execution_count": 4,
     "metadata": {},
     "output_type": "execute_result"
    }
   ],
   "source": [
    "# create data from of permits by year\n",
    "demos_by_year = demolitions.CalendarYearIssued.value_counts().reset_index()\n",
    "demos_by_year.columns = ['Year', 'Count']\n",
    "demos_by_year.sort_values('Year')"
   ]
  },
  {
   "cell_type": "code",
   "execution_count": 5,
   "metadata": {},
   "outputs": [
    {
     "data": {
      "application/vnd.vegalite.v2+json": {
       "$schema": "https://vega.github.io/schema/vega-lite/v2.4.1.json",
       "config": {
        "view": {
         "height": 300,
         "width": 400
        }
       },
       "data": {
        "values": [
         {
          "Count": 757,
          "Year": "2016",
          "index": 0
         },
         {
          "Count": 709,
          "Year": "2015",
          "index": 1
         },
         {
          "Count": 682,
          "Year": "2017",
          "index": 2
         },
         {
          "Count": 532,
          "Year": "2014",
          "index": 3
         },
         {
          "Count": 494,
          "Year": "2013",
          "index": 4
         },
         {
          "Count": 430,
          "Year": "2012",
          "index": 5
         },
         {
          "Count": 404,
          "Year": "2011",
          "index": 6
         },
         {
          "Count": 363,
          "Year": "2018",
          "index": 7
         },
         {
          "Count": 283,
          "Year": "2010",
          "index": 8
         },
         {
          "Count": 255,
          "Year": "2009",
          "index": 9
         },
         {
          "Count": 154,
          "Year": "2008",
          "index": 10
         }
        ]
       },
       "encoding": {
        "x": {
         "axis": {
          "labelAngle": 0,
          "title": "Year"
         },
         "field": "Year",
         "type": "ordinal"
        },
        "y": {
         "axis": {
          "title": "Permits"
         },
         "field": "Count",
         "type": "quantitative"
        }
       },
       "mark": "bar",
       "title": "Possible \"Additions\" demolitions each year",
       "width": 600
      },
      "image/png": "[encoded data removed]",
      "text/plain": [
       "<VegaLite 2 object>\n",
       "\n",
       "If you see this message, it means the renderer has not been properly enabled\n",
       "for the frontend that you are using. For more information, see\n",
       "https://altair-viz.github.io/user_guide/troubleshooting.html\n"
      ]
     },
     "execution_count": 5,
     "metadata": {},
     "output_type": "execute_result"
    }
   ],
   "source": [
    "# make chart\n",
    "alt.Chart(demos_by_year.reset_index(), title='Possible \"Additions\" demolitions each year').mark_bar().encode(\n",
    "    x=alt.X(\"Year:O\", axis=alt.Axis(title=\"Year\", labelAngle=0)),\n",
    "    y=alt.Y(\"Count:Q\", axis=alt.Axis(title=\"Permits\")),\n",
    ").properties(width=600)"
   ]
  },
  {
   "cell_type": "markdown",
   "metadata": {},
   "source": [
    "## Partial demos by zip code"
   ]
  },
  {
   "cell_type": "code",
   "execution_count": 6,
   "metadata": {},
   "outputs": [
    {
     "data": {
      "text/html": [
       "<div>\n",
       "<style scoped>\n",
       "    .dataframe tbody tr th:only-of-type {\n",
       "        vertical-align: middle;\n",
       "    }\n",
       "\n",
       "    .dataframe tbody tr th {\n",
       "        vertical-align: top;\n",
       "    }\n",
       "\n",
       "    .dataframe thead th {\n",
       "        text-align: right;\n",
       "    }\n",
       "</style>\n",
       "<table border=\"1\" class=\"dataframe\">\n",
       "  <thead>\n",
       "    <tr style=\"text-align: right;\">\n",
       "      <th></th>\n",
       "      <th>Zip</th>\n",
       "      <th>Count</th>\n",
       "    </tr>\n",
       "  </thead>\n",
       "  <tbody>\n",
       "    <tr>\n",
       "      <th>0</th>\n",
       "      <td>78703</td>\n",
       "      <td>678</td>\n",
       "    </tr>\n",
       "    <tr>\n",
       "      <th>1</th>\n",
       "      <td>78704</td>\n",
       "      <td>650</td>\n",
       "    </tr>\n",
       "    <tr>\n",
       "      <th>2</th>\n",
       "      <td>78731</td>\n",
       "      <td>579</td>\n",
       "    </tr>\n",
       "    <tr>\n",
       "      <th>3</th>\n",
       "      <td>78757</td>\n",
       "      <td>534</td>\n",
       "    </tr>\n",
       "    <tr>\n",
       "      <th>4</th>\n",
       "      <td>78702</td>\n",
       "      <td>279</td>\n",
       "    </tr>\n",
       "  </tbody>\n",
       "</table>\n",
       "</div>"
      ],
      "text/plain": [
       "     Zip  Count\n",
       "0  78703    678\n",
       "1  78704    650\n",
       "2  78731    579\n",
       "3  78757    534\n",
       "4  78702    279"
      ]
     },
     "execution_count": 6,
     "metadata": {},
     "output_type": "execute_result"
    }
   ],
   "source": [
    "# make a datafram with counts of permits by zip code\n",
    "demos_by_zip = demolitions.OriginalZip.value_counts().reset_index()\n",
    "demos_by_zip.columns = ['Zip', 'Count']\n",
    "demos_by_zip.head()"
   ]
  },
  {
   "cell_type": "code",
   "execution_count": 7,
   "metadata": {},
   "outputs": [
    {
     "data": {
      "application/vnd.vegalite.v2+json": {
       "$schema": "https://vega.github.io/schema/vega-lite/v2.4.1.json",
       "config": {
        "view": {
         "height": 300,
         "width": 400
        }
       },
       "data": {
        "values": [
         {
          "Count": 678,
          "Zip": "78703"
         },
         {
          "Count": 650,
          "Zip": "78704"
         },
         {
          "Count": 579,
          "Zip": "78731"
         },
         {
          "Count": 534,
          "Zip": "78757"
         },
         {
          "Count": 279,
          "Zip": "78702"
         },
         {
          "Count": 246,
          "Zip": "78759"
         },
         {
          "Count": 234,
          "Zip": "78751"
         },
         {
          "Count": 226,
          "Zip": "78746"
         },
         {
          "Count": 197,
          "Zip": "78756"
         },
         {
          "Count": 193,
          "Zip": "78745"
         }
        ]
       },
       "encoding": {
        "x": {
         "axis": {
          "title": "Number of permits"
         },
         "field": "Count",
         "type": "quantitative"
        },
        "y": {
         "axis": {
          "title": "Zip code"
         },
         "field": "Zip",
         "sort": {
          "field": "Count",
          "op": "sum",
          "order": "descending"
         },
         "type": "ordinal"
        }
       },
       "mark": "bar",
       "title": "Zip codes with the most possible additions",
       "width": 600
      },
      "image/png": "[encoded data removed]",
      "text/plain": [
       "<VegaLite 2 object>\n",
       "\n",
       "If you see this message, it means the renderer has not been properly enabled\n",
       "for the frontend that you are using. For more information, see\n",
       "https://altair-viz.github.io/user_guide/troubleshooting.html\n"
      ]
     },
     "execution_count": 7,
     "metadata": {},
     "output_type": "execute_result"
    }
   ],
   "source": [
    "alt.Chart(demos_by_zip.head(10), title=\"Zip codes with the most possible additions\").mark_bar().encode(\n",
    "    x=alt.X(\"Count:Q\",\n",
    "            axis=alt.Axis(title=\"Number of permits\")),\n",
    "    y=alt.Y(\"Zip:O\",\n",
    "            # this is the sorting magic\n",
    "            sort=alt.SortField(field=\"Count\", order=\"descending\", op=\"sum\"),\n",
    "            axis=alt.Axis(title=\"Zip code\")),\n",
    ").properties(width=600)"
   ]
  },
  {
   "cell_type": "markdown",
   "metadata": {},
   "source": [
    "## Possible additions by zip by year\n",
    "\n",
    "This chart is interesting in that it shows the hottest zip codes (03 and 04) had drops in 2017, falling out of the lede for the first time since 2012. Not sure it is worth finding out why at this point, but... it's interesting."
   ]
  },
  {
   "cell_type": "code",
   "execution_count": 8,
   "metadata": {},
   "outputs": [
    {
     "data": {
      "application/vnd.vegalite.v2+json": {
       "$schema": "https://vega.github.io/schema/vega-lite/v2.4.1.json",
       "config": {
        "view": {
         "height": 300,
         "width": 400
        }
       },
       "data": {
        "values": [
         {
          "Count": 7,
          "Year": "2008",
          "Zip": "78702"
         },
         {
          "Count": 20,
          "Year": "2008",
          "Zip": "78703"
         },
         {
          "Count": 26,
          "Year": "2008",
          "Zip": "78704"
         },
         {
          "Count": 3,
          "Year": "2008",
          "Zip": "78723"
         },
         {
          "Count": 22,
          "Year": "2008",
          "Zip": "78731"
         },
         {
          "Count": 5,
          "Year": "2008",
          "Zip": "78745"
         },
         {
          "Count": 3,
          "Year": "2008",
          "Zip": "78746"
         },
         {
          "Count": 1,
          "Year": "2008",
          "Zip": "78750"
         },
         {
          "Count": 11,
          "Year": "2008",
          "Zip": "78751"
         },
         {
          "Count": 17,
          "Year": "2008",
          "Zip": "78756"
         },
         {
          "Count": 17,
          "Year": "2008",
          "Zip": "78757"
         },
         {
          "Count": 7,
          "Year": "2008",
          "Zip": "78759"
         },
         {
          "Count": 15,
          "Year": "2009",
          "Zip": "78702"
         },
         {
          "Count": 46,
          "Year": "2009",
          "Zip": "78703"
         },
         {
          "Count": 35,
          "Year": "2009",
          "Zip": "78704"
         },
         {
          "Count": 3,
          "Year": "2009",
          "Zip": "78723"
         },
         {
          "Count": 21,
          "Year": "2009",
          "Zip": "78731"
         },
         {
          "Count": 6,
          "Year": "2009",
          "Zip": "78745"
         },
         {
          "Count": 9,
          "Year": "2009",
          "Zip": "78746"
         },
         {
          "Count": 2,
          "Year": "2009",
          "Zip": "78750"
         },
         {
          "Count": 14,
          "Year": "2009",
          "Zip": "78751"
         },
         {
          "Count": 8,
          "Year": "2009",
          "Zip": "78756"
         },
         {
          "Count": 32,
          "Year": "2009",
          "Zip": "78757"
         },
         {
          "Count": 3,
          "Year": "2009",
          "Zip": "78759"
         },
         {
          "Count": 15,
          "Year": "2010",
          "Zip": "78702"
         },
         {
          "Count": 44,
          "Year": "2010",
          "Zip": "78703"
         },
         {
          "Count": 30,
          "Year": "2010",
          "Zip": "78704"
         },
         {
          "Count": 6,
          "Year": "2010",
          "Zip": "78723"
         },
         {
          "Count": 31,
          "Year": "2010",
          "Zip": "78731"
         },
         {
          "Count": 12,
          "Year": "2010",
          "Zip": "78745"
         },
         {
          "Count": 6,
          "Year": "2010",
          "Zip": "78746"
         },
         {
          "Count": 15,
          "Year": "2010",
          "Zip": "78750"
         },
         {
          "Count": 16,
          "Year": "2010",
          "Zip": "78751"
         },
         {
          "Count": 12,
          "Year": "2010",
          "Zip": "78756"
         },
         {
          "Count": 34,
          "Year": "2010",
          "Zip": "78757"
         },
         {
          "Count": 15,
          "Year": "2010",
          "Zip": "78759"
         },
         {
          "Count": 22,
          "Year": "2011",
          "Zip": "78702"
         },
         {
          "Count": 59,
          "Year": "2011",
          "Zip": "78703"
         },
         {
          "Count": 53,
          "Year": "2011",
          "Zip": "78704"
         },
         {
          "Count": 7,
          "Year": "2011",
          "Zip": "78723"
         },
         {
          "Count": 55,
          "Year": "2011",
          "Zip": "78731"
         },
         {
          "Count": 9,
          "Year": "2011",
          "Zip": "78745"
         },
         {
          "Count": 13,
          "Year": "2011",
          "Zip": "78746"
         },
         {
          "Count": 7,
          "Year": "2011",
          "Zip": "78750"
         },
         {
          "Count": 23,
          "Year": "2011",
          "Zip": "78751"
         },
         {
          "Count": 23,
          "Year": "2011",
          "Zip": "78756"
         },
         {
          "Count": 46,
          "Year": "2011",
          "Zip": "78757"
         },
         {
          "Count": 18,
          "Year": "2011",
          "Zip": "78759"
         },
         {
          "Count": 27,
          "Year": "2012",
          "Zip": "78702"
         },
         {
          "Count": 55,
          "Year": "2012",
          "Zip": "78703"
         },
         {
          "Count": 56,
          "Year": "2012",
          "Zip": "78704"
         },
         {
          "Count": 10,
          "Year": "2012",
          "Zip": "78723"
         },
         {
          "Count": 56,
          "Year": "2012",
          "Zip": "78731"
         },
         {
          "Count": 11,
          "Year": "2012",
          "Zip": "78745"
         },
         {
          "Count": 21,
          "Year": "2012",
          "Zip": "78746"
         },
         {
          "Count": 6,
          "Year": "2012",
          "Zip": "78750"
         },
         {
          "Count": 18,
          "Year": "2012",
          "Zip": "78751"
         },
         {
          "Count": 21,
          "Year": "2012",
          "Zip": "78756"
         },
         {
          "Count": 43,
          "Year": "2012",
          "Zip": "78757"
         },
         {
          "Count": 25,
          "Year": "2012",
          "Zip": "78759"
         },
         {
          "Count": 19,
          "Year": "2013",
          "Zip": "78702"
         },
         {
          "Count": 66,
          "Year": "2013",
          "Zip": "78703"
         },
         {
          "Count": 77,
          "Year": "2013",
          "Zip": "78704"
         },
         {
          "Count": 11,
          "Year": "2013",
          "Zip": "78723"
         },
         {
          "Count": 58,
          "Year": "2013",
          "Zip": "78731"
         },
         {
          "Count": 19,
          "Year": "2013",
          "Zip": "78745"
         },
         {
          "Count": 18,
          "Year": "2013",
          "Zip": "78746"
         },
         {
          "Count": 12,
          "Year": "2013",
          "Zip": "78750"
         },
         {
          "Count": 23,
          "Year": "2013",
          "Zip": "78751"
         },
         {
          "Count": 24,
          "Year": "2013",
          "Zip": "78756"
         },
         {
          "Count": 54,
          "Year": "2013",
          "Zip": "78757"
         },
         {
          "Count": 27,
          "Year": "2013",
          "Zip": "78759"
         },
         {
          "Count": 16,
          "Year": "2014",
          "Zip": "78702"
         },
         {
          "Count": 77,
          "Year": "2014",
          "Zip": "78703"
         },
         {
          "Count": 73,
          "Year": "2014",
          "Zip": "78704"
         },
         {
          "Count": 20,
          "Year": "2014",
          "Zip": "78723"
         },
         {
          "Count": 52,
          "Year": "2014",
          "Zip": "78731"
         },
         {
          "Count": 20,
          "Year": "2014",
          "Zip": "78745"
         },
         {
          "Count": 22,
          "Year": "2014",
          "Zip": "78746"
         },
         {
          "Count": 16,
          "Year": "2014",
          "Zip": "78750"
         },
         {
          "Count": 28,
          "Year": "2014",
          "Zip": "78751"
         },
         {
          "Count": 17,
          "Year": "2014",
          "Zip": "78756"
         },
         {
          "Count": 66,
          "Year": "2014",
          "Zip": "78757"
         },
         {
          "Count": 25,
          "Year": "2014",
          "Zip": "78759"
         },
         {
          "Count": 35,
          "Year": "2015",
          "Zip": "78702"
         },
         {
          "Count": 102,
          "Year": "2015",
          "Zip": "78703"
         },
         {
          "Count": 90,
          "Year": "2015",
          "Zip": "78704"
         },
         {
          "Count": 26,
          "Year": "2015",
          "Zip": "78723"
         },
         {
          "Count": 75,
          "Year": "2015",
          "Zip": "78731"
         },
         {
          "Count": 34,
          "Year": "2015",
          "Zip": "78745"
         },
         {
          "Count": 39,
          "Year": "2015",
          "Zip": "78746"
         },
         {
          "Count": 18,
          "Year": "2015",
          "Zip": "78750"
         },
         {
          "Count": 32,
          "Year": "2015",
          "Zip": "78751"
         },
         {
          "Count": 20,
          "Year": "2015",
          "Zip": "78756"
         },
         {
          "Count": 60,
          "Year": "2015",
          "Zip": "78757"
         },
         {
          "Count": 35,
          "Year": "2015",
          "Zip": "78759"
         },
         {
          "Count": 48,
          "Year": "2016",
          "Zip": "78702"
         },
         {
          "Count": 100,
          "Year": "2016",
          "Zip": "78703"
         },
         {
          "Count": 102,
          "Year": "2016",
          "Zip": "78704"
         },
         {
          "Count": 25,
          "Year": "2016",
          "Zip": "78723"
         },
         {
          "Count": 88,
          "Year": "2016",
          "Zip": "78731"
         },
         {
          "Count": 30,
          "Year": "2016",
          "Zip": "78745"
         },
         {
          "Count": 33,
          "Year": "2016",
          "Zip": "78746"
         },
         {
          "Count": 23,
          "Year": "2016",
          "Zip": "78750"
         },
         {
          "Count": 34,
          "Year": "2016",
          "Zip": "78751"
         },
         {
          "Count": 29,
          "Year": "2016",
          "Zip": "78756"
         },
         {
          "Count": 62,
          "Year": "2016",
          "Zip": "78757"
         },
         {
          "Count": 40,
          "Year": "2016",
          "Zip": "78759"
         },
         {
          "Count": 49,
          "Year": "2017",
          "Zip": "78702"
         },
         {
          "Count": 67,
          "Year": "2017",
          "Zip": "78703"
         },
         {
          "Count": 66,
          "Year": "2017",
          "Zip": "78704"
         },
         {
          "Count": 36,
          "Year": "2017",
          "Zip": "78723"
         },
         {
          "Count": 82,
          "Year": "2017",
          "Zip": "78731"
         },
         {
          "Count": 31,
          "Year": "2017",
          "Zip": "78745"
         },
         {
          "Count": 36,
          "Year": "2017",
          "Zip": "78746"
         },
         {
          "Count": 23,
          "Year": "2017",
          "Zip": "78750"
         },
         {
          "Count": 22,
          "Year": "2017",
          "Zip": "78751"
         },
         {
          "Count": 22,
          "Year": "2017",
          "Zip": "78756"
         },
         {
          "Count": 86,
          "Year": "2017",
          "Zip": "78757"
         },
         {
          "Count": 30,
          "Year": "2017",
          "Zip": "78759"
         }
        ]
       },
       "encoding": {
        "color": {
         "field": "Zip",
         "type": "nominal"
        },
        "x": {
         "axis": {
          "labelAngle": 0,
          "title": "Year"
         },
         "field": "Year",
         "type": "ordinal"
        },
        "y": {
         "axis": {
          "title": "Number of permits"
         },
         "field": "Count",
         "type": "quantitative"
        }
       },
       "mark": "line",
       "title": "Demolitions by year and top Zip codes",
       "width": 600
      },
      "image/png": "[encoded data removed]",
      "text/plain": [
       "<VegaLite 2 object>\n",
       "\n",
       "If you see this message, it means the renderer has not been properly enabled\n",
       "for the frontend that you are using. For more information, see\n",
       "https://altair-viz.github.io/user_guide/troubleshooting.html\n"
      ]
     },
     "execution_count": 8,
     "metadata": {},
     "output_type": "execute_result"
    }
   ],
   "source": [
    "# Filter out 2018 because it is a partial year\n",
    "before_2018 = demolitions[demolitions['CalendarYearIssued'] != '2018']\n",
    "\n",
    "# build a dataframe of yr, zip, count\n",
    "demos_yr_zip = before_2018.groupby(['CalendarYearIssued','OriginalZip']).agg(dict(\n",
    "    PermitNum='count'\n",
    ")).reset_index()\n",
    "demos_yr_zip.columns = ['Year', 'Zip', 'Count']\n",
    "demos_yr_zip.shape\n",
    "# demos_yr_zip.head()\n",
    "\n",
    "# filter to 2017\n",
    "zips_2017 = demos_yr_zip[demos_yr_zip['Year'] == '2017']\n",
    "\n",
    "# filter the 2017 list to those with 20+ demos\n",
    "# sort the list by count descending\n",
    "zips_2017_top = zips_2017[zips_2017.Count > 19].sort_values('Count', ascending=False)\n",
    "\n",
    "# Use the Zip code column above to filter the original demos_yr_zip datatable\n",
    "# and create the new dataframe to chart\n",
    "top_demos_yr_zip_new = demos_yr_zip[demos_yr_zip['Zip'].isin(zips_2017_top.Zip)]\n",
    "\n",
    "alt.Chart(top_demos_yr_zip_new, title=\"Demolitions by year and top Zip codes\").mark_line().encode(\n",
    "    x=alt.X(\"Year:O\",\n",
    "            axis=alt.Axis(title=\"Year\", labelAngle=0)),\n",
    "    y=alt.Y(\"Count:Q\",\n",
    "            axis=alt.Axis(title=\"Number of permits\")),\n",
    "    color=\"Zip\"\n",
    ").properties(width=600)"
   ]
  },
  {
   "cell_type": "code",
   "execution_count": null,
   "metadata": {},
   "outputs": [],
   "source": []
  }
 ],
 "metadata": {
  "kernelspec": {
   "display_name": "Python 3",
   "language": "python",
   "name": "python3"
  },
  "language_info": {
   "codemirror_mode": {
    "name": "ipython",
    "version": 3
   },
   "file_extension": ".py",
   "mimetype": "text/x-python",
   "name": "python",
   "nbconvert_exporter": "python",
   "pygments_lexer": "ipython3",
   "version": "3.6.5"
  }
 },
 "nbformat": 4,
 "nbformat_minor": 2
}
