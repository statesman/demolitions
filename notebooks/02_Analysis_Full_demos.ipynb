{
 "cells": [
  {
   "cell_type": "markdown",
   "metadata": {},
   "source": [
    "# Analysis of full demolition permits by the City of Austin\n",
    "\n",
    "In this notebook, we explore \"construction\" permits for demolitions of residential (single-family or duplex) homes.\n",
    "\n",
    "- This analysis starts with a file that has been downloaded and processed in another notebook, `01_Download_Process.ipynb`."
   ]
  },
  {
   "cell_type": "markdown",
   "metadata": {},
   "source": [
    "## Set up and configurations"
   ]
  },
  {
   "cell_type": "code",
   "execution_count": 1,
   "metadata": {},
   "outputs": [],
   "source": [
    "import pandas as pd\n",
    "import altair as alt\n",
    "import matplotlib.pyplot as plt\n",
    "pd.options.display.max_colwidth = 60"
   ]
  },
  {
   "cell_type": "markdown",
   "metadata": {},
   "source": [
    "## Import file\n",
    "Imports the file that was processed in another notebook."
   ]
  },
  {
   "cell_type": "code",
   "execution_count": 2,
   "metadata": {},
   "outputs": [
    {
     "data": {
      "text/plain": [
       "(3160, 68)"
      ]
     },
     "execution_count": 2,
     "metadata": {},
     "output_type": "execute_result"
    }
   ],
   "source": [
    "# Column data type fixes\n",
    "column_types = {\n",
    "    'ApplicantPhone': pd.np.str,\n",
    "    'ContractorPhone': pd.np.str,\n",
    "    'CalendarYearIssued': pd.np.str,\n",
    "    'OriginalZip': pd.np.str,\n",
    "}\n",
    "\n",
    "# import raw data\n",
    "data_raw = pd.read_csv(\n",
    "    '../data-processed/demolitions_full.csv',\n",
    "    index_col=None,\n",
    "    dtype=column_types,\n",
    "    parse_dates=['IssuedDate']\n",
    ")\n",
    "\n",
    "demolitions = data_raw\n",
    "\n",
    "demolitions.shape"
   ]
  },
  {
   "cell_type": "markdown",
   "metadata": {},
   "source": [
    "## Total cases"
   ]
  },
  {
   "cell_type": "code",
   "execution_count": 3,
   "metadata": {},
   "outputs": [
    {
     "name": "stdout",
     "output_type": "stream",
     "text": [
      "Number of full demolitions from Jan. 2008 to July 2018 be additions:\n",
      "\n",
      "3160\n"
     ]
    }
   ],
   "source": [
    "print('Number of full demolitions from Jan. 2008 to July 2018 be additions:\\n\\n{}'.format(len(demolitions)))\n"
   ]
  },
  {
   "cell_type": "markdown",
   "metadata": {},
   "source": [
    "## How the number of demolition permits have changed over time\n",
    "\n",
    "How many demolition permits have been been issued in past years?"
   ]
  },
  {
   "cell_type": "markdown",
   "metadata": {},
   "source": [
    "### Permits per year"
   ]
  },
  {
   "cell_type": "code",
   "execution_count": 4,
   "metadata": {},
   "outputs": [
    {
     "data": {
      "text/html": [
       "<div>\n",
       "<style scoped>\n",
       "    .dataframe tbody tr th:only-of-type {\n",
       "        vertical-align: middle;\n",
       "    }\n",
       "\n",
       "    .dataframe tbody tr th {\n",
       "        vertical-align: top;\n",
       "    }\n",
       "\n",
       "    .dataframe thead th {\n",
       "        text-align: right;\n",
       "    }\n",
       "</style>\n",
       "<table border=\"1\" class=\"dataframe\">\n",
       "  <thead>\n",
       "    <tr style=\"text-align: right;\">\n",
       "      <th></th>\n",
       "      <th>Year</th>\n",
       "      <th>Count</th>\n",
       "    </tr>\n",
       "  </thead>\n",
       "  <tbody>\n",
       "    <tr>\n",
       "      <th>10</th>\n",
       "      <td>2008</td>\n",
       "      <td>110</td>\n",
       "    </tr>\n",
       "    <tr>\n",
       "      <th>9</th>\n",
       "      <td>2009</td>\n",
       "      <td>137</td>\n",
       "    </tr>\n",
       "    <tr>\n",
       "      <th>8</th>\n",
       "      <td>2010</td>\n",
       "      <td>152</td>\n",
       "    </tr>\n",
       "    <tr>\n",
       "      <th>7</th>\n",
       "      <td>2011</td>\n",
       "      <td>176</td>\n",
       "    </tr>\n",
       "    <tr>\n",
       "      <th>6</th>\n",
       "      <td>2012</td>\n",
       "      <td>263</td>\n",
       "    </tr>\n",
       "    <tr>\n",
       "      <th>4</th>\n",
       "      <td>2013</td>\n",
       "      <td>328</td>\n",
       "    </tr>\n",
       "    <tr>\n",
       "      <th>2</th>\n",
       "      <td>2014</td>\n",
       "      <td>357</td>\n",
       "    </tr>\n",
       "    <tr>\n",
       "      <th>3</th>\n",
       "      <td>2015</td>\n",
       "      <td>347</td>\n",
       "    </tr>\n",
       "    <tr>\n",
       "      <th>1</th>\n",
       "      <td>2016</td>\n",
       "      <td>445</td>\n",
       "    </tr>\n",
       "    <tr>\n",
       "      <th>0</th>\n",
       "      <td>2017</td>\n",
       "      <td>565</td>\n",
       "    </tr>\n",
       "    <tr>\n",
       "      <th>5</th>\n",
       "      <td>2018</td>\n",
       "      <td>280</td>\n",
       "    </tr>\n",
       "  </tbody>\n",
       "</table>\n",
       "</div>"
      ],
      "text/plain": [
       "    Year  Count\n",
       "10  2008    110\n",
       "9   2009    137\n",
       "8   2010    152\n",
       "7   2011    176\n",
       "6   2012    263\n",
       "4   2013    328\n",
       "2   2014    357\n",
       "3   2015    347\n",
       "1   2016    445\n",
       "0   2017    565\n",
       "5   2018    280"
      ]
     },
     "execution_count": 4,
     "metadata": {},
     "output_type": "execute_result"
    }
   ],
   "source": [
    "# create dataframe from pivot of permits per year\n",
    "demos_by_year = demolitions.CalendarYearIssued.value_counts().reset_index()\n",
    "demos_by_year.columns = ['Year', 'Count']\n",
    "demos_by_year.sort_values('Year')"
   ]
  },
  {
   "cell_type": "code",
   "execution_count": 5,
   "metadata": {},
   "outputs": [
    {
     "data": {
      "application/vnd.vegalite.v2+json": {
       "$schema": "https://vega.github.io/schema/vega-lite/v2.4.1.json",
       "config": {
        "view": {
         "height": 300,
         "width": 400
        }
       },
       "data": {
        "values": [
         {
          "Count": 565,
          "Year": "2017",
          "index": 0
         },
         {
          "Count": 445,
          "Year": "2016",
          "index": 1
         },
         {
          "Count": 357,
          "Year": "2014",
          "index": 2
         },
         {
          "Count": 347,
          "Year": "2015",
          "index": 3
         },
         {
          "Count": 328,
          "Year": "2013",
          "index": 4
         },
         {
          "Count": 280,
          "Year": "2018",
          "index": 5
         },
         {
          "Count": 263,
          "Year": "2012",
          "index": 6
         },
         {
          "Count": 176,
          "Year": "2011",
          "index": 7
         },
         {
          "Count": 152,
          "Year": "2010",
          "index": 8
         },
         {
          "Count": 137,
          "Year": "2009",
          "index": 9
         },
         {
          "Count": 110,
          "Year": "2008",
          "index": 10
         }
        ]
       },
       "encoding": {
        "x": {
         "axis": {
          "labelAngle": 0,
          "title": "Year"
         },
         "field": "Year",
         "type": "ordinal"
        },
        "y": {
         "axis": {
          "title": "Demolition permits"
         },
         "field": "Count",
         "type": "quantitative"
        }
       },
       "mark": "bar",
       "title": "Residential demolitions each year",
       "width": 600
      },
      "image/png": "[encoded data removed]",
      "text/plain": [
       "<VegaLite 2 object>\n",
       "\n",
       "If you see this message, it means the renderer has not been properly enabled\n",
       "for the frontend that you are using. For more information, see\n",
       "https://altair-viz.github.io/user_guide/troubleshooting.html\n"
      ]
     },
     "execution_count": 5,
     "metadata": {},
     "output_type": "execute_result"
    }
   ],
   "source": [
    "# Chart based on dataframe above\n",
    "alt.Chart(\n",
    "    demos_by_year.reset_index(),\n",
    "    title=\"Residential demolitions each year\"\n",
    ").mark_bar().encode(\n",
    "    x=alt.X(\"Year:O\", axis=alt.Axis(title=\"Year\", labelAngle=0)),\n",
    "    y=alt.Y(\"Count:Q\", axis=alt.Axis(title=\"Demolition permits\")),\n",
    ").properties(width=600)"
   ]
  },
  {
   "cell_type": "markdown",
   "metadata": {},
   "source": [
    "### Permits in first half of year\n",
    "\n",
    "If we want to see the pace of demolition permits in 2018, we need to look at the first six months of each year and compare them."
   ]
  },
  {
   "cell_type": "code",
   "execution_count": 6,
   "metadata": {},
   "outputs": [
    {
     "data": {
      "text/plain": [
       "(1658, 68)"
      ]
     },
     "execution_count": 6,
     "metadata": {},
     "output_type": "execute_result"
    }
   ],
   "source": [
    "# Filter demolitions to only those before July in any given year\n",
    "six_months_filtered = demolitions[demolitions.IssuedDate.dt.month < 7]\n",
    "six_months_filtered.shape"
   ]
  },
  {
   "cell_type": "code",
   "execution_count": 7,
   "metadata": {},
   "outputs": [
    {
     "data": {
      "text/html": [
       "<div>\n",
       "<style scoped>\n",
       "    .dataframe tbody tr th:only-of-type {\n",
       "        vertical-align: middle;\n",
       "    }\n",
       "\n",
       "    .dataframe tbody tr th {\n",
       "        vertical-align: top;\n",
       "    }\n",
       "\n",
       "    .dataframe thead th {\n",
       "        text-align: right;\n",
       "    }\n",
       "</style>\n",
       "<table border=\"1\" class=\"dataframe\">\n",
       "  <thead>\n",
       "    <tr style=\"text-align: right;\">\n",
       "      <th></th>\n",
       "      <th>Year</th>\n",
       "      <th>Count</th>\n",
       "    </tr>\n",
       "  </thead>\n",
       "  <tbody>\n",
       "    <tr>\n",
       "      <th>0</th>\n",
       "      <td>2017</td>\n",
       "      <td>306</td>\n",
       "    </tr>\n",
       "    <tr>\n",
       "      <th>1</th>\n",
       "      <td>2018</td>\n",
       "      <td>280</td>\n",
       "    </tr>\n",
       "    <tr>\n",
       "      <th>2</th>\n",
       "      <td>2014</td>\n",
       "      <td>176</td>\n",
       "    </tr>\n",
       "    <tr>\n",
       "      <th>3</th>\n",
       "      <td>2013</td>\n",
       "      <td>167</td>\n",
       "    </tr>\n",
       "    <tr>\n",
       "      <th>4</th>\n",
       "      <td>2016</td>\n",
       "      <td>159</td>\n",
       "    </tr>\n",
       "    <tr>\n",
       "      <th>5</th>\n",
       "      <td>2015</td>\n",
       "      <td>150</td>\n",
       "    </tr>\n",
       "    <tr>\n",
       "      <th>6</th>\n",
       "      <td>2012</td>\n",
       "      <td>132</td>\n",
       "    </tr>\n",
       "    <tr>\n",
       "      <th>7</th>\n",
       "      <td>2011</td>\n",
       "      <td>84</td>\n",
       "    </tr>\n",
       "    <tr>\n",
       "      <th>8</th>\n",
       "      <td>2010</td>\n",
       "      <td>75</td>\n",
       "    </tr>\n",
       "    <tr>\n",
       "      <th>9</th>\n",
       "      <td>2009</td>\n",
       "      <td>68</td>\n",
       "    </tr>\n",
       "    <tr>\n",
       "      <th>10</th>\n",
       "      <td>2008</td>\n",
       "      <td>61</td>\n",
       "    </tr>\n",
       "  </tbody>\n",
       "</table>\n",
       "</div>"
      ],
      "text/plain": [
       "    Year  Count\n",
       "0   2017    306\n",
       "1   2018    280\n",
       "2   2014    176\n",
       "3   2013    167\n",
       "4   2016    159\n",
       "5   2015    150\n",
       "6   2012    132\n",
       "7   2011     84\n",
       "8   2010     75\n",
       "9   2009     68\n",
       "10  2008     61"
      ]
     },
     "execution_count": 7,
     "metadata": {},
     "output_type": "execute_result"
    }
   ],
   "source": [
    "# make dataframe based on pivot of permits per year\n",
    "six_months_data = six_months_filtered.CalendarYearIssued.value_counts().reset_index()\n",
    "six_months_data.columns = ['Year', 'Count']\n",
    "six_months_data"
   ]
  },
  {
   "cell_type": "code",
   "execution_count": 8,
   "metadata": {},
   "outputs": [
    {
     "data": {
      "application/vnd.vegalite.v2+json": {
       "$schema": "https://vega.github.io/schema/vega-lite/v2.4.1.json",
       "config": {
        "view": {
         "height": 300,
         "width": 400
        }
       },
       "data": {
        "values": [
         {
          "Count": 306,
          "Year": "2017",
          "index": 0
         },
         {
          "Count": 280,
          "Year": "2018",
          "index": 1
         },
         {
          "Count": 176,
          "Year": "2014",
          "index": 2
         },
         {
          "Count": 167,
          "Year": "2013",
          "index": 3
         },
         {
          "Count": 159,
          "Year": "2016",
          "index": 4
         },
         {
          "Count": 150,
          "Year": "2015",
          "index": 5
         },
         {
          "Count": 132,
          "Year": "2012",
          "index": 6
         },
         {
          "Count": 84,
          "Year": "2011",
          "index": 7
         },
         {
          "Count": 75,
          "Year": "2010",
          "index": 8
         },
         {
          "Count": 68,
          "Year": "2009",
          "index": 9
         },
         {
          "Count": 61,
          "Year": "2008",
          "index": 10
         }
        ]
       },
       "encoding": {
        "x": {
         "axis": {
          "labelAngle": 0,
          "title": "Jan-June each year"
         },
         "field": "Year",
         "type": "ordinal"
        },
        "y": {
         "axis": {
          "title": "Demolition permits"
         },
         "field": "Count",
         "type": "quantitative"
        }
       },
       "mark": "bar",
       "title": "Residential demolitions first six months",
       "width": 600
      },
      "image/png": "[encoded data removed]",
      "text/plain": [
       "<VegaLite 2 object>\n",
       "\n",
       "If you see this message, it means the renderer has not been properly enabled\n",
       "for the frontend that you are using. For more information, see\n",
       "https://altair-viz.github.io/user_guide/troubleshooting.html\n"
      ]
     },
     "execution_count": 8,
     "metadata": {},
     "output_type": "execute_result"
    }
   ],
   "source": [
    "# Build chart based on dataframe above\n",
    "alt.Chart(\n",
    "    six_months_data.reset_index(),\n",
    "    title=\"Residential demolitions first six months\"\n",
    ").mark_bar().encode(\n",
    "    x=alt.X(\"Year:O\", axis=alt.Axis(title=\"Jan-June each year\", labelAngle=0)),\n",
    "    y=alt.Y(\"Count:Q\", axis=alt.Axis(title=\"Demolition permits\")),\n",
    ").properties(width=600)"
   ]
  },
  {
   "cell_type": "markdown",
   "metadata": {},
   "source": [
    "## Square footage of residential homes demolished\n",
    "\n",
    "A look in case there is some change in the type or style of homes being demolished."
   ]
  },
  {
   "cell_type": "code",
   "execution_count": 9,
   "metadata": {},
   "outputs": [
    {
     "data": {
      "text/html": [
       "<div>\n",
       "<style scoped>\n",
       "    .dataframe tbody tr th:only-of-type {\n",
       "        vertical-align: middle;\n",
       "    }\n",
       "\n",
       "    .dataframe tbody tr th {\n",
       "        vertical-align: top;\n",
       "    }\n",
       "\n",
       "    .dataframe thead th {\n",
       "        text-align: right;\n",
       "    }\n",
       "</style>\n",
       "<table border=\"1\" class=\"dataframe\">\n",
       "  <thead>\n",
       "    <tr style=\"text-align: right;\">\n",
       "      <th></th>\n",
       "      <th>Year</th>\n",
       "      <th>SqFt</th>\n",
       "    </tr>\n",
       "  </thead>\n",
       "  <tbody>\n",
       "    <tr>\n",
       "      <th>0</th>\n",
       "      <td>2008</td>\n",
       "      <td>131987.0</td>\n",
       "    </tr>\n",
       "    <tr>\n",
       "      <th>1</th>\n",
       "      <td>2009</td>\n",
       "      <td>172399.0</td>\n",
       "    </tr>\n",
       "    <tr>\n",
       "      <th>2</th>\n",
       "      <td>2010</td>\n",
       "      <td>197725.0</td>\n",
       "    </tr>\n",
       "    <tr>\n",
       "      <th>3</th>\n",
       "      <td>2011</td>\n",
       "      <td>245702.0</td>\n",
       "    </tr>\n",
       "    <tr>\n",
       "      <th>4</th>\n",
       "      <td>2012</td>\n",
       "      <td>339043.0</td>\n",
       "    </tr>\n",
       "    <tr>\n",
       "      <th>5</th>\n",
       "      <td>2013</td>\n",
       "      <td>294329.0</td>\n",
       "    </tr>\n",
       "    <tr>\n",
       "      <th>6</th>\n",
       "      <td>2014</td>\n",
       "      <td>425708.0</td>\n",
       "    </tr>\n",
       "    <tr>\n",
       "      <th>7</th>\n",
       "      <td>2015</td>\n",
       "      <td>362767.0</td>\n",
       "    </tr>\n",
       "    <tr>\n",
       "      <th>8</th>\n",
       "      <td>2016</td>\n",
       "      <td>654906.0</td>\n",
       "    </tr>\n",
       "    <tr>\n",
       "      <th>9</th>\n",
       "      <td>2017</td>\n",
       "      <td>843899.0</td>\n",
       "    </tr>\n",
       "    <tr>\n",
       "      <th>10</th>\n",
       "      <td>2018</td>\n",
       "      <td>402593.0</td>\n",
       "    </tr>\n",
       "  </tbody>\n",
       "</table>\n",
       "</div>"
      ],
      "text/plain": [
       "    Year      SqFt\n",
       "0   2008  131987.0\n",
       "1   2009  172399.0\n",
       "2   2010  197725.0\n",
       "3   2011  245702.0\n",
       "4   2012  339043.0\n",
       "5   2013  294329.0\n",
       "6   2014  425708.0\n",
       "7   2015  362767.0\n",
       "8   2016  654906.0\n",
       "9   2017  843899.0\n",
       "10  2018  402593.0"
      ]
     },
     "execution_count": 9,
     "metadata": {},
     "output_type": "execute_result"
    }
   ],
   "source": [
    "demos_spft = demolitions.groupby('CalendarYearIssued').sum().TotalExistingBldgSQFT.reset_index()\n",
    "demos_spft.columns = ['Year', 'SqFt']\n",
    "demos_spft"
   ]
  },
  {
   "cell_type": "code",
   "execution_count": 10,
   "metadata": {},
   "outputs": [
    {
     "data": {
      "application/vnd.vegalite.v2+json": {
       "$schema": "https://vega.github.io/schema/vega-lite/v2.4.1.json",
       "config": {
        "view": {
         "height": 300,
         "width": 400
        }
       },
       "data": {
        "values": [
         {
          "SqFt": 131987,
          "Year": "2008",
          "index": 0
         },
         {
          "SqFt": 172399,
          "Year": "2009",
          "index": 1
         },
         {
          "SqFt": 197725,
          "Year": "2010",
          "index": 2
         },
         {
          "SqFt": 245702,
          "Year": "2011",
          "index": 3
         },
         {
          "SqFt": 339043,
          "Year": "2012",
          "index": 4
         },
         {
          "SqFt": 294329,
          "Year": "2013",
          "index": 5
         },
         {
          "SqFt": 425708,
          "Year": "2014",
          "index": 6
         },
         {
          "SqFt": 362767,
          "Year": "2015",
          "index": 7
         },
         {
          "SqFt": 654906,
          "Year": "2016",
          "index": 8
         },
         {
          "SqFt": 843899,
          "Year": "2017",
          "index": 9
         },
         {
          "SqFt": 402593,
          "Year": "2018",
          "index": 10
         }
        ]
       },
       "encoding": {
        "x": {
         "axis": {
          "labelAngle": 0,
          "title": "Year"
         },
         "field": "Year",
         "type": "ordinal"
        },
        "y": {
         "axis": {
          "title": "Amount demolished"
         },
         "field": "SqFt",
         "type": "quantitative"
        }
       },
       "mark": "bar",
       "title": "Square footgage demolished",
       "width": 600
      },
      "image/png": "[encoded data removed]",
      "text/plain": [
       "<VegaLite 2 object>\n",
       "\n",
       "If you see this message, it means the renderer has not been properly enabled\n",
       "for the frontend that you are using. For more information, see\n",
       "https://altair-viz.github.io/user_guide/troubleshooting.html\n"
      ]
     },
     "execution_count": 10,
     "metadata": {},
     "output_type": "execute_result"
    }
   ],
   "source": [
    "alt.Chart(demos_spft.reset_index(), title=\"Square footgage demolished\").mark_bar().encode(\n",
    "    x=alt.X(\"Year:O\", axis=alt.Axis(title=\"Year\", labelAngle=0)),\n",
    "    y=alt.Y(\"SqFt:Q\", axis=alt.Axis(title=\"Amount demolished\")),\n",
    ").properties(width=600)"
   ]
  },
  {
   "cell_type": "markdown",
   "metadata": {},
   "source": [
    "The total square footage pretty much tracks with the number of permits, and isn't very revealing."
   ]
  },
  {
   "cell_type": "markdown",
   "metadata": {},
   "source": [
    "### Pace by square footage first half of year\n",
    "It looks like the pace for 2018, is a bit less than 2017."
   ]
  },
  {
   "cell_type": "code",
   "execution_count": 11,
   "metadata": {},
   "outputs": [
    {
     "data": {
      "text/html": [
       "<div>\n",
       "<style scoped>\n",
       "    .dataframe tbody tr th:only-of-type {\n",
       "        vertical-align: middle;\n",
       "    }\n",
       "\n",
       "    .dataframe tbody tr th {\n",
       "        vertical-align: top;\n",
       "    }\n",
       "\n",
       "    .dataframe thead th {\n",
       "        text-align: right;\n",
       "    }\n",
       "</style>\n",
       "<table border=\"1\" class=\"dataframe\">\n",
       "  <thead>\n",
       "    <tr style=\"text-align: right;\">\n",
       "      <th></th>\n",
       "      <th>Year</th>\n",
       "      <th>SqFt</th>\n",
       "    </tr>\n",
       "  </thead>\n",
       "  <tbody>\n",
       "    <tr>\n",
       "      <th>0</th>\n",
       "      <td>2008</td>\n",
       "      <td>78621.0</td>\n",
       "    </tr>\n",
       "    <tr>\n",
       "      <th>1</th>\n",
       "      <td>2009</td>\n",
       "      <td>74045.0</td>\n",
       "    </tr>\n",
       "    <tr>\n",
       "      <th>2</th>\n",
       "      <td>2010</td>\n",
       "      <td>95895.0</td>\n",
       "    </tr>\n",
       "    <tr>\n",
       "      <th>3</th>\n",
       "      <td>2011</td>\n",
       "      <td>126032.0</td>\n",
       "    </tr>\n",
       "    <tr>\n",
       "      <th>4</th>\n",
       "      <td>2012</td>\n",
       "      <td>180176.0</td>\n",
       "    </tr>\n",
       "    <tr>\n",
       "      <th>5</th>\n",
       "      <td>2013</td>\n",
       "      <td>87939.0</td>\n",
       "    </tr>\n",
       "    <tr>\n",
       "      <th>6</th>\n",
       "      <td>2014</td>\n",
       "      <td>207848.0</td>\n",
       "    </tr>\n",
       "    <tr>\n",
       "      <th>7</th>\n",
       "      <td>2015</td>\n",
       "      <td>159388.0</td>\n",
       "    </tr>\n",
       "    <tr>\n",
       "      <th>8</th>\n",
       "      <td>2016</td>\n",
       "      <td>201239.0</td>\n",
       "    </tr>\n",
       "    <tr>\n",
       "      <th>9</th>\n",
       "      <td>2017</td>\n",
       "      <td>505389.0</td>\n",
       "    </tr>\n",
       "    <tr>\n",
       "      <th>10</th>\n",
       "      <td>2018</td>\n",
       "      <td>402593.0</td>\n",
       "    </tr>\n",
       "  </tbody>\n",
       "</table>\n",
       "</div>"
      ],
      "text/plain": [
       "    Year      SqFt\n",
       "0   2008   78621.0\n",
       "1   2009   74045.0\n",
       "2   2010   95895.0\n",
       "3   2011  126032.0\n",
       "4   2012  180176.0\n",
       "5   2013   87939.0\n",
       "6   2014  207848.0\n",
       "7   2015  159388.0\n",
       "8   2016  201239.0\n",
       "9   2017  505389.0\n",
       "10  2018  402593.0"
      ]
     },
     "execution_count": 11,
     "metadata": {},
     "output_type": "execute_result"
    }
   ],
   "source": [
    "# group by year, sqft totals for first six months\n",
    "demos_spft_6mo = six_months_filtered.groupby(\n",
    "    'CalendarYearIssued'\n",
    ").sum().TotalExistingBldgSQFT.reset_index()\n",
    "demos_spft_6mo.columns = ['Year', 'SqFt']\n",
    "demos_spft_6mo"
   ]
  },
  {
   "cell_type": "code",
   "execution_count": 12,
   "metadata": {},
   "outputs": [
    {
     "data": {
      "application/vnd.vegalite.v2+json": {
       "$schema": "https://vega.github.io/schema/vega-lite/v2.4.1.json",
       "config": {
        "view": {
         "height": 300,
         "width": 400
        }
       },
       "data": {
        "values": [
         {
          "SqFt": 78621,
          "Year": "2008",
          "index": 0
         },
         {
          "SqFt": 74045,
          "Year": "2009",
          "index": 1
         },
         {
          "SqFt": 95895,
          "Year": "2010",
          "index": 2
         },
         {
          "SqFt": 126032,
          "Year": "2011",
          "index": 3
         },
         {
          "SqFt": 180176,
          "Year": "2012",
          "index": 4
         },
         {
          "SqFt": 87939,
          "Year": "2013",
          "index": 5
         },
         {
          "SqFt": 207848,
          "Year": "2014",
          "index": 6
         },
         {
          "SqFt": 159388,
          "Year": "2015",
          "index": 7
         },
         {
          "SqFt": 201239,
          "Year": "2016",
          "index": 8
         },
         {
          "SqFt": 505389,
          "Year": "2017",
          "index": 9
         },
         {
          "SqFt": 402593,
          "Year": "2018",
          "index": 10
         }
        ]
       },
       "encoding": {
        "x": {
         "axis": {
          "labelAngle": 0,
          "title": "Jan-June each year"
         },
         "field": "Year",
         "type": "ordinal"
        },
        "y": {
         "axis": {
          "title": "Amount demolished"
         },
         "field": "SqFt",
         "type": "quantitative"
        }
       },
       "mark": "bar",
       "title": "Square footgage demolished (6 Months)",
       "width": 600
      },
      "image/png": "[encoded data removed]",
      "text/plain": [
       "<VegaLite 2 object>\n",
       "\n",
       "If you see this message, it means the renderer has not been properly enabled\n",
       "for the frontend that you are using. For more information, see\n",
       "https://altair-viz.github.io/user_guide/troubleshooting.html\n"
      ]
     },
     "execution_count": 12,
     "metadata": {},
     "output_type": "execute_result"
    }
   ],
   "source": [
    "# chart based on dataframe above\n",
    "alt.Chart(\n",
    "    demos_spft_6mo.reset_index(),\n",
    "    title=\"Square footgage demolished (6 Months)\"\n",
    ").mark_bar().encode(\n",
    "    x=alt.X(\"Year:O\", axis=alt.Axis(title=\"Jan-June each year\", labelAngle=0)),\n",
    "    y=alt.Y(\"SqFt:Q\", axis=alt.Axis(title=\"Amount demolished\")),\n",
    ").properties(width=600)"
   ]
  },
  {
   "cell_type": "markdown",
   "metadata": {},
   "source": [
    "### Average square feet by year"
   ]
  },
  {
   "cell_type": "code",
   "execution_count": 13,
   "metadata": {},
   "outputs": [
    {
     "data": {
      "text/html": [
       "<div>\n",
       "<style scoped>\n",
       "    .dataframe tbody tr th:only-of-type {\n",
       "        vertical-align: middle;\n",
       "    }\n",
       "\n",
       "    .dataframe tbody tr th {\n",
       "        vertical-align: top;\n",
       "    }\n",
       "\n",
       "    .dataframe thead th {\n",
       "        text-align: right;\n",
       "    }\n",
       "</style>\n",
       "<table border=\"1\" class=\"dataframe\">\n",
       "  <thead>\n",
       "    <tr style=\"text-align: right;\">\n",
       "      <th></th>\n",
       "      <th>Year</th>\n",
       "      <th>Avg SqFt</th>\n",
       "    </tr>\n",
       "  </thead>\n",
       "  <tbody>\n",
       "    <tr>\n",
       "      <th>0</th>\n",
       "      <td>2008</td>\n",
       "      <td>1199.881818</td>\n",
       "    </tr>\n",
       "    <tr>\n",
       "      <th>1</th>\n",
       "      <td>2009</td>\n",
       "      <td>1258.386861</td>\n",
       "    </tr>\n",
       "    <tr>\n",
       "      <th>2</th>\n",
       "      <td>2010</td>\n",
       "      <td>1300.822368</td>\n",
       "    </tr>\n",
       "    <tr>\n",
       "      <th>3</th>\n",
       "      <td>2011</td>\n",
       "      <td>1396.034091</td>\n",
       "    </tr>\n",
       "    <tr>\n",
       "      <th>4</th>\n",
       "      <td>2012</td>\n",
       "      <td>1289.136882</td>\n",
       "    </tr>\n",
       "    <tr>\n",
       "      <th>5</th>\n",
       "      <td>2013</td>\n",
       "      <td>897.344512</td>\n",
       "    </tr>\n",
       "    <tr>\n",
       "      <th>6</th>\n",
       "      <td>2014</td>\n",
       "      <td>1192.459384</td>\n",
       "    </tr>\n",
       "    <tr>\n",
       "      <th>7</th>\n",
       "      <td>2015</td>\n",
       "      <td>1045.438040</td>\n",
       "    </tr>\n",
       "    <tr>\n",
       "      <th>8</th>\n",
       "      <td>2016</td>\n",
       "      <td>1471.698876</td>\n",
       "    </tr>\n",
       "    <tr>\n",
       "      <th>9</th>\n",
       "      <td>2017</td>\n",
       "      <td>1493.626549</td>\n",
       "    </tr>\n",
       "    <tr>\n",
       "      <th>10</th>\n",
       "      <td>2018</td>\n",
       "      <td>1437.832143</td>\n",
       "    </tr>\n",
       "  </tbody>\n",
       "</table>\n",
       "</div>"
      ],
      "text/plain": [
       "    Year     Avg SqFt\n",
       "0   2008  1199.881818\n",
       "1   2009  1258.386861\n",
       "2   2010  1300.822368\n",
       "3   2011  1396.034091\n",
       "4   2012  1289.136882\n",
       "5   2013   897.344512\n",
       "6   2014  1192.459384\n",
       "7   2015  1045.438040\n",
       "8   2016  1471.698876\n",
       "9   2017  1493.626549\n",
       "10  2018  1437.832143"
      ]
     },
     "execution_count": 13,
     "metadata": {},
     "output_type": "execute_result"
    }
   ],
   "source": [
    "# group by year, sqft totals for first six months\n",
    "demos_spft_avg = demolitions.groupby(\n",
    "    'CalendarYearIssued'\n",
    ").mean().TotalExistingBldgSQFT.reset_index()\n",
    "demos_spft_avg.columns = ['Year', 'Avg SqFt']\n",
    "demos_spft_avg"
   ]
  },
  {
   "cell_type": "code",
   "execution_count": 14,
   "metadata": {},
   "outputs": [
    {
     "data": {
      "application/vnd.vegalite.v2+json": {
       "$schema": "https://vega.github.io/schema/vega-lite/v2.4.1.json",
       "config": {
        "view": {
         "height": 300,
         "width": 400
        }
       },
       "data": {
        "values": [
         {
          "Avg SqFt": 1199.8818181818183,
          "Year": "2008",
          "index": 0
         },
         {
          "Avg SqFt": 1258.3868613138686,
          "Year": "2009",
          "index": 1
         },
         {
          "Avg SqFt": 1300.8223684210527,
          "Year": "2010",
          "index": 2
         },
         {
          "Avg SqFt": 1396.034090909091,
          "Year": "2011",
          "index": 3
         },
         {
          "Avg SqFt": 1289.1368821292776,
          "Year": "2012",
          "index": 4
         },
         {
          "Avg SqFt": 897.344512195122,
          "Year": "2013",
          "index": 5
         },
         {
          "Avg SqFt": 1192.4593837535015,
          "Year": "2014",
          "index": 6
         },
         {
          "Avg SqFt": 1045.4380403458213,
          "Year": "2015",
          "index": 7
         },
         {
          "Avg SqFt": 1471.6988764044943,
          "Year": "2016",
          "index": 8
         },
         {
          "Avg SqFt": 1493.6265486725663,
          "Year": "2017",
          "index": 9
         },
         {
          "Avg SqFt": 1437.8321428571428,
          "Year": "2018",
          "index": 10
         }
        ]
       },
       "encoding": {
        "x": {
         "axis": {
          "labelAngle": 0,
          "title": "Year"
         },
         "field": "Year",
         "type": "ordinal"
        },
        "y": {
         "axis": {
          "title": "Avg SqFt"
         },
         "field": "Avg SqFt",
         "type": "quantitative"
        }
       },
       "mark": "bar",
       "title": "Average Square footgage",
       "width": 600
      },
      "image/png": "[encoded data removed]",
      "text/plain": [
       "<VegaLite 2 object>\n",
       "\n",
       "If you see this message, it means the renderer has not been properly enabled\n",
       "for the frontend that you are using. For more information, see\n",
       "https://altair-viz.github.io/user_guide/troubleshooting.html\n"
      ]
     },
     "execution_count": 14,
     "metadata": {},
     "output_type": "execute_result"
    }
   ],
   "source": [
    "# chart based on dataframe above\n",
    "alt.Chart(\n",
    "    demos_spft_avg.reset_index(),\n",
    "    title=\"Average Square footgage\"\n",
    ").mark_bar().encode(\n",
    "    x=alt.X(\"Year:O\", axis=alt.Axis(title=\"Year\", labelAngle=0)),\n",
    "    y=alt.Y(\"Avg SqFt:Q\", axis=alt.Axis(title=\"Avg SqFt\")),\n",
    ").properties(width=600)"
   ]
  },
  {
   "cell_type": "markdown",
   "metadata": {},
   "source": [
    "Also not particularly revealing."
   ]
  },
  {
   "cell_type": "markdown",
   "metadata": {},
   "source": [
    "### Distribution of square footage\n",
    "\n",
    "To get an idea on the sizes of homes that are demolished. This chart could use some more work to show how the bins are defined. It's offering few insights as-is.\n"
   ]
  },
  {
   "cell_type": "code",
   "execution_count": 15,
   "metadata": {},
   "outputs": [
    {
     "data": {
      "text/plain": [
       "array([[<matplotlib.axes._subplots.AxesSubplot object at 0x111c0c748>]],\n",
       "      dtype=object)"
      ]
     },
     "execution_count": 15,
     "metadata": {},
     "output_type": "execute_result"
    },
    {
     "data": {
      "image/png": "[encoded data removed]",
      "text/plain": [
       "<Figure size 432x288 with 1 Axes>"
      ]
     },
     "metadata": {},
     "output_type": "display_data"
    }
   ],
   "source": [
    "demolitions.hist(column='TotalExistingBldgSQFT', bins=20)"
   ]
  },
  {
   "cell_type": "markdown",
   "metadata": {},
   "source": [
    "## Demolitions by ZIP code\n",
    "\n",
    "ZIP code is probably the most recognizable geographic reference we have in the data, and allows us to see the pace of demolitions differs throughout the city. "
   ]
  },
  {
   "cell_type": "code",
   "execution_count": 16,
   "metadata": {},
   "outputs": [
    {
     "data": {
      "text/html": [
       "<div>\n",
       "<style scoped>\n",
       "    .dataframe tbody tr th:only-of-type {\n",
       "        vertical-align: middle;\n",
       "    }\n",
       "\n",
       "    .dataframe tbody tr th {\n",
       "        vertical-align: top;\n",
       "    }\n",
       "\n",
       "    .dataframe thead th {\n",
       "        text-align: right;\n",
       "    }\n",
       "</style>\n",
       "<table border=\"1\" class=\"dataframe\">\n",
       "  <thead>\n",
       "    <tr style=\"text-align: right;\">\n",
       "      <th></th>\n",
       "      <th>Zip</th>\n",
       "      <th>Count</th>\n",
       "    </tr>\n",
       "  </thead>\n",
       "  <tbody>\n",
       "    <tr>\n",
       "      <th>0</th>\n",
       "      <td>78704</td>\n",
       "      <td>624</td>\n",
       "    </tr>\n",
       "    <tr>\n",
       "      <th>1</th>\n",
       "      <td>78702</td>\n",
       "      <td>551</td>\n",
       "    </tr>\n",
       "    <tr>\n",
       "      <th>2</th>\n",
       "      <td>78703</td>\n",
       "      <td>371</td>\n",
       "    </tr>\n",
       "    <tr>\n",
       "      <th>3</th>\n",
       "      <td>78757</td>\n",
       "      <td>215</td>\n",
       "    </tr>\n",
       "    <tr>\n",
       "      <th>4</th>\n",
       "      <td>78731</td>\n",
       "      <td>174</td>\n",
       "    </tr>\n",
       "  </tbody>\n",
       "</table>\n",
       "</div>"
      ],
      "text/plain": [
       "     Zip  Count\n",
       "0  78704    624\n",
       "1  78702    551\n",
       "2  78703    371\n",
       "3  78757    215\n",
       "4  78731    174"
      ]
     },
     "execution_count": 16,
     "metadata": {},
     "output_type": "execute_result"
    }
   ],
   "source": [
    "# make a dataframe with counts of permits by zip code\n",
    "demos_by_zip = demolitions.OriginalZip.value_counts().reset_index()\n",
    "demos_by_zip.columns = ['Zip', 'Count']\n",
    "# peek at result\n",
    "demos_by_zip.head()"
   ]
  },
  {
   "cell_type": "code",
   "execution_count": 17,
   "metadata": {},
   "outputs": [
    {
     "data": {
      "application/vnd.vegalite.v2+json": {
       "$schema": "https://vega.github.io/schema/vega-lite/v2.4.1.json",
       "config": {
        "view": {
         "height": 300,
         "width": 400
        }
       },
       "data": {
        "values": [
         {
          "Count": 624,
          "Zip": "78704"
         },
         {
          "Count": 551,
          "Zip": "78702"
         },
         {
          "Count": 371,
          "Zip": "78703"
         },
         {
          "Count": 215,
          "Zip": "78757"
         },
         {
          "Count": 174,
          "Zip": "78731"
         },
         {
          "Count": 168,
          "Zip": "78721"
         },
         {
          "Count": 141,
          "Zip": "78751"
         },
         {
          "Count": 126,
          "Zip": "78756"
         },
         {
          "Count": 116,
          "Zip": "78745"
         },
         {
          "Count": 115,
          "Zip": "78744"
         }
        ]
       },
       "encoding": {
        "x": {
         "axis": {
          "title": "Number of permits"
         },
         "field": "Count",
         "type": "quantitative"
        },
        "y": {
         "axis": {
          "title": "Zip code"
         },
         "field": "Zip",
         "sort": {
          "field": "Count",
          "op": "sum",
          "order": "descending"
         },
         "type": "ordinal"
        }
       },
       "mark": "bar",
       "title": "Zip codes with the most demolitions",
       "width": 600
      },
      "image/png": "[encoded data removed]",
      "text/plain": [
       "<VegaLite 2 object>\n",
       "\n",
       "If you see this message, it means the renderer has not been properly enabled\n",
       "for the frontend that you are using. For more information, see\n",
       "https://altair-viz.github.io/user_guide/troubleshooting.html\n"
      ]
     },
     "execution_count": 17,
     "metadata": {},
     "output_type": "execute_result"
    }
   ],
   "source": [
    "# chart based on first ten items in dataframe above\n",
    "alt.Chart(\n",
    "    demos_by_zip.head(10),\n",
    "    title=\"Zip codes with the most demolitions\"\n",
    ").mark_bar().encode(\n",
    "    x=alt.X(\"Count:Q\",\n",
    "            axis=alt.Axis(title=\"Number of permits\")),\n",
    "    y=alt.Y(\"Zip:O\",\n",
    "            # this is the sorting magic\n",
    "            sort=alt.SortField(\n",
    "                field=\"Count\",\n",
    "                order=\"descending\",\n",
    "                op=\"sum\"\n",
    "            ),\n",
    "            axis=alt.Axis(title=\"Zip code\")),\n",
    ").properties(width=600)"
   ]
  },
  {
   "cell_type": "markdown",
   "metadata": {},
   "source": [
    "## Demolitions by zip code and year\n",
    "\n",
    "How is the pace of demolitions changing in different parts of the city? Again, we look at ZIP codes for insight."
   ]
  },
  {
   "cell_type": "markdown",
   "metadata": {},
   "source": [
    "#### Build our dataframe"
   ]
  },
  {
   "cell_type": "code",
   "execution_count": 18,
   "metadata": {},
   "outputs": [
    {
     "data": {
      "text/plain": [
       "(284, 3)"
      ]
     },
     "execution_count": 18,
     "metadata": {},
     "output_type": "execute_result"
    }
   ],
   "source": [
    "# this is all years, then grouped by year, zip and count\n",
    "demos_yr_zip_all = demolitions.groupby(['CalendarYearIssued','OriginalZip']).agg(dict(\n",
    "    PermitNum='count'\n",
    ")).reset_index()\n",
    "demos_yr_zip_all.columns = ['Year', 'Zip', 'Count']\n",
    "demos_yr_zip_all.shape"
   ]
  },
  {
   "cell_type": "code",
   "execution_count": 19,
   "metadata": {},
   "outputs": [
    {
     "data": {
      "text/plain": [
       "(260, 3)"
      ]
     },
     "execution_count": 19,
     "metadata": {},
     "output_type": "execute_result"
    }
   ],
   "source": [
    "# Filter out 2018 because it is a partial year\n",
    "before_2018 = demolitions[demolitions['CalendarYearIssued'] != '2018']\n",
    "\n",
    "# build a dataframe of yr, zip, count\n",
    "demos_yr_zip = before_2018.groupby(['CalendarYearIssued','OriginalZip']).agg(dict(\n",
    "    PermitNum='count'\n",
    ")).reset_index()\n",
    "demos_yr_zip.columns = ['Year', 'Zip', 'Count']\n",
    "demos_yr_zip.shape"
   ]
  },
  {
   "cell_type": "code",
   "execution_count": 20,
   "metadata": {},
   "outputs": [
    {
     "data": {
      "text/html": [
       "<div>\n",
       "<style scoped>\n",
       "    .dataframe tbody tr th:only-of-type {\n",
       "        vertical-align: middle;\n",
       "    }\n",
       "\n",
       "    .dataframe tbody tr th {\n",
       "        vertical-align: top;\n",
       "    }\n",
       "\n",
       "    .dataframe thead th {\n",
       "        text-align: right;\n",
       "    }\n",
       "</style>\n",
       "<table border=\"1\" class=\"dataframe\">\n",
       "  <thead>\n",
       "    <tr style=\"text-align: right;\">\n",
       "      <th></th>\n",
       "      <th>Year</th>\n",
       "      <th>Zip</th>\n",
       "      <th>Count</th>\n",
       "    </tr>\n",
       "  </thead>\n",
       "  <tbody>\n",
       "    <tr>\n",
       "      <th>0</th>\n",
       "      <td>2008</td>\n",
       "      <td>78702</td>\n",
       "      <td>18</td>\n",
       "    </tr>\n",
       "    <tr>\n",
       "      <th>1</th>\n",
       "      <td>2008</td>\n",
       "      <td>78703</td>\n",
       "      <td>22</td>\n",
       "    </tr>\n",
       "    <tr>\n",
       "      <th>2</th>\n",
       "      <td>2008</td>\n",
       "      <td>78704</td>\n",
       "      <td>24</td>\n",
       "    </tr>\n",
       "    <tr>\n",
       "      <th>3</th>\n",
       "      <td>2008</td>\n",
       "      <td>78705</td>\n",
       "      <td>2</td>\n",
       "    </tr>\n",
       "    <tr>\n",
       "      <th>4</th>\n",
       "      <td>2008</td>\n",
       "      <td>78721</td>\n",
       "      <td>7</td>\n",
       "    </tr>\n",
       "  </tbody>\n",
       "</table>\n",
       "</div>"
      ],
      "text/plain": [
       "   Year    Zip  Count\n",
       "0  2008  78702     18\n",
       "1  2008  78703     22\n",
       "2  2008  78704     24\n",
       "3  2008  78705      2\n",
       "4  2008  78721      7"
      ]
     },
     "execution_count": 20,
     "metadata": {},
     "output_type": "execute_result"
    }
   ],
   "source": [
    "# peek at it\n",
    "demos_yr_zip.head()"
   ]
  },
  {
   "cell_type": "markdown",
   "metadata": {},
   "source": [
    "#### All Zips over time\n",
    "\n",
    "Just to see the mess of all demos to see their distribution, of sorts."
   ]
  },
  {
   "cell_type": "code",
   "execution_count": 21,
   "metadata": {},
   "outputs": [
    {
     "data": {
      "application/vnd.vegalite.v2+json": {
       "$schema": "https://vega.github.io/schema/vega-lite/v2.4.1.json",
       "config": {
        "view": {
         "height": 300,
         "width": 400
        }
       },
       "data": {
        "values": [
         {
          "Count": 18,
          "Year": "2008",
          "Zip": "78702"
         },
         {
          "Count": 22,
          "Year": "2008",
          "Zip": "78703"
         },
         {
          "Count": 24,
          "Year": "2008",
          "Zip": "78704"
         },
         {
          "Count": 2,
          "Year": "2008",
          "Zip": "78705"
         },
         {
          "Count": 7,
          "Year": "2008",
          "Zip": "78721"
         },
         {
          "Count": 2,
          "Year": "2008",
          "Zip": "78722"
         },
         {
          "Count": 2,
          "Year": "2008",
          "Zip": "78723"
         },
         {
          "Count": 1,
          "Year": "2008",
          "Zip": "78724"
         },
         {
          "Count": 7,
          "Year": "2008",
          "Zip": "78731"
         },
         {
          "Count": 1,
          "Year": "2008",
          "Zip": "78733"
         },
         {
          "Count": 3,
          "Year": "2008",
          "Zip": "78741"
         },
         {
          "Count": 1,
          "Year": "2008",
          "Zip": "78744"
         },
         {
          "Count": 3,
          "Year": "2008",
          "Zip": "78746"
         },
         {
          "Count": 1,
          "Year": "2008",
          "Zip": "78750"
         },
         {
          "Count": 4,
          "Year": "2008",
          "Zip": "78751"
         },
         {
          "Count": 4,
          "Year": "2008",
          "Zip": "78752"
         },
         {
          "Count": 2,
          "Year": "2008",
          "Zip": "78753"
         },
         {
          "Count": 3,
          "Year": "2008",
          "Zip": "78756"
         },
         {
          "Count": 2,
          "Year": "2008",
          "Zip": "78757"
         },
         {
          "Count": 1,
          "Year": "2008",
          "Zip": "78759"
         },
         {
          "Count": 23,
          "Year": "2009",
          "Zip": "78702"
         },
         {
          "Count": 29,
          "Year": "2009",
          "Zip": "78703"
         },
         {
          "Count": 19,
          "Year": "2009",
          "Zip": "78704"
         },
         {
          "Count": 3,
          "Year": "2009",
          "Zip": "78705"
         },
         {
          "Count": 5,
          "Year": "2009",
          "Zip": "78721"
         },
         {
          "Count": 2,
          "Year": "2009",
          "Zip": "78722"
         },
         {
          "Count": 2,
          "Year": "2009",
          "Zip": "78723"
         },
         {
          "Count": 1,
          "Year": "2009",
          "Zip": "78727"
         },
         {
          "Count": 7,
          "Year": "2009",
          "Zip": "78731"
         },
         {
          "Count": 1,
          "Year": "2009",
          "Zip": "78733"
         },
         {
          "Count": 1,
          "Year": "2009",
          "Zip": "78734"
         },
         {
          "Count": 7,
          "Year": "2009",
          "Zip": "78741"
         },
         {
          "Count": 2,
          "Year": "2009",
          "Zip": "78742"
         },
         {
          "Count": 1,
          "Year": "2009",
          "Zip": "78744"
         },
         {
          "Count": 3,
          "Year": "2009",
          "Zip": "78745"
         },
         {
          "Count": 7,
          "Year": "2009",
          "Zip": "78746"
         },
         {
          "Count": 1,
          "Year": "2009",
          "Zip": "78748"
         },
         {
          "Count": 5,
          "Year": "2009",
          "Zip": "78751"
         },
         {
          "Count": 3,
          "Year": "2009",
          "Zip": "78752"
         },
         {
          "Count": 2,
          "Year": "2009",
          "Zip": "78753"
         },
         {
          "Count": 1,
          "Year": "2009",
          "Zip": "78754"
         },
         {
          "Count": 3,
          "Year": "2009",
          "Zip": "78756"
         },
         {
          "Count": 6,
          "Year": "2009",
          "Zip": "78757"
         },
         {
          "Count": 2,
          "Year": "2009",
          "Zip": "78758"
         },
         {
          "Count": 1,
          "Year": "2009",
          "Zip": "78759"
         },
         {
          "Count": 1,
          "Year": "2010",
          "Zip": "78617"
         },
         {
          "Count": 2,
          "Year": "2010",
          "Zip": "78701"
         },
         {
          "Count": 26,
          "Year": "2010",
          "Zip": "78702"
         },
         {
          "Count": 24,
          "Year": "2010",
          "Zip": "78703"
         },
         {
          "Count": 27,
          "Year": "2010",
          "Zip": "78704"
         },
         {
          "Count": 3,
          "Year": "2010",
          "Zip": "78705"
         },
         {
          "Count": 6,
          "Year": "2010",
          "Zip": "78721"
         },
         {
          "Count": 1,
          "Year": "2010",
          "Zip": "78722"
         },
         {
          "Count": 1,
          "Year": "2010",
          "Zip": "78727"
         },
         {
          "Count": 7,
          "Year": "2010",
          "Zip": "78731"
         },
         {
          "Count": 2,
          "Year": "2010",
          "Zip": "78732"
         },
         {
          "Count": 1,
          "Year": "2010",
          "Zip": "78733"
         },
         {
          "Count": 13,
          "Year": "2010",
          "Zip": "78741"
         },
         {
          "Count": 3,
          "Year": "2010",
          "Zip": "78742"
         },
         {
          "Count": 6,
          "Year": "2010",
          "Zip": "78744"
         },
         {
          "Count": 2,
          "Year": "2010",
          "Zip": "78745"
         },
         {
          "Count": 4,
          "Year": "2010",
          "Zip": "78746"
         },
         {
          "Count": 1,
          "Year": "2010",
          "Zip": "78749"
         },
         {
          "Count": 1,
          "Year": "2010",
          "Zip": "78750"
         },
         {
          "Count": 8,
          "Year": "2010",
          "Zip": "78751"
         },
         {
          "Count": 2,
          "Year": "2010",
          "Zip": "78752"
         },
         {
          "Count": 6,
          "Year": "2010",
          "Zip": "78756"
         },
         {
          "Count": 4,
          "Year": "2010",
          "Zip": "78757"
         },
         {
          "Count": 1,
          "Year": "2010",
          "Zip": "78759"
         },
         {
          "Count": 2,
          "Year": "2011",
          "Zip": "78617"
         },
         {
          "Count": 3,
          "Year": "2011",
          "Zip": "78701"
         },
         {
          "Count": 30,
          "Year": "2011",
          "Zip": "78702"
         },
         {
          "Count": 25,
          "Year": "2011",
          "Zip": "78703"
         },
         {
          "Count": 28,
          "Year": "2011",
          "Zip": "78704"
         },
         {
          "Count": 3,
          "Year": "2011",
          "Zip": "78705"
         },
         {
          "Count": 2,
          "Year": "2011",
          "Zip": "78717"
         },
         {
          "Count": 8,
          "Year": "2011",
          "Zip": "78721"
         },
         {
          "Count": 2,
          "Year": "2011",
          "Zip": "78722"
         },
         {
          "Count": 1,
          "Year": "2011",
          "Zip": "78724"
         },
         {
          "Count": 1,
          "Year": "2011",
          "Zip": "78727"
         },
         {
          "Count": 13,
          "Year": "2011",
          "Zip": "78731"
         },
         {
          "Count": 2,
          "Year": "2011",
          "Zip": "78734"
         },
         {
          "Count": 2,
          "Year": "2011",
          "Zip": "78736"
         },
         {
          "Count": 4,
          "Year": "2011",
          "Zip": "78741"
         },
         {
          "Count": 2,
          "Year": "2011",
          "Zip": "78744"
         },
         {
          "Count": 17,
          "Year": "2011",
          "Zip": "78745"
         },
         {
          "Count": 4,
          "Year": "2011",
          "Zip": "78746"
         },
         {
          "Count": 1,
          "Year": "2011",
          "Zip": "78748"
         },
         {
          "Count": 1,
          "Year": "2011",
          "Zip": "78750"
         },
         {
          "Count": 4,
          "Year": "2011",
          "Zip": "78751"
         },
         {
          "Count": 1,
          "Year": "2011",
          "Zip": "78753"
         },
         {
          "Count": 13,
          "Year": "2011",
          "Zip": "78756"
         },
         {
          "Count": 5,
          "Year": "2011",
          "Zip": "78757"
         },
         {
          "Count": 1,
          "Year": "2011",
          "Zip": "78758"
         },
         {
          "Count": 1,
          "Year": "2011",
          "Zip": "78759"
         },
         {
          "Count": 1,
          "Year": "2012",
          "Zip": "78617"
         },
         {
          "Count": 1,
          "Year": "2012",
          "Zip": "78701"
         },
         {
          "Count": 47,
          "Year": "2012",
          "Zip": "78702"
         },
         {
          "Count": 48,
          "Year": "2012",
          "Zip": "78703"
         },
         {
          "Count": 53,
          "Year": "2012",
          "Zip": "78704"
         },
         {
          "Count": 1,
          "Year": "2012",
          "Zip": "78705"
         },
         {
          "Count": 7,
          "Year": "2012",
          "Zip": "78721"
         },
         {
          "Count": 4,
          "Year": "2012",
          "Zip": "78722"
         },
         {
          "Count": 3,
          "Year": "2012",
          "Zip": "78723"
         },
         {
          "Count": 3,
          "Year": "2012",
          "Zip": "78724"
         },
         {
          "Count": 3,
          "Year": "2012",
          "Zip": "78730"
         },
         {
          "Count": 13,
          "Year": "2012",
          "Zip": "78731"
         },
         {
          "Count": 1,
          "Year": "2012",
          "Zip": "78733"
         },
         {
          "Count": 1,
          "Year": "2012",
          "Zip": "78734"
         },
         {
          "Count": 1,
          "Year": "2012",
          "Zip": "78735"
         },
         {
          "Count": 2,
          "Year": "2012",
          "Zip": "78736"
         },
         {
          "Count": 2,
          "Year": "2012",
          "Zip": "78741"
         },
         {
          "Count": 3,
          "Year": "2012",
          "Zip": "78742"
         },
         {
          "Count": 3,
          "Year": "2012",
          "Zip": "78744"
         },
         {
          "Count": 5,
          "Year": "2012",
          "Zip": "78745"
         },
         {
          "Count": 5,
          "Year": "2012",
          "Zip": "78746"
         },
         {
          "Count": 3,
          "Year": "2012",
          "Zip": "78748"
         },
         {
          "Count": 1,
          "Year": "2012",
          "Zip": "78750"
         },
         {
          "Count": 16,
          "Year": "2012",
          "Zip": "78751"
         },
         {
          "Count": 2,
          "Year": "2012",
          "Zip": "78752"
         },
         {
          "Count": 14,
          "Year": "2012",
          "Zip": "78756"
         },
         {
          "Count": 19,
          "Year": "2012",
          "Zip": "78757"
         },
         {
          "Count": 1,
          "Year": "2012",
          "Zip": "78759"
         },
         {
          "Count": 9,
          "Year": "2013",
          "Zip": "78701"
         },
         {
          "Count": 59,
          "Year": "2013",
          "Zip": "78702"
         },
         {
          "Count": 41,
          "Year": "2013",
          "Zip": "78703"
         },
         {
          "Count": 70,
          "Year": "2013",
          "Zip": "78704"
         },
         {
          "Count": 8,
          "Year": "2013",
          "Zip": "78705"
         },
         {
          "Count": 10,
          "Year": "2013",
          "Zip": "78721"
         },
         {
          "Count": 6,
          "Year": "2013",
          "Zip": "78722"
         },
         {
          "Count": 3,
          "Year": "2013",
          "Zip": "78723"
         },
         {
          "Count": 6,
          "Year": "2013",
          "Zip": "78727"
         },
         {
          "Count": 1,
          "Year": "2013",
          "Zip": "78728"
         },
         {
          "Count": 2,
          "Year": "2013",
          "Zip": "78729"
         },
         {
          "Count": 2,
          "Year": "2013",
          "Zip": "78730"
         },
         {
          "Count": 19,
          "Year": "2013",
          "Zip": "78731"
         },
         {
          "Count": 6,
          "Year": "2013",
          "Zip": "78741"
         },
         {
          "Count": 3,
          "Year": "2013",
          "Zip": "78744"
         },
         {
          "Count": 6,
          "Year": "2013",
          "Zip": "78745"
         },
         {
          "Count": 9,
          "Year": "2013",
          "Zip": "78746"
         },
         {
          "Count": 1,
          "Year": "2013",
          "Zip": "78747"
         },
         {
          "Count": 1,
          "Year": "2013",
          "Zip": "78748"
         },
         {
          "Count": 1,
          "Year": "2013",
          "Zip": "78749"
         },
         {
          "Count": 22,
          "Year": "2013",
          "Zip": "78751"
         },
         {
          "Count": 4,
          "Year": "2013",
          "Zip": "78752"
         },
         {
          "Count": 1,
          "Year": "2013",
          "Zip": "78754"
         },
         {
          "Count": 18,
          "Year": "2013",
          "Zip": "78756"
         },
         {
          "Count": 17,
          "Year": "2013",
          "Zip": "78757"
         },
         {
          "Count": 3,
          "Year": "2013",
          "Zip": "78759"
         },
         {
          "Count": 2,
          "Year": "2014",
          "Zip": "78701"
         },
         {
          "Count": 75,
          "Year": "2014",
          "Zip": "78702"
         },
         {
          "Count": 37,
          "Year": "2014",
          "Zip": "78703"
         },
         {
          "Count": 74,
          "Year": "2014",
          "Zip": "78704"
         },
         {
          "Count": 3,
          "Year": "2014",
          "Zip": "78705"
         },
         {
          "Count": 14,
          "Year": "2014",
          "Zip": "78721"
         },
         {
          "Count": 6,
          "Year": "2014",
          "Zip": "78722"
         },
         {
          "Count": 13,
          "Year": "2014",
          "Zip": "78723"
         },
         {
          "Count": 1,
          "Year": "2014",
          "Zip": "78724"
         },
         {
          "Count": 1,
          "Year": "2014",
          "Zip": "78725"
         },
         {
          "Count": 24,
          "Year": "2014",
          "Zip": "78731"
         },
         {
          "Count": 1,
          "Year": "2014",
          "Zip": "78733"
         },
         {
          "Count": 8,
          "Year": "2014",
          "Zip": "78741"
         },
         {
          "Count": 1,
          "Year": "2014",
          "Zip": "78742"
         },
         {
          "Count": 2,
          "Year": "2014",
          "Zip": "78744"
         },
         {
          "Count": 11,
          "Year": "2014",
          "Zip": "78745"
         },
         {
          "Count": 5,
          "Year": "2014",
          "Zip": "78746"
         },
         {
          "Count": 1,
          "Year": "2014",
          "Zip": "78748"
         },
         {
          "Count": 1,
          "Year": "2014",
          "Zip": "78749"
         },
         {
          "Count": 17,
          "Year": "2014",
          "Zip": "78751"
         },
         {
          "Count": 5,
          "Year": "2014",
          "Zip": "78752"
         },
         {
          "Count": 1,
          "Year": "2014",
          "Zip": "78753"
         },
         {
          "Count": 12,
          "Year": "2014",
          "Zip": "78756"
         },
         {
          "Count": 41,
          "Year": "2014",
          "Zip": "78757"
         },
         {
          "Count": 1,
          "Year": "2014",
          "Zip": "78759"
         },
         {
          "Count": 2,
          "Year": "2015",
          "Zip": "78617"
         },
         {
          "Count": 1,
          "Year": "2015",
          "Zip": "78660"
         },
         {
          "Count": 1,
          "Year": "2015",
          "Zip": "78701"
         },
         {
          "Count": 59,
          "Year": "2015",
          "Zip": "78702"
         },
         {
          "Count": 39,
          "Year": "2015",
          "Zip": "78703"
         },
         {
          "Count": 88,
          "Year": "2015",
          "Zip": "78704"
         },
         {
          "Count": 2,
          "Year": "2015",
          "Zip": "78705"
         },
         {
          "Count": 18,
          "Year": "2015",
          "Zip": "78721"
         },
         {
          "Count": 4,
          "Year": "2015",
          "Zip": "78722"
         },
         {
          "Count": 13,
          "Year": "2015",
          "Zip": "78723"
         },
         {
          "Count": 2,
          "Year": "2015",
          "Zip": "78730"
         },
         {
          "Count": 20,
          "Year": "2015",
          "Zip": "78731"
         },
         {
          "Count": 1,
          "Year": "2015",
          "Zip": "78733"
         },
         {
          "Count": 1,
          "Year": "2015",
          "Zip": "78736"
         },
         {
          "Count": 5,
          "Year": "2015",
          "Zip": "78741"
         },
         {
          "Count": 1,
          "Year": "2015",
          "Zip": "78742"
         },
         {
          "Count": 8,
          "Year": "2015",
          "Zip": "78745"
         },
         {
          "Count": 4,
          "Year": "2015",
          "Zip": "78746"
         },
         {
          "Count": 1,
          "Year": "2015",
          "Zip": "78750"
         },
         {
          "Count": 16,
          "Year": "2015",
          "Zip": "78751"
         },
         {
          "Count": 5,
          "Year": "2015",
          "Zip": "78752"
         },
         {
          "Count": 1,
          "Year": "2015",
          "Zip": "78753"
         },
         {
          "Count": 20,
          "Year": "2015",
          "Zip": "78756"
         },
         {
          "Count": 33,
          "Year": "2015",
          "Zip": "78757"
         },
         {
          "Count": 2,
          "Year": "2015",
          "Zip": "78759"
         },
         {
          "Count": 1,
          "Year": "2016",
          "Zip": "78617"
         },
         {
          "Count": 1,
          "Year": "2016",
          "Zip": "78653"
         },
         {
          "Count": 1,
          "Year": "2016",
          "Zip": "78701"
         },
         {
          "Count": 71,
          "Year": "2016",
          "Zip": "78702"
         },
         {
          "Count": 41,
          "Year": "2016",
          "Zip": "78703"
         },
         {
          "Count": 90,
          "Year": "2016",
          "Zip": "78704"
         },
         {
          "Count": 9,
          "Year": "2016",
          "Zip": "78705"
         },
         {
          "Count": 21,
          "Year": "2016",
          "Zip": "78721"
         },
         {
          "Count": 5,
          "Year": "2016",
          "Zip": "78722"
         },
         {
          "Count": 6,
          "Year": "2016",
          "Zip": "78723"
         },
         {
          "Count": 1,
          "Year": "2016",
          "Zip": "78724"
         },
         {
          "Count": 1,
          "Year": "2016",
          "Zip": "78725"
         },
         {
          "Count": 4,
          "Year": "2016",
          "Zip": "78727"
         },
         {
          "Count": 4,
          "Year": "2016",
          "Zip": "78730"
         },
         {
          "Count": 17,
          "Year": "2016",
          "Zip": "78731"
         },
         {
          "Count": 1,
          "Year": "2016",
          "Zip": "78733"
         },
         {
          "Count": 1,
          "Year": "2016",
          "Zip": "78735"
         },
         {
          "Count": 5,
          "Year": "2016",
          "Zip": "78741"
         },
         {
          "Count": 1,
          "Year": "2016",
          "Zip": "78742"
         },
         {
          "Count": 43,
          "Year": "2016",
          "Zip": "78744"
         },
         {
          "Count": 38,
          "Year": "2016",
          "Zip": "78745"
         },
         {
          "Count": 7,
          "Year": "2016",
          "Zip": "78746"
         },
         {
          "Count": 1,
          "Year": "2016",
          "Zip": "78748"
         },
         {
          "Count": 5,
          "Year": "2016",
          "Zip": "78749"
         },
         {
          "Count": 1,
          "Year": "2016",
          "Zip": "78750"
         },
         {
          "Count": 18,
          "Year": "2016",
          "Zip": "78751"
         },
         {
          "Count": 4,
          "Year": "2016",
          "Zip": "78752"
         },
         {
          "Count": 8,
          "Year": "2016",
          "Zip": "78756"
         },
         {
          "Count": 35,
          "Year": "2016",
          "Zip": "78757"
         },
         {
          "Count": 1,
          "Year": "2016",
          "Zip": "78758"
         },
         {
          "Count": 3,
          "Year": "2016",
          "Zip": "78759"
         },
         {
          "Count": 1,
          "Year": "2017",
          "Zip": "78613"
         },
         {
          "Count": 2,
          "Year": "2017",
          "Zip": "78701"
         },
         {
          "Count": 102,
          "Year": "2017",
          "Zip": "78702"
         },
         {
          "Count": 43,
          "Year": "2017",
          "Zip": "78703"
         },
         {
          "Count": 105,
          "Year": "2017",
          "Zip": "78704"
         },
         {
          "Count": 3,
          "Year": "2017",
          "Zip": "78705"
         },
         {
          "Count": 1,
          "Year": "2017",
          "Zip": "78717"
         },
         {
          "Count": 48,
          "Year": "2017",
          "Zip": "78721"
         },
         {
          "Count": 9,
          "Year": "2017",
          "Zip": "78722"
         },
         {
          "Count": 6,
          "Year": "2017",
          "Zip": "78723"
         },
         {
          "Count": 1,
          "Year": "2017",
          "Zip": "78724"
         },
         {
          "Count": 27,
          "Year": "2017",
          "Zip": "78731"
         },
         {
          "Count": 2,
          "Year": "2017",
          "Zip": "78733"
         },
         {
          "Count": 1,
          "Year": "2017",
          "Zip": "78734"
         },
         {
          "Count": 1,
          "Year": "2017",
          "Zip": "78735"
         },
         {
          "Count": 1,
          "Year": "2017",
          "Zip": "78737"
         },
         {
          "Count": 30,
          "Year": "2017",
          "Zip": "78741"
         },
         {
          "Count": 2,
          "Year": "2017",
          "Zip": "78742"
         },
         {
          "Count": 50,
          "Year": "2017",
          "Zip": "78744"
         },
         {
          "Count": 17,
          "Year": "2017",
          "Zip": "78745"
         },
         {
          "Count": 12,
          "Year": "2017",
          "Zip": "78746"
         },
         {
          "Count": 1,
          "Year": "2017",
          "Zip": "78748"
         },
         {
          "Count": 3,
          "Year": "2017",
          "Zip": "78750"
         },
         {
          "Count": 15,
          "Year": "2017",
          "Zip": "78751"
         },
         {
          "Count": 13,
          "Year": "2017",
          "Zip": "78752"
         },
         {
          "Count": 4,
          "Year": "2017",
          "Zip": "78753"
         },
         {
          "Count": 24,
          "Year": "2017",
          "Zip": "78756"
         },
         {
          "Count": 37,
          "Year": "2017",
          "Zip": "78757"
         },
         {
          "Count": 1,
          "Year": "2017",
          "Zip": "78758"
         },
         {
          "Count": 3,
          "Year": "2017",
          "Zip": "78759"
         }
        ]
       },
       "encoding": {
        "color": {
         "field": "Zip",
         "type": "nominal"
        },
        "x": {
         "axis": {
          "labelAngle": 0,
          "title": "Year"
         },
         "field": "Year",
         "type": "ordinal"
        },
        "y": {
         "axis": {
          "title": "Number of permits"
         },
         "field": "Count",
         "type": "quantitative"
        }
       },
       "mark": "line",
       "title": "Demolitions by year and top Zip codes",
       "width": 600
      },
      "image/png": "[encoded data removed]",
      "text/plain": [
       "<VegaLite 2 object>\n",
       "\n",
       "If you see this message, it means the renderer has not been properly enabled\n",
       "for the frontend that you are using. For more information, see\n",
       "https://altair-viz.github.io/user_guide/troubleshooting.html\n"
      ]
     },
     "execution_count": 21,
     "metadata": {},
     "output_type": "execute_result"
    }
   ],
   "source": [
    "alt.Chart(demos_yr_zip, title=\"Demolitions by year and top Zip codes\").mark_line().encode(\n",
    "    x=alt.X(\"Year:O\",\n",
    "            axis=alt.Axis(title=\"Year\", labelAngle=0)),\n",
    "    y=alt.Y(\"Count:Q\",\n",
    "            axis=alt.Axis(title=\"Number of permits\")),\n",
    "    color=\"Zip\"\n",
    ").properties(width=600)"
   ]
  },
  {
   "cell_type": "markdown",
   "metadata": {},
   "source": [
    "#### A look at top picks zips\n",
    "\n",
    "Filtering to zip codes that that had more than 15 demos in 2017."
   ]
  },
  {
   "cell_type": "code",
   "execution_count": 22,
   "metadata": {},
   "outputs": [
    {
     "data": {
      "application/vnd.vegalite.v2+json": {
       "$schema": "https://vega.github.io/schema/vega-lite/v2.4.1.json",
       "config": {
        "view": {
         "height": 300,
         "width": 400
        }
       },
       "data": {
        "values": [
         {
          "Count": 18,
          "Year": "2008",
          "Zip": "78702"
         },
         {
          "Count": 22,
          "Year": "2008",
          "Zip": "78703"
         },
         {
          "Count": 24,
          "Year": "2008",
          "Zip": "78704"
         },
         {
          "Count": 7,
          "Year": "2008",
          "Zip": "78721"
         },
         {
          "Count": 7,
          "Year": "2008",
          "Zip": "78731"
         },
         {
          "Count": 3,
          "Year": "2008",
          "Zip": "78741"
         },
         {
          "Count": 1,
          "Year": "2008",
          "Zip": "78744"
         },
         {
          "Count": 3,
          "Year": "2008",
          "Zip": "78756"
         },
         {
          "Count": 2,
          "Year": "2008",
          "Zip": "78757"
         },
         {
          "Count": 23,
          "Year": "2009",
          "Zip": "78702"
         },
         {
          "Count": 29,
          "Year": "2009",
          "Zip": "78703"
         },
         {
          "Count": 19,
          "Year": "2009",
          "Zip": "78704"
         },
         {
          "Count": 5,
          "Year": "2009",
          "Zip": "78721"
         },
         {
          "Count": 7,
          "Year": "2009",
          "Zip": "78731"
         },
         {
          "Count": 7,
          "Year": "2009",
          "Zip": "78741"
         },
         {
          "Count": 1,
          "Year": "2009",
          "Zip": "78744"
         },
         {
          "Count": 3,
          "Year": "2009",
          "Zip": "78745"
         },
         {
          "Count": 3,
          "Year": "2009",
          "Zip": "78756"
         },
         {
          "Count": 6,
          "Year": "2009",
          "Zip": "78757"
         },
         {
          "Count": 26,
          "Year": "2010",
          "Zip": "78702"
         },
         {
          "Count": 24,
          "Year": "2010",
          "Zip": "78703"
         },
         {
          "Count": 27,
          "Year": "2010",
          "Zip": "78704"
         },
         {
          "Count": 6,
          "Year": "2010",
          "Zip": "78721"
         },
         {
          "Count": 7,
          "Year": "2010",
          "Zip": "78731"
         },
         {
          "Count": 13,
          "Year": "2010",
          "Zip": "78741"
         },
         {
          "Count": 6,
          "Year": "2010",
          "Zip": "78744"
         },
         {
          "Count": 2,
          "Year": "2010",
          "Zip": "78745"
         },
         {
          "Count": 6,
          "Year": "2010",
          "Zip": "78756"
         },
         {
          "Count": 4,
          "Year": "2010",
          "Zip": "78757"
         },
         {
          "Count": 30,
          "Year": "2011",
          "Zip": "78702"
         },
         {
          "Count": 25,
          "Year": "2011",
          "Zip": "78703"
         },
         {
          "Count": 28,
          "Year": "2011",
          "Zip": "78704"
         },
         {
          "Count": 8,
          "Year": "2011",
          "Zip": "78721"
         },
         {
          "Count": 13,
          "Year": "2011",
          "Zip": "78731"
         },
         {
          "Count": 4,
          "Year": "2011",
          "Zip": "78741"
         },
         {
          "Count": 2,
          "Year": "2011",
          "Zip": "78744"
         },
         {
          "Count": 17,
          "Year": "2011",
          "Zip": "78745"
         },
         {
          "Count": 13,
          "Year": "2011",
          "Zip": "78756"
         },
         {
          "Count": 5,
          "Year": "2011",
          "Zip": "78757"
         },
         {
          "Count": 47,
          "Year": "2012",
          "Zip": "78702"
         },
         {
          "Count": 48,
          "Year": "2012",
          "Zip": "78703"
         },
         {
          "Count": 53,
          "Year": "2012",
          "Zip": "78704"
         },
         {
          "Count": 7,
          "Year": "2012",
          "Zip": "78721"
         },
         {
          "Count": 13,
          "Year": "2012",
          "Zip": "78731"
         },
         {
          "Count": 2,
          "Year": "2012",
          "Zip": "78741"
         },
         {
          "Count": 3,
          "Year": "2012",
          "Zip": "78744"
         },
         {
          "Count": 5,
          "Year": "2012",
          "Zip": "78745"
         },
         {
          "Count": 14,
          "Year": "2012",
          "Zip": "78756"
         },
         {
          "Count": 19,
          "Year": "2012",
          "Zip": "78757"
         },
         {
          "Count": 59,
          "Year": "2013",
          "Zip": "78702"
         },
         {
          "Count": 41,
          "Year": "2013",
          "Zip": "78703"
         },
         {
          "Count": 70,
          "Year": "2013",
          "Zip": "78704"
         },
         {
          "Count": 10,
          "Year": "2013",
          "Zip": "78721"
         },
         {
          "Count": 19,
          "Year": "2013",
          "Zip": "78731"
         },
         {
          "Count": 6,
          "Year": "2013",
          "Zip": "78741"
         },
         {
          "Count": 3,
          "Year": "2013",
          "Zip": "78744"
         },
         {
          "Count": 6,
          "Year": "2013",
          "Zip": "78745"
         },
         {
          "Count": 18,
          "Year": "2013",
          "Zip": "78756"
         },
         {
          "Count": 17,
          "Year": "2013",
          "Zip": "78757"
         },
         {
          "Count": 75,
          "Year": "2014",
          "Zip": "78702"
         },
         {
          "Count": 37,
          "Year": "2014",
          "Zip": "78703"
         },
         {
          "Count": 74,
          "Year": "2014",
          "Zip": "78704"
         },
         {
          "Count": 14,
          "Year": "2014",
          "Zip": "78721"
         },
         {
          "Count": 24,
          "Year": "2014",
          "Zip": "78731"
         },
         {
          "Count": 8,
          "Year": "2014",
          "Zip": "78741"
         },
         {
          "Count": 2,
          "Year": "2014",
          "Zip": "78744"
         },
         {
          "Count": 11,
          "Year": "2014",
          "Zip": "78745"
         },
         {
          "Count": 12,
          "Year": "2014",
          "Zip": "78756"
         },
         {
          "Count": 41,
          "Year": "2014",
          "Zip": "78757"
         },
         {
          "Count": 59,
          "Year": "2015",
          "Zip": "78702"
         },
         {
          "Count": 39,
          "Year": "2015",
          "Zip": "78703"
         },
         {
          "Count": 88,
          "Year": "2015",
          "Zip": "78704"
         },
         {
          "Count": 18,
          "Year": "2015",
          "Zip": "78721"
         },
         {
          "Count": 20,
          "Year": "2015",
          "Zip": "78731"
         },
         {
          "Count": 5,
          "Year": "2015",
          "Zip": "78741"
         },
         {
          "Count": 8,
          "Year": "2015",
          "Zip": "78745"
         },
         {
          "Count": 20,
          "Year": "2015",
          "Zip": "78756"
         },
         {
          "Count": 33,
          "Year": "2015",
          "Zip": "78757"
         },
         {
          "Count": 71,
          "Year": "2016",
          "Zip": "78702"
         },
         {
          "Count": 41,
          "Year": "2016",
          "Zip": "78703"
         },
         {
          "Count": 90,
          "Year": "2016",
          "Zip": "78704"
         },
         {
          "Count": 21,
          "Year": "2016",
          "Zip": "78721"
         },
         {
          "Count": 17,
          "Year": "2016",
          "Zip": "78731"
         },
         {
          "Count": 5,
          "Year": "2016",
          "Zip": "78741"
         },
         {
          "Count": 43,
          "Year": "2016",
          "Zip": "78744"
         },
         {
          "Count": 38,
          "Year": "2016",
          "Zip": "78745"
         },
         {
          "Count": 8,
          "Year": "2016",
          "Zip": "78756"
         },
         {
          "Count": 35,
          "Year": "2016",
          "Zip": "78757"
         },
         {
          "Count": 102,
          "Year": "2017",
          "Zip": "78702"
         },
         {
          "Count": 43,
          "Year": "2017",
          "Zip": "78703"
         },
         {
          "Count": 105,
          "Year": "2017",
          "Zip": "78704"
         },
         {
          "Count": 48,
          "Year": "2017",
          "Zip": "78721"
         },
         {
          "Count": 27,
          "Year": "2017",
          "Zip": "78731"
         },
         {
          "Count": 30,
          "Year": "2017",
          "Zip": "78741"
         },
         {
          "Count": 50,
          "Year": "2017",
          "Zip": "78744"
         },
         {
          "Count": 17,
          "Year": "2017",
          "Zip": "78745"
         },
         {
          "Count": 24,
          "Year": "2017",
          "Zip": "78756"
         },
         {
          "Count": 37,
          "Year": "2017",
          "Zip": "78757"
         }
        ]
       },
       "encoding": {
        "color": {
         "field": "Zip",
         "type": "nominal"
        },
        "x": {
         "axis": {
          "labelAngle": 0,
          "title": "Year"
         },
         "field": "Year",
         "type": "ordinal"
        },
        "y": {
         "axis": {
          "title": "Number of permits"
         },
         "field": "Count",
         "type": "quantitative"
        }
       },
       "mark": "line",
       "title": "Demolitions by year and top Zip codes",
       "width": 600
      },
      "image/png": "[encoded data removed]",
      "text/plain": [
       "<VegaLite 2 object>\n",
       "\n",
       "If you see this message, it means the renderer has not been properly enabled\n",
       "for the frontend that you are using. For more information, see\n",
       "https://altair-viz.github.io/user_guide/troubleshooting.html\n"
      ]
     },
     "execution_count": 22,
     "metadata": {},
     "output_type": "execute_result"
    }
   ],
   "source": [
    "# filter our zip/year datafram to just 2017\n",
    "zips_2017 = demos_yr_zip[demos_yr_zip['Year'] == '2017']\n",
    "\n",
    "# filter the 2017 list to zips with 10+ demos\n",
    "# sort the list by count descending\n",
    "zips_2017_top = zips_2017[zips_2017.Count > 15].sort_values(\n",
    "    'Count',\n",
    "    ascending=False\n",
    ")\n",
    "\n",
    "# Use the Zip code column above to filter the original demos_yr_zip datatable\n",
    "# and create the new dataframe to chart\n",
    "top_demos_yr_zip = demos_yr_zip[demos_yr_zip['Zip'].isin(zips_2017_top.Zip)]\n",
    "\n",
    "# draw chart based on above dataframe\n",
    "alt.Chart(\n",
    "    top_demos_yr_zip,\n",
    "    title=\"Demolitions by year and top Zip codes\"\n",
    ").mark_line().encode(\n",
    "    x=alt.X(\"Year:O\",\n",
    "            axis=alt.Axis(title=\"Year\", labelAngle=0)),\n",
    "    y=alt.Y(\"Count:Q\",\n",
    "            axis=alt.Axis(title=\"Number of permits\")),\n",
    "    color=\"Zip\"\n",
    ").properties(width=600)"
   ]
  },
  {
   "cell_type": "markdown",
   "metadata": {},
   "source": [
    "## A look at specific zip codes"
   ]
  },
  {
   "cell_type": "markdown",
   "metadata": {},
   "source": [
    "### What's up with 78744, and is 2015 missing?\n",
    "\n",
    "Noticing the increase in demolitions in 78744 in the graphic above, let's look a little deeper into them. It looks like the 2016 and 2017 increases are flood buyouts."
   ]
  },
  {
   "cell_type": "code",
   "execution_count": 23,
   "metadata": {},
   "outputs": [
    {
     "data": {
      "text/html": [
       "<div>\n",
       "<style scoped>\n",
       "    .dataframe tbody tr th:only-of-type {\n",
       "        vertical-align: middle;\n",
       "    }\n",
       "\n",
       "    .dataframe tbody tr th {\n",
       "        vertical-align: top;\n",
       "    }\n",
       "\n",
       "    .dataframe thead th {\n",
       "        text-align: right;\n",
       "    }\n",
       "</style>\n",
       "<table border=\"1\" class=\"dataframe\">\n",
       "  <thead>\n",
       "    <tr style=\"text-align: right;\">\n",
       "      <th></th>\n",
       "      <th>Year</th>\n",
       "      <th>Zip</th>\n",
       "      <th>Count</th>\n",
       "    </tr>\n",
       "  </thead>\n",
       "  <tbody>\n",
       "    <tr>\n",
       "      <th>11</th>\n",
       "      <td>2008</td>\n",
       "      <td>78744</td>\n",
       "      <td>1</td>\n",
       "    </tr>\n",
       "    <tr>\n",
       "      <th>33</th>\n",
       "      <td>2009</td>\n",
       "      <td>78744</td>\n",
       "      <td>1</td>\n",
       "    </tr>\n",
       "    <tr>\n",
       "      <th>59</th>\n",
       "      <td>2010</td>\n",
       "      <td>78744</td>\n",
       "      <td>6</td>\n",
       "    </tr>\n",
       "    <tr>\n",
       "      <th>84</th>\n",
       "      <td>2011</td>\n",
       "      <td>78744</td>\n",
       "      <td>2</td>\n",
       "    </tr>\n",
       "    <tr>\n",
       "      <th>113</th>\n",
       "      <td>2012</td>\n",
       "      <td>78744</td>\n",
       "      <td>3</td>\n",
       "    </tr>\n",
       "    <tr>\n",
       "      <th>137</th>\n",
       "      <td>2013</td>\n",
       "      <td>78744</td>\n",
       "      <td>3</td>\n",
       "    </tr>\n",
       "    <tr>\n",
       "      <th>163</th>\n",
       "      <td>2014</td>\n",
       "      <td>78744</td>\n",
       "      <td>2</td>\n",
       "    </tr>\n",
       "    <tr>\n",
       "      <th>218</th>\n",
       "      <td>2016</td>\n",
       "      <td>78744</td>\n",
       "      <td>43</td>\n",
       "    </tr>\n",
       "    <tr>\n",
       "      <th>248</th>\n",
       "      <td>2017</td>\n",
       "      <td>78744</td>\n",
       "      <td>50</td>\n",
       "    </tr>\n",
       "    <tr>\n",
       "      <th>274</th>\n",
       "      <td>2018</td>\n",
       "      <td>78744</td>\n",
       "      <td>4</td>\n",
       "    </tr>\n",
       "  </tbody>\n",
       "</table>\n",
       "</div>"
      ],
      "text/plain": [
       "     Year    Zip  Count\n",
       "11   2008  78744      1\n",
       "33   2009  78744      1\n",
       "59   2010  78744      6\n",
       "84   2011  78744      2\n",
       "113  2012  78744      3\n",
       "137  2013  78744      3\n",
       "163  2014  78744      2\n",
       "218  2016  78744     43\n",
       "248  2017  78744     50\n",
       "274  2018  78744      4"
      ]
     },
     "execution_count": 23,
     "metadata": {},
     "output_type": "execute_result"
    }
   ],
   "source": [
    "# show how many in each year\n",
    "zip_78744 = demos_yr_zip_all[demos_yr_zip_all['Zip'] == '78744']\n",
    "zip_78744"
   ]
  },
  {
   "cell_type": "code",
   "execution_count": 24,
   "metadata": {},
   "outputs": [
    {
     "data": {
      "application/vnd.vegalite.v2+json": {
       "$schema": "https://vega.github.io/schema/vega-lite/v2.4.1.json",
       "config": {
        "view": {
         "height": 300,
         "width": 400
        }
       },
       "data": {
        "values": [
         {
          "Count": 1,
          "Year": "2008",
          "Zip": "78744",
          "index": 11
         },
         {
          "Count": 1,
          "Year": "2009",
          "Zip": "78744",
          "index": 33
         },
         {
          "Count": 6,
          "Year": "2010",
          "Zip": "78744",
          "index": 59
         },
         {
          "Count": 2,
          "Year": "2011",
          "Zip": "78744",
          "index": 84
         },
         {
          "Count": 3,
          "Year": "2012",
          "Zip": "78744",
          "index": 113
         },
         {
          "Count": 3,
          "Year": "2013",
          "Zip": "78744",
          "index": 137
         },
         {
          "Count": 2,
          "Year": "2014",
          "Zip": "78744",
          "index": 163
         },
         {
          "Count": 43,
          "Year": "2016",
          "Zip": "78744",
          "index": 218
         },
         {
          "Count": 50,
          "Year": "2017",
          "Zip": "78744",
          "index": 248
         },
         {
          "Count": 4,
          "Year": "2018",
          "Zip": "78744",
          "index": 274
         }
        ]
       },
       "encoding": {
        "x": {
         "axis": {
          "labelAngle": 0,
          "title": "Year"
         },
         "field": "Year",
         "type": "ordinal"
        },
        "y": {
         "axis": {
          "title": "Number of permits"
         },
         "field": "Count",
         "type": "quantitative"
        }
       },
       "mark": {
        "color": "#b279a2",
        "type": "bar"
       },
       "title": "Full demos in 78744",
       "width": 600
      },
      "image/png": "[encoded data removed]",
      "text/plain": [
       "<VegaLite 2 object>\n",
       "\n",
       "If you see this message, it means the renderer has not been properly enabled\n",
       "for the frontend that you are using. For more information, see\n",
       "https://altair-viz.github.io/user_guide/troubleshooting.html\n"
      ]
     },
     "execution_count": 24,
     "metadata": {},
     "output_type": "execute_result"
    }
   ],
   "source": [
    "alt.Chart(zip_78744.reset_index(), title=\"Full demos in 78744\").mark_bar(color='#b279a2').encode(\n",
    "    x=alt.X(\"Year:O\", axis=alt.Axis(title=\"Year\", labelAngle=0)),\n",
    "    y=alt.Y(\"Count:Q\", axis=alt.Axis(title=\"Number of permits\")),\n",
    ").properties(width=600)\n",
    "# rosybrown"
   ]
  },
  {
   "cell_type": "code",
   "execution_count": 25,
   "metadata": {},
   "outputs": [
    {
     "data": {
      "text/html": [
       "<div>\n",
       "<style scoped>\n",
       "    .dataframe tbody tr th:only-of-type {\n",
       "        vertical-align: middle;\n",
       "    }\n",
       "\n",
       "    .dataframe tbody tr th {\n",
       "        vertical-align: top;\n",
       "    }\n",
       "\n",
       "    .dataframe thead th {\n",
       "        text-align: right;\n",
       "    }\n",
       "</style>\n",
       "<table border=\"1\" class=\"dataframe\">\n",
       "  <thead>\n",
       "    <tr style=\"text-align: right;\">\n",
       "      <th></th>\n",
       "      <th>CalendarYearIssued</th>\n",
       "      <th>Description</th>\n",
       "    </tr>\n",
       "  </thead>\n",
       "  <tbody>\n",
       "    <tr>\n",
       "      <th>92</th>\n",
       "      <td>2018</td>\n",
       "      <td>total demo of sf res flood mitigation</td>\n",
       "    </tr>\n",
       "    <tr>\n",
       "      <th>93</th>\n",
       "      <td>2018</td>\n",
       "      <td>total demo of sf res flood mitigation</td>\n",
       "    </tr>\n",
       "    <tr>\n",
       "      <th>150</th>\n",
       "      <td>2018</td>\n",
       "      <td>total demo of sf res 1978 flood mitigation</td>\n",
       "    </tr>\n",
       "    <tr>\n",
       "      <th>181</th>\n",
       "      <td>2018</td>\n",
       "      <td>Total demolition of existing sf res</td>\n",
       "    </tr>\n",
       "    <tr>\n",
       "      <th>316</th>\n",
       "      <td>2017</td>\n",
       "      <td>Total demolition of existing SFR City of Austin Flood BuyOut</td>\n",
       "    </tr>\n",
       "    <tr>\n",
       "      <th>371</th>\n",
       "      <td>2017</td>\n",
       "      <td>Total demolition of existing duplex residence Built circa 1973</td>\n",
       "    </tr>\n",
       "    <tr>\n",
       "      <th>463</th>\n",
       "      <td>2017</td>\n",
       "      <td>total demo of sf res</td>\n",
       "    </tr>\n",
       "    <tr>\n",
       "      <th>526</th>\n",
       "      <td>2017</td>\n",
       "      <td>Total demolition of existing SFR City of Austin Flood BuyOut</td>\n",
       "    </tr>\n",
       "    <tr>\n",
       "      <th>527</th>\n",
       "      <td>2017</td>\n",
       "      <td>Total demolition of existing SFR City of Austin Flood BuyOut</td>\n",
       "    </tr>\n",
       "    <tr>\n",
       "      <th>543</th>\n",
       "      <td>2017</td>\n",
       "      <td>Total demolition of existing SFR City of Austin Flood BuyOut</td>\n",
       "    </tr>\n",
       "    <tr>\n",
       "      <th>544</th>\n",
       "      <td>2017</td>\n",
       "      <td>Total demolition of existing SFR City of Austin Flood BuyOut</td>\n",
       "    </tr>\n",
       "    <tr>\n",
       "      <th>545</th>\n",
       "      <td>2017</td>\n",
       "      <td>Total demolition of existing SFR City of Austin Flood BuyOut</td>\n",
       "    </tr>\n",
       "    <tr>\n",
       "      <th>554</th>\n",
       "      <td>2017</td>\n",
       "      <td>Total demolition of existing mobile home residence existing freestanding por...</td>\n",
       "    </tr>\n",
       "    <tr>\n",
       "      <th>560</th>\n",
       "      <td>2017</td>\n",
       "      <td>Total demolition of existing SFR City of Austin Flood BuyOut</td>\n",
       "    </tr>\n",
       "    <tr>\n",
       "      <th>561</th>\n",
       "      <td>2017</td>\n",
       "      <td>Total demolition of existing SFR City of Austin Flood BuyOut</td>\n",
       "    </tr>\n",
       "    <tr>\n",
       "      <th>563</th>\n",
       "      <td>2017</td>\n",
       "      <td>Total demolition of existing SFR City of Austin Flood BuyOut</td>\n",
       "    </tr>\n",
       "    <tr>\n",
       "      <th>576</th>\n",
       "      <td>2017</td>\n",
       "      <td>Total demolition of existing SFR City of Austin Flood BuyOut</td>\n",
       "    </tr>\n",
       "    <tr>\n",
       "      <th>577</th>\n",
       "      <td>2017</td>\n",
       "      <td>Total demolition of existing SFR City of Austin Flood BuyOut</td>\n",
       "    </tr>\n",
       "    <tr>\n",
       "      <th>609</th>\n",
       "      <td>2017</td>\n",
       "      <td>Total demolition of existing SFR City of Austin Flood BuyOut</td>\n",
       "    </tr>\n",
       "    <tr>\n",
       "      <th>610</th>\n",
       "      <td>2017</td>\n",
       "      <td>Total demolition of existing SFR City of Austin Flood BuyOut</td>\n",
       "    </tr>\n",
       "    <tr>\n",
       "      <th>628</th>\n",
       "      <td>2017</td>\n",
       "      <td>Total demolition of existing SFR City of Austin Flood BuyOut</td>\n",
       "    </tr>\n",
       "    <tr>\n",
       "      <th>629</th>\n",
       "      <td>2017</td>\n",
       "      <td>Total demolition of existing SFR City of Austin Flood BuyOut</td>\n",
       "    </tr>\n",
       "    <tr>\n",
       "      <th>630</th>\n",
       "      <td>2017</td>\n",
       "      <td>Total demolition of existing SFR City of Austin Flood BuyOut</td>\n",
       "    </tr>\n",
       "    <tr>\n",
       "      <th>639</th>\n",
       "      <td>2017</td>\n",
       "      <td>Total demolition of existing SFR City of Austin Flood BuyOut</td>\n",
       "    </tr>\n",
       "    <tr>\n",
       "      <th>643</th>\n",
       "      <td>2017</td>\n",
       "      <td>Total demolition of existing SFR City of Austin Flood BuyOut</td>\n",
       "    </tr>\n",
       "    <tr>\n",
       "      <th>644</th>\n",
       "      <td>2017</td>\n",
       "      <td>Total demolition of existing duplex residence City of Austin Flood BuyOut</td>\n",
       "    </tr>\n",
       "    <tr>\n",
       "      <th>645</th>\n",
       "      <td>2017</td>\n",
       "      <td>Total demolition of existing duplex residence City of Austin Flood BuyOut</td>\n",
       "    </tr>\n",
       "    <tr>\n",
       "      <th>648</th>\n",
       "      <td>2017</td>\n",
       "      <td>Total demolition of existing SFR City of Austin Flood BuyOut</td>\n",
       "    </tr>\n",
       "    <tr>\n",
       "      <th>651</th>\n",
       "      <td>2017</td>\n",
       "      <td>Total demolition of existing SFR City of Austin Flood BuyOut</td>\n",
       "    </tr>\n",
       "    <tr>\n",
       "      <th>652</th>\n",
       "      <td>2017</td>\n",
       "      <td>Total demolition of existing SFR City of Austin Flood BuyOut</td>\n",
       "    </tr>\n",
       "  </tbody>\n",
       "</table>\n",
       "</div>"
      ],
      "text/plain": [
       "    CalendarYearIssued  \\\n",
       "92                2018   \n",
       "93                2018   \n",
       "150               2018   \n",
       "181               2018   \n",
       "316               2017   \n",
       "371               2017   \n",
       "463               2017   \n",
       "526               2017   \n",
       "527               2017   \n",
       "543               2017   \n",
       "544               2017   \n",
       "545               2017   \n",
       "554               2017   \n",
       "560               2017   \n",
       "561               2017   \n",
       "563               2017   \n",
       "576               2017   \n",
       "577               2017   \n",
       "609               2017   \n",
       "610               2017   \n",
       "628               2017   \n",
       "629               2017   \n",
       "630               2017   \n",
       "639               2017   \n",
       "643               2017   \n",
       "644               2017   \n",
       "645               2017   \n",
       "648               2017   \n",
       "651               2017   \n",
       "652               2017   \n",
       "\n",
       "                                                                         Description  \n",
       "92                                             total demo of sf res flood mitigation  \n",
       "93                                             total demo of sf res flood mitigation  \n",
       "150                                       total demo of sf res 1978 flood mitigation  \n",
       "181                                              Total demolition of existing sf res  \n",
       "316                     Total demolition of existing SFR City of Austin Flood BuyOut  \n",
       "371                   Total demolition of existing duplex residence Built circa 1973  \n",
       "463                                                             total demo of sf res  \n",
       "526                     Total demolition of existing SFR City of Austin Flood BuyOut  \n",
       "527                     Total demolition of existing SFR City of Austin Flood BuyOut  \n",
       "543                     Total demolition of existing SFR City of Austin Flood BuyOut  \n",
       "544                     Total demolition of existing SFR City of Austin Flood BuyOut  \n",
       "545                     Total demolition of existing SFR City of Austin Flood BuyOut  \n",
       "554  Total demolition of existing mobile home residence existing freestanding por...  \n",
       "560                     Total demolition of existing SFR City of Austin Flood BuyOut  \n",
       "561                     Total demolition of existing SFR City of Austin Flood BuyOut  \n",
       "563                     Total demolition of existing SFR City of Austin Flood BuyOut  \n",
       "576                     Total demolition of existing SFR City of Austin Flood BuyOut  \n",
       "577                     Total demolition of existing SFR City of Austin Flood BuyOut  \n",
       "609                     Total demolition of existing SFR City of Austin Flood BuyOut  \n",
       "610                     Total demolition of existing SFR City of Austin Flood BuyOut  \n",
       "628                     Total demolition of existing SFR City of Austin Flood BuyOut  \n",
       "629                     Total demolition of existing SFR City of Austin Flood BuyOut  \n",
       "630                     Total demolition of existing SFR City of Austin Flood BuyOut  \n",
       "639                     Total demolition of existing SFR City of Austin Flood BuyOut  \n",
       "643                     Total demolition of existing SFR City of Austin Flood BuyOut  \n",
       "644        Total demolition of existing duplex residence City of Austin Flood BuyOut  \n",
       "645        Total demolition of existing duplex residence City of Austin Flood BuyOut  \n",
       "648                     Total demolition of existing SFR City of Austin Flood BuyOut  \n",
       "651                     Total demolition of existing SFR City of Austin Flood BuyOut  \n",
       "652                     Total demolition of existing SFR City of Austin Flood BuyOut  "
      ]
     },
     "execution_count": 25,
     "metadata": {},
     "output_type": "execute_result"
    }
   ],
   "source": [
    "# look at the descriptions of these homes\n",
    "pd.options.display.max_colwidth = 80\n",
    "permits_78744 = demolitions[demolitions['OriginalZip'] == '78744']\n",
    "permits_78744[['CalendarYearIssued', 'Description']].head(30)"
   ]
  },
  {
   "cell_type": "markdown",
   "metadata": {},
   "source": [
    "### Is 78741 the new demo target?\n",
    "\n",
    "There was a big increase in 2017, so what's up with that? 2018 is not keeping pace. There were eight on the same piece of property, which is part of the increase, but others are more spread out."
   ]
  },
  {
   "cell_type": "code",
   "execution_count": 26,
   "metadata": {},
   "outputs": [
    {
     "data": {
      "text/html": [
       "<div>\n",
       "<style scoped>\n",
       "    .dataframe tbody tr th:only-of-type {\n",
       "        vertical-align: middle;\n",
       "    }\n",
       "\n",
       "    .dataframe tbody tr th {\n",
       "        vertical-align: top;\n",
       "    }\n",
       "\n",
       "    .dataframe thead th {\n",
       "        text-align: right;\n",
       "    }\n",
       "</style>\n",
       "<table border=\"1\" class=\"dataframe\">\n",
       "  <thead>\n",
       "    <tr style=\"text-align: right;\">\n",
       "      <th></th>\n",
       "      <th>Year</th>\n",
       "      <th>Zip</th>\n",
       "      <th>Count</th>\n",
       "    </tr>\n",
       "  </thead>\n",
       "  <tbody>\n",
       "    <tr>\n",
       "      <th>10</th>\n",
       "      <td>2008</td>\n",
       "      <td>78741</td>\n",
       "      <td>3</td>\n",
       "    </tr>\n",
       "    <tr>\n",
       "      <th>31</th>\n",
       "      <td>2009</td>\n",
       "      <td>78741</td>\n",
       "      <td>7</td>\n",
       "    </tr>\n",
       "    <tr>\n",
       "      <th>57</th>\n",
       "      <td>2010</td>\n",
       "      <td>78741</td>\n",
       "      <td>13</td>\n",
       "    </tr>\n",
       "    <tr>\n",
       "      <th>83</th>\n",
       "      <td>2011</td>\n",
       "      <td>78741</td>\n",
       "      <td>4</td>\n",
       "    </tr>\n",
       "    <tr>\n",
       "      <th>111</th>\n",
       "      <td>2012</td>\n",
       "      <td>78741</td>\n",
       "      <td>2</td>\n",
       "    </tr>\n",
       "    <tr>\n",
       "      <th>136</th>\n",
       "      <td>2013</td>\n",
       "      <td>78741</td>\n",
       "      <td>6</td>\n",
       "    </tr>\n",
       "    <tr>\n",
       "      <th>161</th>\n",
       "      <td>2014</td>\n",
       "      <td>78741</td>\n",
       "      <td>8</td>\n",
       "    </tr>\n",
       "    <tr>\n",
       "      <th>188</th>\n",
       "      <td>2015</td>\n",
       "      <td>78741</td>\n",
       "      <td>5</td>\n",
       "    </tr>\n",
       "    <tr>\n",
       "      <th>216</th>\n",
       "      <td>2016</td>\n",
       "      <td>78741</td>\n",
       "      <td>5</td>\n",
       "    </tr>\n",
       "    <tr>\n",
       "      <th>246</th>\n",
       "      <td>2017</td>\n",
       "      <td>78741</td>\n",
       "      <td>30</td>\n",
       "    </tr>\n",
       "    <tr>\n",
       "      <th>273</th>\n",
       "      <td>2018</td>\n",
       "      <td>78741</td>\n",
       "      <td>4</td>\n",
       "    </tr>\n",
       "  </tbody>\n",
       "</table>\n",
       "</div>"
      ],
      "text/plain": [
       "     Year    Zip  Count\n",
       "10   2008  78741      3\n",
       "31   2009  78741      7\n",
       "57   2010  78741     13\n",
       "83   2011  78741      4\n",
       "111  2012  78741      2\n",
       "136  2013  78741      6\n",
       "161  2014  78741      8\n",
       "188  2015  78741      5\n",
       "216  2016  78741      5\n",
       "246  2017  78741     30\n",
       "273  2018  78741      4"
      ]
     },
     "execution_count": 26,
     "metadata": {},
     "output_type": "execute_result"
    }
   ],
   "source": [
    "# show how many in each year\n",
    "zip_78741 = demos_yr_zip_all[demos_yr_zip_all['Zip'] == '78741']\n",
    "zip_78741"
   ]
  },
  {
   "cell_type": "code",
   "execution_count": 27,
   "metadata": {},
   "outputs": [
    {
     "data": {
      "application/vnd.vegalite.v2+json": {
       "$schema": "https://vega.github.io/schema/vega-lite/v2.4.1.json",
       "config": {
        "view": {
         "height": 300,
         "width": 400
        }
       },
       "data": {
        "values": [
         {
          "Count": 3,
          "Year": "2008",
          "Zip": "78741",
          "index": 10
         },
         {
          "Count": 7,
          "Year": "2009",
          "Zip": "78741",
          "index": 31
         },
         {
          "Count": 13,
          "Year": "2010",
          "Zip": "78741",
          "index": 57
         },
         {
          "Count": 4,
          "Year": "2011",
          "Zip": "78741",
          "index": 83
         },
         {
          "Count": 2,
          "Year": "2012",
          "Zip": "78741",
          "index": 111
         },
         {
          "Count": 6,
          "Year": "2013",
          "Zip": "78741",
          "index": 136
         },
         {
          "Count": 8,
          "Year": "2014",
          "Zip": "78741",
          "index": 161
         },
         {
          "Count": 5,
          "Year": "2015",
          "Zip": "78741",
          "index": 188
         },
         {
          "Count": 5,
          "Year": "2016",
          "Zip": "78741",
          "index": 216
         },
         {
          "Count": 30,
          "Year": "2017",
          "Zip": "78741",
          "index": 246
         },
         {
          "Count": 4,
          "Year": "2018",
          "Zip": "78741",
          "index": 273
         }
        ]
       },
       "encoding": {
        "x": {
         "axis": {
          "labelAngle": 0,
          "title": "Year"
         },
         "field": "Year",
         "type": "ordinal"
        },
        "y": {
         "axis": {
          "title": "Number of permits"
         },
         "field": "Count",
         "type": "quantitative"
        }
       },
       "mark": {
        "color": "#f5e190",
        "type": "bar"
       },
       "title": "Full demos in 78741",
       "width": 600
      },
      "image/png": "[encoded data removed]",
      "text/plain": [
       "<VegaLite 2 object>\n",
       "\n",
       "If you see this message, it means the renderer has not been properly enabled\n",
       "for the frontend that you are using. For more information, see\n",
       "https://altair-viz.github.io/user_guide/troubleshooting.html\n"
      ]
     },
     "execution_count": 27,
     "metadata": {},
     "output_type": "execute_result"
    }
   ],
   "source": [
    "alt.Chart(zip_78741.reset_index(), title=\"Full demos in 78741\").mark_bar(color='#f5e190').encode(\n",
    "    x=alt.X(\"Year:O\", axis=alt.Axis(title=\"Year\", labelAngle=0)),\n",
    "    y=alt.Y(\"Count:Q\", axis=alt.Axis(title=\"Number of permits\")),\n",
    ").properties(width=600)"
   ]
  },
  {
   "cell_type": "code",
   "execution_count": 28,
   "metadata": {},
   "outputs": [
    {
     "data": {
      "text/html": [
       "<div>\n",
       "<style scoped>\n",
       "    .dataframe tbody tr th:only-of-type {\n",
       "        vertical-align: middle;\n",
       "    }\n",
       "\n",
       "    .dataframe tbody tr th {\n",
       "        vertical-align: top;\n",
       "    }\n",
       "\n",
       "    .dataframe thead th {\n",
       "        text-align: right;\n",
       "    }\n",
       "</style>\n",
       "<table border=\"1\" class=\"dataframe\">\n",
       "  <thead>\n",
       "    <tr style=\"text-align: right;\">\n",
       "      <th></th>\n",
       "      <th>ProjectName</th>\n",
       "      <th>Description</th>\n",
       "      <th>ContractorCompanyName</th>\n",
       "    </tr>\n",
       "  </thead>\n",
       "  <tbody>\n",
       "    <tr>\n",
       "      <th>283</th>\n",
       "      <td>919 VALDEZ ST</td>\n",
       "      <td>total demo home circa 1942</td>\n",
       "      <td>Precise Custom Homes Inc***MAIN***</td>\n",
       "    </tr>\n",
       "    <tr>\n",
       "      <th>287</th>\n",
       "      <td>904 VASQUEZ ST</td>\n",
       "      <td>total demo of house</td>\n",
       "      <td>Austin Triangle LLC</td>\n",
       "    </tr>\n",
       "    <tr>\n",
       "      <th>324</th>\n",
       "      <td>2006 MAXWELL LN</td>\n",
       "      <td>total demo of sf res 1950</td>\n",
       "      <td>NaN</td>\n",
       "    </tr>\n",
       "    <tr>\n",
       "      <th>330</th>\n",
       "      <td>6709 PONCA ST</td>\n",
       "      <td>total demo of home circa 1997</td>\n",
       "      <td>DAR Construction</td>\n",
       "    </tr>\n",
       "    <tr>\n",
       "      <th>337</th>\n",
       "      <td>500 BASTROP HWY SB</td>\n",
       "      <td>total demo of sf res circa 1957 2417 sq ft</td>\n",
       "      <td>DAR Construction</td>\n",
       "    </tr>\n",
       "    <tr>\n",
       "      <th>338</th>\n",
       "      <td>500 BASTROP HWY SB</td>\n",
       "      <td>total demo of sf res circa 1958 780 sq ft</td>\n",
       "      <td>DAR Construction</td>\n",
       "    </tr>\n",
       "    <tr>\n",
       "      <th>348</th>\n",
       "      <td>508 THRASHER LN</td>\n",
       "      <td>total demo of house circa 1945</td>\n",
       "      <td>DAR Construction</td>\n",
       "    </tr>\n",
       "    <tr>\n",
       "      <th>349</th>\n",
       "      <td>7409 E RIVERSIDE DR</td>\n",
       "      <td>total demo of sf res circa 1955</td>\n",
       "      <td>DAR Construction</td>\n",
       "    </tr>\n",
       "    <tr>\n",
       "      <th>350</th>\n",
       "      <td>7405 E RIVERSIDE DR</td>\n",
       "      <td>total demo of home circa 1954</td>\n",
       "      <td>DAR Construction</td>\n",
       "    </tr>\n",
       "    <tr>\n",
       "      <th>351</th>\n",
       "      <td>436 BASTROP HWY SB</td>\n",
       "      <td>total demo of sf res 1542 sf</td>\n",
       "      <td>DAR Construction</td>\n",
       "    </tr>\n",
       "    <tr>\n",
       "      <th>352</th>\n",
       "      <td>436 BASTROP HWY SB</td>\n",
       "      <td>total demo of sf res  560 sf</td>\n",
       "      <td>DAR Construction</td>\n",
       "    </tr>\n",
       "    <tr>\n",
       "      <th>353</th>\n",
       "      <td>436 BASTROP HWY SB</td>\n",
       "      <td>total demo of sf res  560 sf</td>\n",
       "      <td>DAR Construction</td>\n",
       "    </tr>\n",
       "    <tr>\n",
       "      <th>354</th>\n",
       "      <td>436 BASTROP HWY SB</td>\n",
       "      <td>total demo of sf res  560 sf</td>\n",
       "      <td>DAR Construction</td>\n",
       "    </tr>\n",
       "    <tr>\n",
       "      <th>355</th>\n",
       "      <td>436 BASTROP HWY SB</td>\n",
       "      <td>total demo of sf res  520 sf</td>\n",
       "      <td>DAR Construction</td>\n",
       "    </tr>\n",
       "    <tr>\n",
       "      <th>356</th>\n",
       "      <td>436 BASTROP HWY SB</td>\n",
       "      <td>total demo of sf res  520 sf</td>\n",
       "      <td>DAR Construction</td>\n",
       "    </tr>\n",
       "    <tr>\n",
       "      <th>357</th>\n",
       "      <td>436 BASTROP HWY SB</td>\n",
       "      <td>total demo of sf res  520 sf</td>\n",
       "      <td>DAR Construction</td>\n",
       "    </tr>\n",
       "    <tr>\n",
       "      <th>358</th>\n",
       "      <td>436 BASTROP HWY SB</td>\n",
       "      <td>total demo of sf res  520 sf</td>\n",
       "      <td>DAR Construction</td>\n",
       "    </tr>\n",
       "    <tr>\n",
       "      <th>367</th>\n",
       "      <td>6507 SANTOS ST</td>\n",
       "      <td>total demo of home circa 1925</td>\n",
       "      <td>SCV Works, LLC</td>\n",
       "    </tr>\n",
       "    <tr>\n",
       "      <th>536</th>\n",
       "      <td>1103 SUMMIT ST</td>\n",
       "      <td>Total demolition of existing SFR built circa 1948</td>\n",
       "      <td>Panton Architects</td>\n",
       "    </tr>\n",
       "    <tr>\n",
       "      <th>600</th>\n",
       "      <td>1003 VALDEZ ST</td>\n",
       "      <td>Total demolition of existing SFR built circa 1958</td>\n",
       "      <td>Precise Custom Homes Inc***MAIN***</td>\n",
       "    </tr>\n",
       "    <tr>\n",
       "      <th>613</th>\n",
       "      <td>6308 PORTER ST</td>\n",
       "      <td>Total demolition of existing SFR built 1920 moved to lot...</td>\n",
       "      <td>Snap Dragon Construction</td>\n",
       "    </tr>\n",
       "    <tr>\n",
       "      <th>623</th>\n",
       "      <td>6703 SANTOS ST</td>\n",
       "      <td>Total demolition of existing SFR built circa 1955</td>\n",
       "      <td>Precise Custom Homes Inc***MAIN***</td>\n",
       "    </tr>\n",
       "    <tr>\n",
       "      <th>624</th>\n",
       "      <td>6701 SANTOS ST</td>\n",
       "      <td>Total demolition of existing SFR built circa 1955</td>\n",
       "      <td>Precise Custom Homes Inc***MAIN***</td>\n",
       "    </tr>\n",
       "    <tr>\n",
       "      <th>626</th>\n",
       "      <td>6505 PORTER ST</td>\n",
       "      <td>Total demolition of existing SFR built circa 1957</td>\n",
       "      <td>Precise Custom Homes Inc***MAIN***</td>\n",
       "    </tr>\n",
       "    <tr>\n",
       "      <th>680</th>\n",
       "      <td>1005 VALDEZ ST</td>\n",
       "      <td>Total demolition of existing SFR built circa 1966</td>\n",
       "      <td>Precise Custom Homes Inc***MAIN***</td>\n",
       "    </tr>\n",
       "    <tr>\n",
       "      <th>735</th>\n",
       "      <td>6808 CRUZ ST</td>\n",
       "      <td>Total demolition of primary and secondary structures bui...</td>\n",
       "      <td>DAR Construction</td>\n",
       "    </tr>\n",
       "    <tr>\n",
       "      <th>779</th>\n",
       "      <td>502 THRASHER LN</td>\n",
       "      <td>Total demolition of existing SFR built circa 1945</td>\n",
       "      <td>Domus  Construction</td>\n",
       "    </tr>\n",
       "    <tr>\n",
       "      <th>808</th>\n",
       "      <td>6404 PORTER ST</td>\n",
       "      <td>Total demolition of existing SFR built circa 1949</td>\n",
       "      <td>MS 2011 General Contractors, LLC</td>\n",
       "    </tr>\n",
       "    <tr>\n",
       "      <th>820</th>\n",
       "      <td>2212 RIVERSIDE FARMS RD</td>\n",
       "      <td>Total demolition of existing SFR built circa 1958</td>\n",
       "      <td>DAR Construction</td>\n",
       "    </tr>\n",
       "    <tr>\n",
       "      <th>821</th>\n",
       "      <td>2206 RIVERSIDE FARMS RD</td>\n",
       "      <td>Total demolition of existing SFR built circa 1950</td>\n",
       "      <td>DAR Construction</td>\n",
       "    </tr>\n",
       "  </tbody>\n",
       "</table>\n",
       "</div>"
      ],
      "text/plain": [
       "                 ProjectName  \\\n",
       "283            919 VALDEZ ST   \n",
       "287           904 VASQUEZ ST   \n",
       "324          2006 MAXWELL LN   \n",
       "330            6709 PONCA ST   \n",
       "337       500 BASTROP HWY SB   \n",
       "338       500 BASTROP HWY SB   \n",
       "348          508 THRASHER LN   \n",
       "349      7409 E RIVERSIDE DR   \n",
       "350      7405 E RIVERSIDE DR   \n",
       "351       436 BASTROP HWY SB   \n",
       "352       436 BASTROP HWY SB   \n",
       "353       436 BASTROP HWY SB   \n",
       "354       436 BASTROP HWY SB   \n",
       "355       436 BASTROP HWY SB   \n",
       "356       436 BASTROP HWY SB   \n",
       "357       436 BASTROP HWY SB   \n",
       "358       436 BASTROP HWY SB   \n",
       "367           6507 SANTOS ST   \n",
       "536           1103 SUMMIT ST   \n",
       "600           1003 VALDEZ ST   \n",
       "613           6308 PORTER ST   \n",
       "623           6703 SANTOS ST   \n",
       "624           6701 SANTOS ST   \n",
       "626           6505 PORTER ST   \n",
       "680           1005 VALDEZ ST   \n",
       "735             6808 CRUZ ST   \n",
       "779          502 THRASHER LN   \n",
       "808           6404 PORTER ST   \n",
       "820  2212 RIVERSIDE FARMS RD   \n",
       "821  2206 RIVERSIDE FARMS RD   \n",
       "\n",
       "                                                     Description  \\\n",
       "283                                   total demo home circa 1942   \n",
       "287                                          total demo of house   \n",
       "324                                    total demo of sf res 1950   \n",
       "330                                total demo of home circa 1997   \n",
       "337                   total demo of sf res circa 1957 2417 sq ft   \n",
       "338                    total demo of sf res circa 1958 780 sq ft   \n",
       "348                               total demo of house circa 1945   \n",
       "349                              total demo of sf res circa 1955   \n",
       "350                                total demo of home circa 1954   \n",
       "351                                 total demo of sf res 1542 sf   \n",
       "352                                 total demo of sf res  560 sf   \n",
       "353                                 total demo of sf res  560 sf   \n",
       "354                                 total demo of sf res  560 sf   \n",
       "355                                 total demo of sf res  520 sf   \n",
       "356                                 total demo of sf res  520 sf   \n",
       "357                                 total demo of sf res  520 sf   \n",
       "358                                 total demo of sf res  520 sf   \n",
       "367                                total demo of home circa 1925   \n",
       "536            Total demolition of existing SFR built circa 1948   \n",
       "600            Total demolition of existing SFR built circa 1958   \n",
       "613  Total demolition of existing SFR built 1920 moved to lot...   \n",
       "623            Total demolition of existing SFR built circa 1955   \n",
       "624            Total demolition of existing SFR built circa 1955   \n",
       "626            Total demolition of existing SFR built circa 1957   \n",
       "680            Total demolition of existing SFR built circa 1966   \n",
       "735  Total demolition of primary and secondary structures bui...   \n",
       "779            Total demolition of existing SFR built circa 1945   \n",
       "808            Total demolition of existing SFR built circa 1949   \n",
       "820            Total demolition of existing SFR built circa 1958   \n",
       "821            Total demolition of existing SFR built circa 1950   \n",
       "\n",
       "                  ContractorCompanyName  \n",
       "283  Precise Custom Homes Inc***MAIN***  \n",
       "287                 Austin Triangle LLC  \n",
       "324                                 NaN  \n",
       "330                    DAR Construction  \n",
       "337                    DAR Construction  \n",
       "338                    DAR Construction  \n",
       "348                    DAR Construction  \n",
       "349                    DAR Construction  \n",
       "350                    DAR Construction  \n",
       "351                    DAR Construction  \n",
       "352                    DAR Construction  \n",
       "353                    DAR Construction  \n",
       "354                    DAR Construction  \n",
       "355                    DAR Construction  \n",
       "356                    DAR Construction  \n",
       "357                    DAR Construction  \n",
       "358                    DAR Construction  \n",
       "367                      SCV Works, LLC  \n",
       "536                   Panton Architects  \n",
       "600  Precise Custom Homes Inc***MAIN***  \n",
       "613            Snap Dragon Construction  \n",
       "623  Precise Custom Homes Inc***MAIN***  \n",
       "624  Precise Custom Homes Inc***MAIN***  \n",
       "626  Precise Custom Homes Inc***MAIN***  \n",
       "680  Precise Custom Homes Inc***MAIN***  \n",
       "735                    DAR Construction  \n",
       "779                 Domus  Construction  \n",
       "808    MS 2011 General Contractors, LLC  \n",
       "820                    DAR Construction  \n",
       "821                    DAR Construction  "
      ]
     },
     "execution_count": 28,
     "metadata": {},
     "output_type": "execute_result"
    }
   ],
   "source": [
    "pd.options.display.max_colwidth = 60\n",
    "# look at the descriptions of these homes\n",
    "permits_78741 = demolitions[demolitions['OriginalZip'] == '78741']\n",
    "\n",
    "# filter to 2017 to look at descriptions\n",
    "permits_78741_2017 = permits_78741[permits_78741['CalendarYearIssued'] == '2017']\n",
    "permits_78741_2017[['ProjectName', 'Description', 'ContractorCompanyName']].head(30)"
   ]
  },
  {
   "cell_type": "markdown",
   "metadata": {},
   "source": [
    "### A look at 78731\n",
    "\n",
    "78731 saw a noticable increase in 2017 and has almost as many in the first half of 2018.\n",
    "\n",
    "The biggest changes are north of 45th, south of Hancock, east of MoPac, where there have been 60+ demolitions. There is a similar but smaller area east of Mopac between Perry Lane and Hancock."
   ]
  },
  {
   "cell_type": "code",
   "execution_count": 29,
   "metadata": {},
   "outputs": [
    {
     "data": {
      "text/html": [
       "<div>\n",
       "<style scoped>\n",
       "    .dataframe tbody tr th:only-of-type {\n",
       "        vertical-align: middle;\n",
       "    }\n",
       "\n",
       "    .dataframe tbody tr th {\n",
       "        vertical-align: top;\n",
       "    }\n",
       "\n",
       "    .dataframe thead th {\n",
       "        text-align: right;\n",
       "    }\n",
       "</style>\n",
       "<table border=\"1\" class=\"dataframe\">\n",
       "  <thead>\n",
       "    <tr style=\"text-align: right;\">\n",
       "      <th></th>\n",
       "      <th>Year</th>\n",
       "      <th>Zip</th>\n",
       "      <th>Count</th>\n",
       "    </tr>\n",
       "  </thead>\n",
       "  <tbody>\n",
       "    <tr>\n",
       "      <th>8</th>\n",
       "      <td>2008</td>\n",
       "      <td>78731</td>\n",
       "      <td>7</td>\n",
       "    </tr>\n",
       "    <tr>\n",
       "      <th>28</th>\n",
       "      <td>2009</td>\n",
       "      <td>78731</td>\n",
       "      <td>7</td>\n",
       "    </tr>\n",
       "    <tr>\n",
       "      <th>54</th>\n",
       "      <td>2010</td>\n",
       "      <td>78731</td>\n",
       "      <td>7</td>\n",
       "    </tr>\n",
       "    <tr>\n",
       "      <th>80</th>\n",
       "      <td>2011</td>\n",
       "      <td>78731</td>\n",
       "      <td>13</td>\n",
       "    </tr>\n",
       "    <tr>\n",
       "      <th>106</th>\n",
       "      <td>2012</td>\n",
       "      <td>78731</td>\n",
       "      <td>13</td>\n",
       "    </tr>\n",
       "    <tr>\n",
       "      <th>135</th>\n",
       "      <td>2013</td>\n",
       "      <td>78731</td>\n",
       "      <td>19</td>\n",
       "    </tr>\n",
       "    <tr>\n",
       "      <th>159</th>\n",
       "      <td>2014</td>\n",
       "      <td>78731</td>\n",
       "      <td>24</td>\n",
       "    </tr>\n",
       "    <tr>\n",
       "      <th>185</th>\n",
       "      <td>2015</td>\n",
       "      <td>78731</td>\n",
       "      <td>20</td>\n",
       "    </tr>\n",
       "    <tr>\n",
       "      <th>213</th>\n",
       "      <td>2016</td>\n",
       "      <td>78731</td>\n",
       "      <td>17</td>\n",
       "    </tr>\n",
       "    <tr>\n",
       "      <th>241</th>\n",
       "      <td>2017</td>\n",
       "      <td>78731</td>\n",
       "      <td>27</td>\n",
       "    </tr>\n",
       "    <tr>\n",
       "      <th>270</th>\n",
       "      <td>2018</td>\n",
       "      <td>78731</td>\n",
       "      <td>20</td>\n",
       "    </tr>\n",
       "  </tbody>\n",
       "</table>\n",
       "</div>"
      ],
      "text/plain": [
       "     Year    Zip  Count\n",
       "8    2008  78731      7\n",
       "28   2009  78731      7\n",
       "54   2010  78731      7\n",
       "80   2011  78731     13\n",
       "106  2012  78731     13\n",
       "135  2013  78731     19\n",
       "159  2014  78731     24\n",
       "185  2015  78731     20\n",
       "213  2016  78731     17\n",
       "241  2017  78731     27\n",
       "270  2018  78731     20"
      ]
     },
     "execution_count": 29,
     "metadata": {},
     "output_type": "execute_result"
    }
   ],
   "source": [
    "# show how many in each year\n",
    "zip_78731 = demos_yr_zip_all[demos_yr_zip_all['Zip'] == '78731']\n",
    "zip_78731"
   ]
  },
  {
   "cell_type": "code",
   "execution_count": 30,
   "metadata": {},
   "outputs": [
    {
     "data": {
      "application/vnd.vegalite.v2+json": {
       "$schema": "https://vega.github.io/schema/vega-lite/v2.4.1.json",
       "config": {
        "view": {
         "height": 300,
         "width": 400
        }
       },
       "data": {
        "values": [
         {
          "Count": 7,
          "Year": "2008",
          "Zip": "78731",
          "index": 8
         },
         {
          "Count": 7,
          "Year": "2009",
          "Zip": "78731",
          "index": 28
         },
         {
          "Count": 7,
          "Year": "2010",
          "Zip": "78731",
          "index": 54
         },
         {
          "Count": 13,
          "Year": "2011",
          "Zip": "78731",
          "index": 80
         },
         {
          "Count": 13,
          "Year": "2012",
          "Zip": "78731",
          "index": 106
         },
         {
          "Count": 19,
          "Year": "2013",
          "Zip": "78731",
          "index": 135
         },
         {
          "Count": 24,
          "Year": "2014",
          "Zip": "78731",
          "index": 159
         },
         {
          "Count": 20,
          "Year": "2015",
          "Zip": "78731",
          "index": 185
         },
         {
          "Count": 17,
          "Year": "2016",
          "Zip": "78731",
          "index": 213
         },
         {
          "Count": 27,
          "Year": "2017",
          "Zip": "78731",
          "index": 241
         },
         {
          "Count": 20,
          "Year": "2018",
          "Zip": "78731",
          "index": 270
         }
        ]
       },
       "encoding": {
        "x": {
         "axis": {
          "labelAngle": 0,
          "title": "Year"
         },
         "field": "Year",
         "type": "ordinal"
        },
        "y": {
         "axis": {
          "title": "Number of permits"
         },
         "field": "Count",
         "type": "quantitative"
        }
       },
       "mark": {
        "color": "#54a24b",
        "type": "bar"
       },
       "title": "Full demos in 78731",
       "width": 600
      },
      "image/png": "[encoded data removed]",
      "text/plain": [
       "<VegaLite 2 object>\n",
       "\n",
       "If you see this message, it means the renderer has not been properly enabled\n",
       "for the frontend that you are using. For more information, see\n",
       "https://altair-viz.github.io/user_guide/troubleshooting.html\n"
      ]
     },
     "execution_count": 30,
     "metadata": {},
     "output_type": "execute_result"
    }
   ],
   "source": [
    "# chart based on dataframe above\n",
    "alt.Chart(\n",
    "    zip_78731.reset_index(),\n",
    "    title=\"Full demos in 78731\"\n",
    ").mark_bar(color='#54a24b').encode(\n",
    "    x=alt.X(\"Year:O\", axis=alt.Axis(title=\"Year\", labelAngle=0)),\n",
    "    y=alt.Y(\"Count:Q\", axis=alt.Axis(title=\"Number of permits\")),\n",
    ").properties(width=600)"
   ]
  },
  {
   "cell_type": "markdown",
   "metadata": {},
   "source": [
    "### A look at 78721\n",
    "This is the area south of MLK between Airport and Ed Bluestein. Demolitions more than doubled in 2017 and is on pace to hold steady there in 2018.\n",
    "\n",
    "The area on and around PENNSYLVANIA AVE, GRANT ST, FRANKLIN AVE has a pretty heavy concentration of demolitions in 2017, but there are a ton of others around, to. In 2016, there was a strip on COMETA ST that was razed and replaced with a series of new duplexes.\n",
    "\n",
    "I suspect but can't prove this is just the new hot spot for rebuilding/gentrification."
   ]
  },
  {
   "cell_type": "code",
   "execution_count": 31,
   "metadata": {},
   "outputs": [
    {
     "data": {
      "text/html": [
       "<div>\n",
       "<style scoped>\n",
       "    .dataframe tbody tr th:only-of-type {\n",
       "        vertical-align: middle;\n",
       "    }\n",
       "\n",
       "    .dataframe tbody tr th {\n",
       "        vertical-align: top;\n",
       "    }\n",
       "\n",
       "    .dataframe thead th {\n",
       "        text-align: right;\n",
       "    }\n",
       "</style>\n",
       "<table border=\"1\" class=\"dataframe\">\n",
       "  <thead>\n",
       "    <tr style=\"text-align: right;\">\n",
       "      <th></th>\n",
       "      <th>Year</th>\n",
       "      <th>Zip</th>\n",
       "      <th>Count</th>\n",
       "    </tr>\n",
       "  </thead>\n",
       "  <tbody>\n",
       "    <tr>\n",
       "      <th>4</th>\n",
       "      <td>2008</td>\n",
       "      <td>78721</td>\n",
       "      <td>7</td>\n",
       "    </tr>\n",
       "    <tr>\n",
       "      <th>24</th>\n",
       "      <td>2009</td>\n",
       "      <td>78721</td>\n",
       "      <td>5</td>\n",
       "    </tr>\n",
       "    <tr>\n",
       "      <th>51</th>\n",
       "      <td>2010</td>\n",
       "      <td>78721</td>\n",
       "      <td>6</td>\n",
       "    </tr>\n",
       "    <tr>\n",
       "      <th>76</th>\n",
       "      <td>2011</td>\n",
       "      <td>78721</td>\n",
       "      <td>8</td>\n",
       "    </tr>\n",
       "    <tr>\n",
       "      <th>101</th>\n",
       "      <td>2012</td>\n",
       "      <td>78721</td>\n",
       "      <td>7</td>\n",
       "    </tr>\n",
       "    <tr>\n",
       "      <th>128</th>\n",
       "      <td>2013</td>\n",
       "      <td>78721</td>\n",
       "      <td>10</td>\n",
       "    </tr>\n",
       "    <tr>\n",
       "      <th>154</th>\n",
       "      <td>2014</td>\n",
       "      <td>78721</td>\n",
       "      <td>14</td>\n",
       "    </tr>\n",
       "    <tr>\n",
       "      <th>181</th>\n",
       "      <td>2015</td>\n",
       "      <td>78721</td>\n",
       "      <td>18</td>\n",
       "    </tr>\n",
       "    <tr>\n",
       "      <th>206</th>\n",
       "      <td>2016</td>\n",
       "      <td>78721</td>\n",
       "      <td>21</td>\n",
       "    </tr>\n",
       "    <tr>\n",
       "      <th>237</th>\n",
       "      <td>2017</td>\n",
       "      <td>78721</td>\n",
       "      <td>48</td>\n",
       "    </tr>\n",
       "    <tr>\n",
       "      <th>265</th>\n",
       "      <td>2018</td>\n",
       "      <td>78721</td>\n",
       "      <td>24</td>\n",
       "    </tr>\n",
       "  </tbody>\n",
       "</table>\n",
       "</div>"
      ],
      "text/plain": [
       "     Year    Zip  Count\n",
       "4    2008  78721      7\n",
       "24   2009  78721      5\n",
       "51   2010  78721      6\n",
       "76   2011  78721      8\n",
       "101  2012  78721      7\n",
       "128  2013  78721     10\n",
       "154  2014  78721     14\n",
       "181  2015  78721     18\n",
       "206  2016  78721     21\n",
       "237  2017  78721     48\n",
       "265  2018  78721     24"
      ]
     },
     "execution_count": 31,
     "metadata": {},
     "output_type": "execute_result"
    }
   ],
   "source": [
    "# show how many in each year\n",
    "zip_78721 = demos_yr_zip_all[demos_yr_zip_all['Zip'] == '78721']\n",
    "zip_78721"
   ]
  },
  {
   "cell_type": "code",
   "execution_count": 32,
   "metadata": {},
   "outputs": [
    {
     "data": {
      "application/vnd.vegalite.v2+json": {
       "$schema": "https://vega.github.io/schema/vega-lite/v2.4.1.json",
       "config": {
        "view": {
         "height": 300,
         "width": 400
        }
       },
       "data": {
        "values": [
         {
          "Count": 7,
          "Year": "2008",
          "Zip": "78721",
          "index": 4
         },
         {
          "Count": 5,
          "Year": "2009",
          "Zip": "78721",
          "index": 24
         },
         {
          "Count": 6,
          "Year": "2010",
          "Zip": "78721",
          "index": 51
         },
         {
          "Count": 8,
          "Year": "2011",
          "Zip": "78721",
          "index": 76
         },
         {
          "Count": 7,
          "Year": "2012",
          "Zip": "78721",
          "index": 101
         },
         {
          "Count": 10,
          "Year": "2013",
          "Zip": "78721",
          "index": 128
         },
         {
          "Count": 14,
          "Year": "2014",
          "Zip": "78721",
          "index": 154
         },
         {
          "Count": 18,
          "Year": "2015",
          "Zip": "78721",
          "index": 181
         },
         {
          "Count": 21,
          "Year": "2016",
          "Zip": "78721",
          "index": 206
         },
         {
          "Count": 48,
          "Year": "2017",
          "Zip": "78721",
          "index": 237
         },
         {
          "Count": 24,
          "Year": "2018",
          "Zip": "78721",
          "index": 265
         }
        ]
       },
       "encoding": {
        "x": {
         "axis": {
          "labelAngle": 0,
          "title": "Year"
         },
         "field": "Year",
         "type": "ordinal"
        },
        "y": {
         "axis": {
          "title": "Number of permits"
         },
         "field": "Count",
         "type": "quantitative"
        }
       },
       "mark": {
        "color": "#72b7b2",
        "type": "bar"
       },
       "title": "Full demos in 78721",
       "width": 600
      },
      "image/png": "[encoded data removed]",
      "text/plain": [
       "<VegaLite 2 object>\n",
       "\n",
       "If you see this message, it means the renderer has not been properly enabled\n",
       "for the frontend that you are using. For more information, see\n",
       "https://altair-viz.github.io/user_guide/troubleshooting.html\n"
      ]
     },
     "execution_count": 32,
     "metadata": {},
     "output_type": "execute_result"
    }
   ],
   "source": [
    "# chart based on dataframe above\n",
    "alt.Chart(\n",
    "    zip_78721.reset_index(),\n",
    "    title=\"Full demos in 78721\"\n",
    ").mark_bar(color='#72b7b2').encode(\n",
    "    x=alt.X(\"Year:O\", axis=alt.Axis(title=\"Year\", labelAngle=0)),\n",
    "    y=alt.Y(\"Count:Q\", axis=alt.Axis(title=\"Number of permits\")),\n",
    ").properties(width=600)\n"
   ]
  },
  {
   "cell_type": "code",
   "execution_count": 33,
   "metadata": {},
   "outputs": [
    {
     "data": {
      "text/plain": [
       "297       1142 BROOKSWOOD AVE\n",
       "304              5005 ALF AVE\n",
       "317            5005 HEFLIN LN\n",
       "336       1153 WEBBERVILLE RD\n",
       "341       1110 RICHARDINE AVE\n",
       "344           1108 GARDNER CV\n",
       "390           1104 SAUCEDO ST\n",
       "405            1404 MARCUS PL\n",
       "408        1101 SPRINGDALE RD\n",
       "417           4908 LEDESMA RD\n",
       "427     3501 PENNSYLVANIA AVE\n",
       "430        4802 SANTA ANNA ST\n",
       "431             1709 PEREZ ST\n",
       "433            4704 LOUIS AVE\n",
       "441     3413 PENNSYLVANIA AVE\n",
       "442     3409 PENNSYLVANIA AVE\n",
       "443     3602 PENNSYLVANIA AVE\n",
       "444     3616 PENNSYLVANIA AVE\n",
       "445             3601 GRANT ST\n",
       "446             3607 GRANT ST\n",
       "473           1102 SAUCEDO ST\n",
       "501            1107 ESTES AVE\n",
       "512          1706 OVERHILL DR\n",
       "566              4601 ALF AVE\n",
       "570            1300 COMETA ST\n",
       "573           1142 ELEANOR ST\n",
       "599            1125 EBERT AVE\n",
       "615              4609 SARA DR\n",
       "620        4706 SANTA ANNA ST\n",
       "627            1130 MASON AVE\n",
       "637            1119 WALTON LN\n",
       "670             1412 PEREZ ST\n",
       "675              1130 SPUR ST\n",
       "698           5520 STUART CIR\n",
       "715             1129 LOTT AVE\n",
       "716             1131 LOTT AVE\n",
       "719     1807 E M FRANKLIN AVE\n",
       "722     1190 E M FRANKLIN AVE\n",
       "745     3412 PENNSYLVANIA AVE\n",
       "746     3502 PENNSYLVANIA AVE\n",
       "750            1122 ESTES AVE\n",
       "751             5207 CHICO ST\n",
       "756             1711 PEREZ ST\n",
       "774        1191 GREENWOOD AVE\n",
       "776            1142 GUNTER ST\n",
       "782              4602 ALF AVE\n",
       "807    5205 SAMUEL HUSTON AVE\n",
       "827              1201 LUNA ST\n",
       "Name: OriginalAddress1, dtype: object"
      ]
     },
     "execution_count": 33,
     "metadata": {},
     "output_type": "execute_result"
    }
   ],
   "source": [
    "permits_78721_2017 = demolitions[\n",
    "    (demolitions.OriginalZip == \"78721\")\n",
    "    & (demolitions.CalendarYearIssued == \"2017\")\n",
    "]\n",
    "permits_78721_2017.OriginalAddress1"
   ]
  },
  {
   "cell_type": "markdown",
   "metadata": {},
   "source": [
    "## Who is performing the demolitions?\n",
    "\n",
    "The demolitions company is one who profits from this. Who does the most demolitions?\n",
    "\n",
    "**NOTE:** This is just a rough look because the contractor names have not been cleaned. See the `02_Contractors` notebook for a more accurate look."
   ]
  },
  {
   "cell_type": "code",
   "execution_count": 34,
   "metadata": {},
   "outputs": [
    {
     "data": {
      "text/plain": [
       "DAR Construction                        567\n",
       "Southwest Destructors****MAIN***        227\n",
       "Building Abatement Demolition Co Inc    101\n",
       "AAR Inc.                                 83\n",
       "MX3 Investments                          72\n",
       "Absolute Demolition                      67\n",
       "Heart of Texas Demolition, LLC           39\n",
       "Pecan Valley Homes LLC***MAIN***         35\n",
       "Paradisa Homes, LLC                      31\n",
       "Gossett and Jones Homes Inc.             31\n",
       "Name: ContractorCompanyName, dtype: int64"
      ]
     },
     "execution_count": 34,
     "metadata": {},
     "output_type": "execute_result"
    }
   ],
   "source": [
    "# top 10 by count \n",
    "demolitions.ContractorCompanyName.value_counts().head(10)"
   ]
  },
  {
   "cell_type": "markdown",
   "metadata": {},
   "source": [
    "## Streets that have significant change\n",
    "\n",
    "A dirty way to find some example streets that have changed alot. Idea is to strip block number and then count street name counts. Some of these are flooding buyouts."
   ]
  },
  {
   "cell_type": "code",
   "execution_count": 35,
   "metadata": {},
   "outputs": [
    {
     "data": {
      "text/html": [
       "<div>\n",
       "<style scoped>\n",
       "    .dataframe tbody tr th:only-of-type {\n",
       "        vertical-align: middle;\n",
       "    }\n",
       "\n",
       "    .dataframe tbody tr th {\n",
       "        vertical-align: top;\n",
       "    }\n",
       "\n",
       "    .dataframe thead th {\n",
       "        text-align: right;\n",
       "    }\n",
       "</style>\n",
       "<table border=\"1\" class=\"dataframe\">\n",
       "  <thead>\n",
       "    <tr style=\"text-align: right;\">\n",
       "      <th></th>\n",
       "      <th>Street</th>\n",
       "      <th>Count</th>\n",
       "    </tr>\n",
       "  </thead>\n",
       "  <tbody>\n",
       "    <tr>\n",
       "      <th>0</th>\n",
       "      <td>HASKELL ST</td>\n",
       "      <td>21</td>\n",
       "    </tr>\n",
       "    <tr>\n",
       "      <th>1</th>\n",
       "      <td>E 13TH ST</td>\n",
       "      <td>21</td>\n",
       "    </tr>\n",
       "    <tr>\n",
       "      <th>2</th>\n",
       "      <td>HEARTWOOD DR</td>\n",
       "      <td>18</td>\n",
       "    </tr>\n",
       "    <tr>\n",
       "      <th>3</th>\n",
       "      <td>WESTLAKE DR</td>\n",
       "      <td>17</td>\n",
       "    </tr>\n",
       "    <tr>\n",
       "      <th>4</th>\n",
       "      <td>S 3RD ST</td>\n",
       "      <td>17</td>\n",
       "    </tr>\n",
       "    <tr>\n",
       "      <th>5</th>\n",
       "      <td>HONEYBEE BND</td>\n",
       "      <td>17</td>\n",
       "    </tr>\n",
       "    <tr>\n",
       "      <th>6</th>\n",
       "      <td>E 3RD ST</td>\n",
       "      <td>16</td>\n",
       "    </tr>\n",
       "    <tr>\n",
       "      <th>7</th>\n",
       "      <td>SHOALWOOD AVE</td>\n",
       "      <td>16</td>\n",
       "    </tr>\n",
       "    <tr>\n",
       "      <th>8</th>\n",
       "      <td>ONION CREEK DR</td>\n",
       "      <td>16</td>\n",
       "    </tr>\n",
       "    <tr>\n",
       "      <th>9</th>\n",
       "      <td>PASADENA DR</td>\n",
       "      <td>16</td>\n",
       "    </tr>\n",
       "    <tr>\n",
       "      <th>10</th>\n",
       "      <td>WILLOW ST</td>\n",
       "      <td>15</td>\n",
       "    </tr>\n",
       "    <tr>\n",
       "      <th>11</th>\n",
       "      <td>PENNSYLVANIA AVE</td>\n",
       "      <td>15</td>\n",
       "    </tr>\n",
       "    <tr>\n",
       "      <th>12</th>\n",
       "      <td>BONNIE RD</td>\n",
       "      <td>15</td>\n",
       "    </tr>\n",
       "    <tr>\n",
       "      <th>13</th>\n",
       "      <td>E 9TH ST</td>\n",
       "      <td>15</td>\n",
       "    </tr>\n",
       "    <tr>\n",
       "      <th>14</th>\n",
       "      <td>E 14TH ST</td>\n",
       "      <td>15</td>\n",
       "    </tr>\n",
       "    <tr>\n",
       "      <th>15</th>\n",
       "      <td>PIEDMONT AVE</td>\n",
       "      <td>14</td>\n",
       "    </tr>\n",
       "  </tbody>\n",
       "</table>\n",
       "</div>"
      ],
      "text/plain": [
       "              Street  Count\n",
       "0         HASKELL ST     21\n",
       "1          E 13TH ST     21\n",
       "2       HEARTWOOD DR     18\n",
       "3        WESTLAKE DR     17\n",
       "4           S 3RD ST     17\n",
       "5       HONEYBEE BND     17\n",
       "6           E 3RD ST     16\n",
       "7      SHOALWOOD AVE     16\n",
       "8     ONION CREEK DR     16\n",
       "9        PASADENA DR     16\n",
       "10         WILLOW ST     15\n",
       "11  PENNSYLVANIA AVE     15\n",
       "12         BONNIE RD     15\n",
       "13          E 9TH ST     15\n",
       "14         E 14TH ST     15\n",
       "15      PIEDMONT AVE     14"
      ]
     },
     "execution_count": 35,
     "metadata": {},
     "output_type": "execute_result"
    }
   ],
   "source": [
    "# Create a dataframe of just street names by stripping off numbers\n",
    "# get value counts\n",
    "streets = demolitions.ProjectName.replace(\n",
    "    {r'(\\d+) (.*)' : r'\\2'},\n",
    "    regex=True\n",
    ").value_counts().reset_index()\n",
    "\n",
    "streets.columns = ['Street', 'Count']\n",
    "streets.head(16)"
   ]
  },
  {
   "cell_type": "markdown",
   "metadata": {},
   "source": [
    "## References\n",
    "Ignore this. It's for column references."
   ]
  },
  {
   "cell_type": "code",
   "execution_count": 36,
   "metadata": {},
   "outputs": [
    {
     "name": "stdout",
     "output_type": "stream",
     "text": [
      "<class 'pandas.core.frame.DataFrame'>\n",
      "RangeIndex: 3160 entries, 0 to 3159\n",
      "Data columns (total 68 columns):\n",
      "Unnamed: 0                    3160 non-null int64\n",
      "PermitType                    3160 non-null object\n",
      "PermitTypeDesc                3160 non-null object\n",
      "PermitNum                     3160 non-null object\n",
      "PermitClassMapped             3160 non-null object\n",
      "PermitClass                   3160 non-null object\n",
      "WorkClass                     3160 non-null object\n",
      "Condominium                   3160 non-null object\n",
      "ProjectName                   3160 non-null object\n",
      "Description                   3160 non-null object\n",
      "TCAD_ID                       3146 non-null object\n",
      "PropertyLegalDescription      2739 non-null object\n",
      "AppliedDate                   3160 non-null object\n",
      "IssuedDate                    3160 non-null datetime64[ns]\n",
      "DayIssued                     3160 non-null object\n",
      "CalendarYearIssued            3160 non-null object\n",
      "FiscalYearIssued              3160 non-null int64\n",
      "IssuedInLast30Days            3160 non-null object\n",
      "IssuanceMethod                3160 non-null object\n",
      "StatusCurrent                 3160 non-null object\n",
      "StatusDate                    3160 non-null object\n",
      "ExpiresDate                   3160 non-null object\n",
      "CompletedDate                 2516 non-null object\n",
      "TotalExistingBldgSQFT         3160 non-null float64\n",
      "RemodelRepairSQFT             0 non-null float64\n",
      "TotalNewAddSQFT               0 non-null float64\n",
      "TotalValuationRemodel         0 non-null float64\n",
      "TotalJobValuation             3160 non-null float64\n",
      "NumberOfFloors                3160 non-null float64\n",
      "HousingUnits                  3160 non-null float64\n",
      "BuildingValuation             0 non-null float64\n",
      "BuildingValuationRemodel      0 non-null float64\n",
      "ElectricalValuation           0 non-null float64\n",
      "ElectricalValuationRemodel    0 non-null float64\n",
      "MechanicalValuation           0 non-null float64\n",
      "MechanicalValuationRemodel    0 non-null float64\n",
      "PlumbingValuation             0 non-null float64\n",
      "PlumbingValuationRemodel      0 non-null float64\n",
      "MedGasValuation               0 non-null float64\n",
      "MedGasValuationRemodel        0 non-null float64\n",
      "OriginalAddress1              3160 non-null object\n",
      "OriginalCity                  3160 non-null object\n",
      "OriginalState                 3160 non-null object\n",
      "OriginalZip                   3160 non-null object\n",
      "CouncilDistrict               3148 non-null float64\n",
      "Jurisdiction                  3160 non-null object\n",
      "Link                          3160 non-null object\n",
      "ProjectID                     3160 non-null int64\n",
      "MasterPermitNum               3157 non-null float64\n",
      "Latitude                      3160 non-null float64\n",
      "Longitude                     3160 non-null float64\n",
      "Location                      3160 non-null object\n",
      "ContractorTrade               3147 non-null object\n",
      "ContractorCompanyName         2829 non-null object\n",
      "ContractorFullName            1743 non-null object\n",
      "ContractorPhone               3134 non-null object\n",
      "ContractorAddress1            2253 non-null object\n",
      "ContractorAddress2            2786 non-null object\n",
      "ContractorCity                3144 non-null object\n",
      "ContractorZip                 3091 non-null object\n",
      "ApplicantFullName             1653 non-null object\n",
      "ApplicantOrganization         2716 non-null object\n",
      "ApplicantPhone                2996 non-null object\n",
      "ApplicantAddress1             2144 non-null object\n",
      "ApplicantAddress2             2672 non-null object\n",
      "ApplicantCity                 3007 non-null object\n",
      "ApplicantZip                  2955 non-null object\n",
      "DemoType                      3160 non-null object\n",
      "dtypes: datetime64[ns](1), float64(21), int64(3), object(43)\n",
      "memory usage: 1.6+ MB\n"
     ]
    }
   ],
   "source": [
    "demolitions.info()"
   ]
  },
  {
   "cell_type": "code",
   "execution_count": null,
   "metadata": {},
   "outputs": [],
   "source": []
  }
 ],
 "metadata": {
  "kernelspec": {
   "display_name": "Python 3",
   "language": "python",
   "name": "python3"
  },
  "language_info": {
   "codemirror_mode": {
    "name": "ipython",
    "version": 3
   },
   "file_extension": ".py",
   "mimetype": "text/x-python",
   "name": "python",
   "nbconvert_exporter": "python",
   "pygments_lexer": "ipython3",
   "version": "3.6.5"
  }
 },
 "nbformat": 4,
 "nbformat_minor": 2
}
