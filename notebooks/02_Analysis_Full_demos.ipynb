{
 "cells": [
  {
   "cell_type": "markdown",
   "metadata": {},
   "source": [
    "# Analysis of full demolition permits by the City of Austin\n",
    "\n",
    "- This analysis starts with a file that has been downloaded and processed in another notebook, `01_Download_Process.ipynb`."
   ]
  },
  {
   "cell_type": "markdown",
   "metadata": {},
   "source": [
    "## Set up and configurations"
   ]
  },
  {
   "cell_type": "code",
   "execution_count": 47,
   "metadata": {},
   "outputs": [],
   "source": [
    "import pandas as pd\n",
    "import altair as alt"
   ]
  },
  {
   "cell_type": "markdown",
   "metadata": {},
   "source": [
    "## Import file"
   ]
  },
  {
   "cell_type": "code",
   "execution_count": 48,
   "metadata": {},
   "outputs": [
    {
     "data": {
      "text/plain": [
       "(3169, 67)"
      ]
     },
     "execution_count": 48,
     "metadata": {},
     "output_type": "execute_result"
    }
   ],
   "source": [
    "# Column type fixes\n",
    "column_types = {\n",
    "    'ApplicantPhone': pd.np.str,\n",
    "    'ContractorPhone': pd.np.str,\n",
    "    'CalendarYearIssued': pd.np.str,\n",
    "    'OriginalZip': pd.np.str,\n",
    "}\n",
    "\n",
    "# import raw data\n",
    "data_raw = pd.read_csv(\n",
    "    '../data-processed/residential_demolitions.csv',\n",
    "    index_col=None,\n",
    "    dtype=column_types\n",
    ")\n",
    "\n",
    "demolitions = data_raw\n",
    "demolitions.shape"
   ]
  },
  {
   "cell_type": "markdown",
   "metadata": {},
   "source": [
    "## How the number of demolition permits have changed over time\n",
    "\n",
    "How many demolition permits have been been issued in past years."
   ]
  },
  {
   "cell_type": "markdown",
   "metadata": {},
   "source": [
    "### Permits per year"
   ]
  },
  {
   "cell_type": "code",
   "execution_count": 49,
   "metadata": {},
   "outputs": [
    {
     "data": {
      "text/html": [
       "<div>\n",
       "<style scoped>\n",
       "    .dataframe tbody tr th:only-of-type {\n",
       "        vertical-align: middle;\n",
       "    }\n",
       "\n",
       "    .dataframe tbody tr th {\n",
       "        vertical-align: top;\n",
       "    }\n",
       "\n",
       "    .dataframe thead th {\n",
       "        text-align: right;\n",
       "    }\n",
       "</style>\n",
       "<table border=\"1\" class=\"dataframe\">\n",
       "  <thead>\n",
       "    <tr style=\"text-align: right;\">\n",
       "      <th></th>\n",
       "      <th>Year</th>\n",
       "      <th>Count</th>\n",
       "    </tr>\n",
       "  </thead>\n",
       "  <tbody>\n",
       "    <tr>\n",
       "      <th>10</th>\n",
       "      <td>2008</td>\n",
       "      <td>110</td>\n",
       "    </tr>\n",
       "    <tr>\n",
       "      <th>9</th>\n",
       "      <td>2009</td>\n",
       "      <td>137</td>\n",
       "    </tr>\n",
       "    <tr>\n",
       "      <th>8</th>\n",
       "      <td>2010</td>\n",
       "      <td>152</td>\n",
       "    </tr>\n",
       "    <tr>\n",
       "      <th>7</th>\n",
       "      <td>2011</td>\n",
       "      <td>176</td>\n",
       "    </tr>\n",
       "    <tr>\n",
       "      <th>6</th>\n",
       "      <td>2012</td>\n",
       "      <td>263</td>\n",
       "    </tr>\n",
       "    <tr>\n",
       "      <th>4</th>\n",
       "      <td>2013</td>\n",
       "      <td>328</td>\n",
       "    </tr>\n",
       "    <tr>\n",
       "      <th>2</th>\n",
       "      <td>2014</td>\n",
       "      <td>357</td>\n",
       "    </tr>\n",
       "    <tr>\n",
       "      <th>3</th>\n",
       "      <td>2015</td>\n",
       "      <td>344</td>\n",
       "    </tr>\n",
       "    <tr>\n",
       "      <th>1</th>\n",
       "      <td>2016</td>\n",
       "      <td>457</td>\n",
       "    </tr>\n",
       "    <tr>\n",
       "      <th>0</th>\n",
       "      <td>2017</td>\n",
       "      <td>567</td>\n",
       "    </tr>\n",
       "    <tr>\n",
       "      <th>5</th>\n",
       "      <td>2018</td>\n",
       "      <td>278</td>\n",
       "    </tr>\n",
       "  </tbody>\n",
       "</table>\n",
       "</div>"
      ],
      "text/plain": [
       "    Year  Count\n",
       "10  2008    110\n",
       "9   2009    137\n",
       "8   2010    152\n",
       "7   2011    176\n",
       "6   2012    263\n",
       "4   2013    328\n",
       "2   2014    357\n",
       "3   2015    344\n",
       "1   2016    457\n",
       "0   2017    567\n",
       "5   2018    278"
      ]
     },
     "execution_count": 49,
     "metadata": {},
     "output_type": "execute_result"
    }
   ],
   "source": [
    "# create data from of permits by year\n",
    "demos_by_year = demolitions.CalendarYearIssued.value_counts().reset_index()\n",
    "demos_by_year.columns = ['Year', 'Count']\n",
    "demos_by_year.sort_values('Year')"
   ]
  },
  {
   "cell_type": "code",
   "execution_count": 50,
   "metadata": {},
   "outputs": [
    {
     "data": {
      "application/vnd.vegalite.v2+json": {
       "$schema": "https://vega.github.io/schema/vega-lite/v2.4.1.json",
       "config": {
        "view": {
         "height": 300,
         "width": 400
        }
       },
       "data": {
        "values": [
         {
          "Count": 567,
          "Year": "2017",
          "index": 0
         },
         {
          "Count": 457,
          "Year": "2016",
          "index": 1
         },
         {
          "Count": 357,
          "Year": "2014",
          "index": 2
         },
         {
          "Count": 344,
          "Year": "2015",
          "index": 3
         },
         {
          "Count": 328,
          "Year": "2013",
          "index": 4
         },
         {
          "Count": 278,
          "Year": "2018",
          "index": 5
         },
         {
          "Count": 263,
          "Year": "2012",
          "index": 6
         },
         {
          "Count": 176,
          "Year": "2011",
          "index": 7
         },
         {
          "Count": 152,
          "Year": "2010",
          "index": 8
         },
         {
          "Count": 137,
          "Year": "2009",
          "index": 9
         },
         {
          "Count": 110,
          "Year": "2008",
          "index": 10
         }
        ]
       },
       "encoding": {
        "x": {
         "axis": {
          "labelAngle": 0,
          "title": "Year"
         },
         "field": "Year",
         "type": "ordinal"
        },
        "y": {
         "axis": {
          "title": "Demolition permits"
         },
         "field": "Count",
         "type": "quantitative"
        }
       },
       "mark": "bar",
       "title": "Residential demolitions each year",
       "width": 600
      },
      "image/png": "[encoded data removed]",
      "text/plain": [
       "<VegaLite 2 object>\n",
       "\n",
       "If you see this message, it means the renderer has not been properly enabled\n",
       "for the frontend that you are using. For more information, see\n",
       "https://altair-viz.github.io/user_guide/troubleshooting.html\n"
      ]
     },
     "execution_count": 50,
     "metadata": {},
     "output_type": "execute_result"
    }
   ],
   "source": [
    "# make chart\n",
    "alt.Chart(demos_by_year.reset_index(), title=\"Residential demolitions each year\").mark_bar().encode(\n",
    "    x=alt.X(\"Year:O\", axis=alt.Axis(title=\"Year\", labelAngle=0)),\n",
    "    y=alt.Y(\"Count:Q\", axis=alt.Axis(title=\"Demolition permits\")),\n",
    ").properties(width=600)"
   ]
  },
  {
   "cell_type": "markdown",
   "metadata": {},
   "source": [
    "### Permits in first half of year\n",
    "\n",
    "If we want to see how permits are going for 2018, we need to look at the first six months of each year and compare them."
   ]
  },
  {
   "cell_type": "code",
   "execution_count": 51,
   "metadata": {},
   "outputs": [
    {
     "data": {
      "text/plain": [
       "(1659, 67)"
      ]
     },
     "execution_count": 51,
     "metadata": {},
     "output_type": "execute_result"
    }
   ],
   "source": [
    "# List to filter for first six months from text string\n",
    "six_months_list = ['01', '02', '03', '04', '05', '06']\n",
    "\n",
    "# Make df of first half year permits\n",
    "# Based on splitting string of date and making sure\n",
    "# that string is in the list above.\n",
    "# (another way might be to convert to a date and us `.month`)\n",
    "six_months_filtered = demolitions[demolitions.IssuedDate.str[5:7].isin(six_months_list)]\n",
    "six_months_filtered.shape"
   ]
  },
  {
   "cell_type": "code",
   "execution_count": 52,
   "metadata": {},
   "outputs": [
    {
     "data": {
      "text/html": [
       "<div>\n",
       "<style scoped>\n",
       "    .dataframe tbody tr th:only-of-type {\n",
       "        vertical-align: middle;\n",
       "    }\n",
       "\n",
       "    .dataframe tbody tr th {\n",
       "        vertical-align: top;\n",
       "    }\n",
       "\n",
       "    .dataframe thead th {\n",
       "        text-align: right;\n",
       "    }\n",
       "</style>\n",
       "<table border=\"1\" class=\"dataframe\">\n",
       "  <thead>\n",
       "    <tr style=\"text-align: right;\">\n",
       "      <th></th>\n",
       "      <th>Year</th>\n",
       "      <th>Count</th>\n",
       "    </tr>\n",
       "  </thead>\n",
       "  <tbody>\n",
       "    <tr>\n",
       "      <th>0</th>\n",
       "      <td>2017</td>\n",
       "      <td>307</td>\n",
       "    </tr>\n",
       "    <tr>\n",
       "      <th>1</th>\n",
       "      <td>2018</td>\n",
       "      <td>278</td>\n",
       "    </tr>\n",
       "    <tr>\n",
       "      <th>2</th>\n",
       "      <td>2014</td>\n",
       "      <td>176</td>\n",
       "    </tr>\n",
       "    <tr>\n",
       "      <th>3</th>\n",
       "      <td>2013</td>\n",
       "      <td>167</td>\n",
       "    </tr>\n",
       "    <tr>\n",
       "      <th>4</th>\n",
       "      <td>2016</td>\n",
       "      <td>161</td>\n",
       "    </tr>\n",
       "    <tr>\n",
       "      <th>5</th>\n",
       "      <td>2015</td>\n",
       "      <td>150</td>\n",
       "    </tr>\n",
       "    <tr>\n",
       "      <th>6</th>\n",
       "      <td>2012</td>\n",
       "      <td>132</td>\n",
       "    </tr>\n",
       "    <tr>\n",
       "      <th>7</th>\n",
       "      <td>2011</td>\n",
       "      <td>84</td>\n",
       "    </tr>\n",
       "    <tr>\n",
       "      <th>8</th>\n",
       "      <td>2010</td>\n",
       "      <td>75</td>\n",
       "    </tr>\n",
       "    <tr>\n",
       "      <th>9</th>\n",
       "      <td>2009</td>\n",
       "      <td>68</td>\n",
       "    </tr>\n",
       "    <tr>\n",
       "      <th>10</th>\n",
       "      <td>2008</td>\n",
       "      <td>61</td>\n",
       "    </tr>\n",
       "  </tbody>\n",
       "</table>\n",
       "</div>"
      ],
      "text/plain": [
       "    Year  Count\n",
       "0   2017    307\n",
       "1   2018    278\n",
       "2   2014    176\n",
       "3   2013    167\n",
       "4   2016    161\n",
       "5   2015    150\n",
       "6   2012    132\n",
       "7   2011     84\n",
       "8   2010     75\n",
       "9   2009     68\n",
       "10  2008     61"
      ]
     },
     "execution_count": 52,
     "metadata": {},
     "output_type": "execute_result"
    }
   ],
   "source": [
    "six_months_data = six_months_filtered.CalendarYearIssued.value_counts().reset_index()\n",
    "six_months_data.columns = ['Year', 'Count']\n",
    "six_months_data"
   ]
  },
  {
   "cell_type": "code",
   "execution_count": 53,
   "metadata": {},
   "outputs": [
    {
     "data": {
      "application/vnd.vegalite.v2+json": {
       "$schema": "https://vega.github.io/schema/vega-lite/v2.4.1.json",
       "config": {
        "view": {
         "height": 300,
         "width": 400
        }
       },
       "data": {
        "values": [
         {
          "Count": 307,
          "Year": "2017",
          "index": 0
         },
         {
          "Count": 278,
          "Year": "2018",
          "index": 1
         },
         {
          "Count": 176,
          "Year": "2014",
          "index": 2
         },
         {
          "Count": 167,
          "Year": "2013",
          "index": 3
         },
         {
          "Count": 161,
          "Year": "2016",
          "index": 4
         },
         {
          "Count": 150,
          "Year": "2015",
          "index": 5
         },
         {
          "Count": 132,
          "Year": "2012",
          "index": 6
         },
         {
          "Count": 84,
          "Year": "2011",
          "index": 7
         },
         {
          "Count": 75,
          "Year": "2010",
          "index": 8
         },
         {
          "Count": 68,
          "Year": "2009",
          "index": 9
         },
         {
          "Count": 61,
          "Year": "2008",
          "index": 10
         }
        ]
       },
       "encoding": {
        "x": {
         "axis": {
          "labelAngle": 0,
          "title": "Year"
         },
         "field": "Year",
         "type": "ordinal"
        },
        "y": {
         "axis": {
          "title": "Demolition permits"
         },
         "field": "Count",
         "type": "quantitative"
        }
       },
       "mark": "bar",
       "title": "Residential demolitions first six months",
       "width": 600
      },
      "image/png": "[encoded data removed]",
      "text/plain": [
       "<VegaLite 2 object>\n",
       "\n",
       "If you see this message, it means the renderer has not been properly enabled\n",
       "for the frontend that you are using. For more information, see\n",
       "https://altair-viz.github.io/user_guide/troubleshooting.html\n"
      ]
     },
     "execution_count": 53,
     "metadata": {},
     "output_type": "execute_result"
    }
   ],
   "source": [
    "# make chart\n",
    "alt.Chart(six_months_data.reset_index(), title=\"Residential demolitions first six months\").mark_bar().encode(\n",
    "    x=alt.X(\"Year:O\", axis=alt.Axis(title=\"Year\", labelAngle=0)),\n",
    "    y=alt.Y(\"Count:Q\", axis=alt.Axis(title=\"Demolition permits\")),\n",
    ").properties(width=600)"
   ]
  },
  {
   "cell_type": "markdown",
   "metadata": {},
   "source": [
    "## Square footage of residential homes demolished"
   ]
  },
  {
   "cell_type": "code",
   "execution_count": 54,
   "metadata": {},
   "outputs": [
    {
     "data": {
      "text/html": [
       "<div>\n",
       "<style scoped>\n",
       "    .dataframe tbody tr th:only-of-type {\n",
       "        vertical-align: middle;\n",
       "    }\n",
       "\n",
       "    .dataframe tbody tr th {\n",
       "        vertical-align: top;\n",
       "    }\n",
       "\n",
       "    .dataframe thead th {\n",
       "        text-align: right;\n",
       "    }\n",
       "</style>\n",
       "<table border=\"1\" class=\"dataframe\">\n",
       "  <thead>\n",
       "    <tr style=\"text-align: right;\">\n",
       "      <th></th>\n",
       "      <th>Year</th>\n",
       "      <th>SqFt</th>\n",
       "    </tr>\n",
       "  </thead>\n",
       "  <tbody>\n",
       "    <tr>\n",
       "      <th>0</th>\n",
       "      <td>2008</td>\n",
       "      <td>131987.0</td>\n",
       "    </tr>\n",
       "    <tr>\n",
       "      <th>1</th>\n",
       "      <td>2009</td>\n",
       "      <td>172399.0</td>\n",
       "    </tr>\n",
       "    <tr>\n",
       "      <th>2</th>\n",
       "      <td>2010</td>\n",
       "      <td>197725.0</td>\n",
       "    </tr>\n",
       "    <tr>\n",
       "      <th>3</th>\n",
       "      <td>2011</td>\n",
       "      <td>245702.0</td>\n",
       "    </tr>\n",
       "    <tr>\n",
       "      <th>4</th>\n",
       "      <td>2012</td>\n",
       "      <td>339043.0</td>\n",
       "    </tr>\n",
       "    <tr>\n",
       "      <th>5</th>\n",
       "      <td>2013</td>\n",
       "      <td>294329.0</td>\n",
       "    </tr>\n",
       "    <tr>\n",
       "      <th>6</th>\n",
       "      <td>2014</td>\n",
       "      <td>425708.0</td>\n",
       "    </tr>\n",
       "    <tr>\n",
       "      <th>7</th>\n",
       "      <td>2015</td>\n",
       "      <td>358905.0</td>\n",
       "    </tr>\n",
       "    <tr>\n",
       "      <th>8</th>\n",
       "      <td>2016</td>\n",
       "      <td>676745.0</td>\n",
       "    </tr>\n",
       "    <tr>\n",
       "      <th>9</th>\n",
       "      <td>2017</td>\n",
       "      <td>848763.0</td>\n",
       "    </tr>\n",
       "    <tr>\n",
       "      <th>10</th>\n",
       "      <td>2018</td>\n",
       "      <td>400128.0</td>\n",
       "    </tr>\n",
       "  </tbody>\n",
       "</table>\n",
       "</div>"
      ],
      "text/plain": [
       "    Year      SqFt\n",
       "0   2008  131987.0\n",
       "1   2009  172399.0\n",
       "2   2010  197725.0\n",
       "3   2011  245702.0\n",
       "4   2012  339043.0\n",
       "5   2013  294329.0\n",
       "6   2014  425708.0\n",
       "7   2015  358905.0\n",
       "8   2016  676745.0\n",
       "9   2017  848763.0\n",
       "10  2018  400128.0"
      ]
     },
     "execution_count": 54,
     "metadata": {},
     "output_type": "execute_result"
    }
   ],
   "source": [
    "demos_spft = demolitions.groupby('CalendarYearIssued').sum().TotalExistingBldgSQFT.reset_index()\n",
    "demos_spft.columns = ['Year', 'SqFt']\n",
    "demos_spft"
   ]
  },
  {
   "cell_type": "code",
   "execution_count": 55,
   "metadata": {},
   "outputs": [
    {
     "data": {
      "application/vnd.vegalite.v2+json": {
       "$schema": "https://vega.github.io/schema/vega-lite/v2.4.1.json",
       "config": {
        "view": {
         "height": 300,
         "width": 400
        }
       },
       "data": {
        "values": [
         {
          "SqFt": 131987,
          "Year": "2008",
          "index": 0
         },
         {
          "SqFt": 172399,
          "Year": "2009",
          "index": 1
         },
         {
          "SqFt": 197725,
          "Year": "2010",
          "index": 2
         },
         {
          "SqFt": 245702,
          "Year": "2011",
          "index": 3
         },
         {
          "SqFt": 339043,
          "Year": "2012",
          "index": 4
         },
         {
          "SqFt": 294329,
          "Year": "2013",
          "index": 5
         },
         {
          "SqFt": 425708,
          "Year": "2014",
          "index": 6
         },
         {
          "SqFt": 358905,
          "Year": "2015",
          "index": 7
         },
         {
          "SqFt": 676745,
          "Year": "2016",
          "index": 8
         },
         {
          "SqFt": 848763,
          "Year": "2017",
          "index": 9
         },
         {
          "SqFt": 400128,
          "Year": "2018",
          "index": 10
         }
        ]
       },
       "encoding": {
        "x": {
         "axis": {
          "labelAngle": 0,
          "title": "Year"
         },
         "field": "Year",
         "type": "ordinal"
        },
        "y": {
         "axis": {
          "title": "Amount demolished"
         },
         "field": "SqFt",
         "type": "quantitative"
        }
       },
       "mark": "bar",
       "title": "Square footgage demolished",
       "width": 600
      },
      "image/png": "[encoded data removed]",
      "text/plain": [
       "<VegaLite 2 object>\n",
       "\n",
       "If you see this message, it means the renderer has not been properly enabled\n",
       "for the frontend that you are using. For more information, see\n",
       "https://altair-viz.github.io/user_guide/troubleshooting.html\n"
      ]
     },
     "execution_count": 55,
     "metadata": {},
     "output_type": "execute_result"
    }
   ],
   "source": [
    "alt.Chart(demos_spft.reset_index(), title=\"Square footgage demolished\").mark_bar().encode(\n",
    "    x=alt.X(\"Year:O\", axis=alt.Axis(title=\"Year\", labelAngle=0)),\n",
    "    y=alt.Y(\"SqFt:Q\", axis=alt.Axis(title=\"Amount demolished\")),\n",
    ").properties(width=600)"
   ]
  },
  {
   "cell_type": "markdown",
   "metadata": {},
   "source": [
    "## Demolitions by Zip code"
   ]
  },
  {
   "cell_type": "code",
   "execution_count": 56,
   "metadata": {},
   "outputs": [
    {
     "data": {
      "text/html": [
       "<div>\n",
       "<style scoped>\n",
       "    .dataframe tbody tr th:only-of-type {\n",
       "        vertical-align: middle;\n",
       "    }\n",
       "\n",
       "    .dataframe tbody tr th {\n",
       "        vertical-align: top;\n",
       "    }\n",
       "\n",
       "    .dataframe thead th {\n",
       "        text-align: right;\n",
       "    }\n",
       "</style>\n",
       "<table border=\"1\" class=\"dataframe\">\n",
       "  <thead>\n",
       "    <tr style=\"text-align: right;\">\n",
       "      <th></th>\n",
       "      <th>Zip</th>\n",
       "      <th>Count</th>\n",
       "    </tr>\n",
       "  </thead>\n",
       "  <tbody>\n",
       "    <tr>\n",
       "      <th>0</th>\n",
       "      <td>78704</td>\n",
       "      <td>624</td>\n",
       "    </tr>\n",
       "    <tr>\n",
       "      <th>1</th>\n",
       "      <td>78702</td>\n",
       "      <td>554</td>\n",
       "    </tr>\n",
       "    <tr>\n",
       "      <th>2</th>\n",
       "      <td>78703</td>\n",
       "      <td>370</td>\n",
       "    </tr>\n",
       "    <tr>\n",
       "      <th>3</th>\n",
       "      <td>78757</td>\n",
       "      <td>215</td>\n",
       "    </tr>\n",
       "    <tr>\n",
       "      <th>4</th>\n",
       "      <td>78731</td>\n",
       "      <td>175</td>\n",
       "    </tr>\n",
       "  </tbody>\n",
       "</table>\n",
       "</div>"
      ],
      "text/plain": [
       "     Zip  Count\n",
       "0  78704    624\n",
       "1  78702    554\n",
       "2  78703    370\n",
       "3  78757    215\n",
       "4  78731    175"
      ]
     },
     "execution_count": 56,
     "metadata": {},
     "output_type": "execute_result"
    }
   ],
   "source": [
    "# make a datafram with counts of permits by zip code\n",
    "demos_by_zip = demolitions.OriginalZip.value_counts().reset_index()\n",
    "demos_by_zip.columns = ['Zip', 'Count']\n",
    "demos_by_zip.head()"
   ]
  },
  {
   "cell_type": "code",
   "execution_count": 57,
   "metadata": {},
   "outputs": [
    {
     "data": {
      "application/vnd.vegalite.v2+json": {
       "$schema": "https://vega.github.io/schema/vega-lite/v2.4.1.json",
       "config": {
        "view": {
         "height": 300,
         "width": 400
        }
       },
       "data": {
        "values": [
         {
          "Count": 624,
          "Zip": "78704"
         },
         {
          "Count": 554,
          "Zip": "78702"
         },
         {
          "Count": 370,
          "Zip": "78703"
         },
         {
          "Count": 215,
          "Zip": "78757"
         },
         {
          "Count": 175,
          "Zip": "78731"
         },
         {
          "Count": 167,
          "Zip": "78721"
         },
         {
          "Count": 140,
          "Zip": "78751"
         },
         {
          "Count": 126,
          "Zip": "78756"
         },
         {
          "Count": 122,
          "Zip": "78744"
         },
         {
          "Count": 117,
          "Zip": "78745"
         }
        ]
       },
       "encoding": {
        "x": {
         "axis": {
          "title": "Number of permits"
         },
         "field": "Count",
         "type": "quantitative"
        },
        "y": {
         "axis": {
          "title": "Zip code"
         },
         "field": "Zip",
         "sort": {
          "field": "Count",
          "op": "sum",
          "order": "descending"
         },
         "type": "ordinal"
        }
       },
       "mark": "bar",
       "title": "Zip codes with the most demolitions",
       "width": 600
      },
      "image/png": "[encoded data removed]",
      "text/plain": [
       "<VegaLite 2 object>\n",
       "\n",
       "If you see this message, it means the renderer has not been properly enabled\n",
       "for the frontend that you are using. For more information, see\n",
       "https://altair-viz.github.io/user_guide/troubleshooting.html\n"
      ]
     },
     "execution_count": 57,
     "metadata": {},
     "output_type": "execute_result"
    }
   ],
   "source": [
    "alt.Chart(demos_by_zip.head(10), title=\"Zip codes with the most demolitions\").mark_bar().encode(\n",
    "    x=alt.X(\"Count:Q\",\n",
    "            axis=alt.Axis(title=\"Number of permits\")),\n",
    "    y=alt.Y(\"Zip:O\",\n",
    "            # this is the sorting magic\n",
    "            sort=alt.SortField(field=\"Count\", order=\"descending\", op=\"sum\"),\n",
    "            axis=alt.Axis(title=\"Zip code\")),\n",
    ").properties(width=600)"
   ]
  },
  {
   "cell_type": "markdown",
   "metadata": {},
   "source": [
    "## Demolitions by zip code and year\n",
    "\n",
    "Which parts of town are getting worse?"
   ]
  },
  {
   "cell_type": "code",
   "execution_count": 58,
   "metadata": {},
   "outputs": [
    {
     "data": {
      "text/plain": [
       "(260, 3)"
      ]
     },
     "execution_count": 58,
     "metadata": {},
     "output_type": "execute_result"
    }
   ],
   "source": [
    "# Filter out 2018 because it is a partial year\n",
    "before_2018 = demolitions[demolitions['CalendarYearIssued'] != '2018']\n",
    "\n",
    "# build a dataframe of yr, zip\n",
    "demos_yr_zip = before_2018.groupby(['CalendarYearIssued','OriginalZip']).agg(dict(\n",
    "    PermitNum='count'\n",
    ")).reset_index()\n",
    "demos_yr_zip.columns = ['Year', 'Zip', 'Count']\n",
    "demos_yr_zip.shape\n",
    "# demos_yr_zip.head()"
   ]
  },
  {
   "cell_type": "code",
   "execution_count": 59,
   "metadata": {},
   "outputs": [],
   "source": [
    "# filter to top zips\n",
    "top_zips = ['78704', '78702', '78703', '78757', '78731',\n",
    "            '78721', '78751', '78756', '78744', '78745']\n",
    "\n",
    "top_demos_yr_zip = demos_yr_zip[demos_yr_zip['Zip'].isin(top_zips)]"
   ]
  },
  {
   "cell_type": "code",
   "execution_count": 60,
   "metadata": {},
   "outputs": [
    {
     "data": {
      "application/vnd.vegalite.v2+json": {
       "$schema": "https://vega.github.io/schema/vega-lite/v2.4.1.json",
       "config": {
        "view": {
         "height": 300,
         "width": 400
        }
       },
       "data": {
        "values": [
         {
          "Count": 18,
          "Year": "2008",
          "Zip": "78702"
         },
         {
          "Count": 22,
          "Year": "2008",
          "Zip": "78703"
         },
         {
          "Count": 24,
          "Year": "2008",
          "Zip": "78704"
         },
         {
          "Count": 7,
          "Year": "2008",
          "Zip": "78721"
         },
         {
          "Count": 7,
          "Year": "2008",
          "Zip": "78731"
         },
         {
          "Count": 1,
          "Year": "2008",
          "Zip": "78744"
         },
         {
          "Count": 4,
          "Year": "2008",
          "Zip": "78751"
         },
         {
          "Count": 3,
          "Year": "2008",
          "Zip": "78756"
         },
         {
          "Count": 2,
          "Year": "2008",
          "Zip": "78757"
         },
         {
          "Count": 23,
          "Year": "2009",
          "Zip": "78702"
         },
         {
          "Count": 29,
          "Year": "2009",
          "Zip": "78703"
         },
         {
          "Count": 19,
          "Year": "2009",
          "Zip": "78704"
         },
         {
          "Count": 5,
          "Year": "2009",
          "Zip": "78721"
         },
         {
          "Count": 7,
          "Year": "2009",
          "Zip": "78731"
         },
         {
          "Count": 1,
          "Year": "2009",
          "Zip": "78744"
         },
         {
          "Count": 3,
          "Year": "2009",
          "Zip": "78745"
         },
         {
          "Count": 5,
          "Year": "2009",
          "Zip": "78751"
         },
         {
          "Count": 3,
          "Year": "2009",
          "Zip": "78756"
         },
         {
          "Count": 6,
          "Year": "2009",
          "Zip": "78757"
         },
         {
          "Count": 26,
          "Year": "2010",
          "Zip": "78702"
         },
         {
          "Count": 24,
          "Year": "2010",
          "Zip": "78703"
         },
         {
          "Count": 27,
          "Year": "2010",
          "Zip": "78704"
         },
         {
          "Count": 6,
          "Year": "2010",
          "Zip": "78721"
         },
         {
          "Count": 7,
          "Year": "2010",
          "Zip": "78731"
         },
         {
          "Count": 6,
          "Year": "2010",
          "Zip": "78744"
         },
         {
          "Count": 2,
          "Year": "2010",
          "Zip": "78745"
         },
         {
          "Count": 8,
          "Year": "2010",
          "Zip": "78751"
         },
         {
          "Count": 6,
          "Year": "2010",
          "Zip": "78756"
         },
         {
          "Count": 4,
          "Year": "2010",
          "Zip": "78757"
         },
         {
          "Count": 30,
          "Year": "2011",
          "Zip": "78702"
         },
         {
          "Count": 25,
          "Year": "2011",
          "Zip": "78703"
         },
         {
          "Count": 28,
          "Year": "2011",
          "Zip": "78704"
         },
         {
          "Count": 8,
          "Year": "2011",
          "Zip": "78721"
         },
         {
          "Count": 13,
          "Year": "2011",
          "Zip": "78731"
         },
         {
          "Count": 2,
          "Year": "2011",
          "Zip": "78744"
         },
         {
          "Count": 17,
          "Year": "2011",
          "Zip": "78745"
         },
         {
          "Count": 4,
          "Year": "2011",
          "Zip": "78751"
         },
         {
          "Count": 13,
          "Year": "2011",
          "Zip": "78756"
         },
         {
          "Count": 5,
          "Year": "2011",
          "Zip": "78757"
         },
         {
          "Count": 47,
          "Year": "2012",
          "Zip": "78702"
         },
         {
          "Count": 48,
          "Year": "2012",
          "Zip": "78703"
         },
         {
          "Count": 53,
          "Year": "2012",
          "Zip": "78704"
         },
         {
          "Count": 7,
          "Year": "2012",
          "Zip": "78721"
         },
         {
          "Count": 13,
          "Year": "2012",
          "Zip": "78731"
         },
         {
          "Count": 3,
          "Year": "2012",
          "Zip": "78744"
         },
         {
          "Count": 5,
          "Year": "2012",
          "Zip": "78745"
         },
         {
          "Count": 16,
          "Year": "2012",
          "Zip": "78751"
         },
         {
          "Count": 14,
          "Year": "2012",
          "Zip": "78756"
         },
         {
          "Count": 19,
          "Year": "2012",
          "Zip": "78757"
         },
         {
          "Count": 59,
          "Year": "2013",
          "Zip": "78702"
         },
         {
          "Count": 41,
          "Year": "2013",
          "Zip": "78703"
         },
         {
          "Count": 70,
          "Year": "2013",
          "Zip": "78704"
         },
         {
          "Count": 10,
          "Year": "2013",
          "Zip": "78721"
         },
         {
          "Count": 19,
          "Year": "2013",
          "Zip": "78731"
         },
         {
          "Count": 3,
          "Year": "2013",
          "Zip": "78744"
         },
         {
          "Count": 6,
          "Year": "2013",
          "Zip": "78745"
         },
         {
          "Count": 22,
          "Year": "2013",
          "Zip": "78751"
         },
         {
          "Count": 18,
          "Year": "2013",
          "Zip": "78756"
         },
         {
          "Count": 17,
          "Year": "2013",
          "Zip": "78757"
         },
         {
          "Count": 75,
          "Year": "2014",
          "Zip": "78702"
         },
         {
          "Count": 37,
          "Year": "2014",
          "Zip": "78703"
         },
         {
          "Count": 74,
          "Year": "2014",
          "Zip": "78704"
         },
         {
          "Count": 14,
          "Year": "2014",
          "Zip": "78721"
         },
         {
          "Count": 24,
          "Year": "2014",
          "Zip": "78731"
         },
         {
          "Count": 2,
          "Year": "2014",
          "Zip": "78744"
         },
         {
          "Count": 11,
          "Year": "2014",
          "Zip": "78745"
         },
         {
          "Count": 17,
          "Year": "2014",
          "Zip": "78751"
         },
         {
          "Count": 12,
          "Year": "2014",
          "Zip": "78756"
         },
         {
          "Count": 41,
          "Year": "2014",
          "Zip": "78757"
         },
         {
          "Count": 59,
          "Year": "2015",
          "Zip": "78702"
         },
         {
          "Count": 38,
          "Year": "2015",
          "Zip": "78703"
         },
         {
          "Count": 87,
          "Year": "2015",
          "Zip": "78704"
         },
         {
          "Count": 18,
          "Year": "2015",
          "Zip": "78721"
         },
         {
          "Count": 20,
          "Year": "2015",
          "Zip": "78731"
         },
         {
          "Count": 8,
          "Year": "2015",
          "Zip": "78745"
         },
         {
          "Count": 15,
          "Year": "2015",
          "Zip": "78751"
         },
         {
          "Count": 20,
          "Year": "2015",
          "Zip": "78756"
         },
         {
          "Count": 33,
          "Year": "2015",
          "Zip": "78757"
         },
         {
          "Count": 73,
          "Year": "2016",
          "Zip": "78702"
         },
         {
          "Count": 41,
          "Year": "2016",
          "Zip": "78703"
         },
         {
          "Count": 91,
          "Year": "2016",
          "Zip": "78704"
         },
         {
          "Count": 21,
          "Year": "2016",
          "Zip": "78721"
         },
         {
          "Count": 17,
          "Year": "2016",
          "Zip": "78731"
         },
         {
          "Count": 50,
          "Year": "2016",
          "Zip": "78744"
         },
         {
          "Count": 39,
          "Year": "2016",
          "Zip": "78745"
         },
         {
          "Count": 18,
          "Year": "2016",
          "Zip": "78751"
         },
         {
          "Count": 8,
          "Year": "2016",
          "Zip": "78756"
         },
         {
          "Count": 35,
          "Year": "2016",
          "Zip": "78757"
         },
         {
          "Count": 103,
          "Year": "2017",
          "Zip": "78702"
         },
         {
          "Count": 43,
          "Year": "2017",
          "Zip": "78703"
         },
         {
          "Count": 105,
          "Year": "2017",
          "Zip": "78704"
         },
         {
          "Count": 48,
          "Year": "2017",
          "Zip": "78721"
         },
         {
          "Count": 28,
          "Year": "2017",
          "Zip": "78731"
         },
         {
          "Count": 50,
          "Year": "2017",
          "Zip": "78744"
         },
         {
          "Count": 17,
          "Year": "2017",
          "Zip": "78745"
         },
         {
          "Count": 15,
          "Year": "2017",
          "Zip": "78751"
         },
         {
          "Count": 24,
          "Year": "2017",
          "Zip": "78756"
         },
         {
          "Count": 37,
          "Year": "2017",
          "Zip": "78757"
         }
        ]
       },
       "encoding": {
        "color": {
         "field": "Zip",
         "type": "nominal"
        },
        "x": {
         "axis": {
          "labelAngle": 0,
          "title": "Year"
         },
         "field": "Year",
         "type": "ordinal"
        },
        "y": {
         "axis": {
          "title": "Number of permits"
         },
         "field": "Count",
         "type": "quantitative"
        }
       },
       "mark": "line",
       "title": "Demolitions by year and top Zip codes",
       "width": 600
      },
      "image/png": "[encoded data removed]",
      "text/plain": [
       "<VegaLite 2 object>\n",
       "\n",
       "If you see this message, it means the renderer has not been properly enabled\n",
       "for the frontend that you are using. For more information, see\n",
       "https://altair-viz.github.io/user_guide/troubleshooting.html\n"
      ]
     },
     "execution_count": 60,
     "metadata": {},
     "output_type": "execute_result"
    }
   ],
   "source": [
    "alt.Chart(top_demos_yr_zip, title=\"Demolitions by year and top Zip codes\").mark_line().encode(\n",
    "    x=alt.X(\"Year:O\",\n",
    "            axis=alt.Axis(title=\"Year\", labelAngle=0)),\n",
    "    y=alt.Y(\"Count:Q\",\n",
    "            axis=alt.Axis(title=\"Number of permits\")),\n",
    "    color=\"Zip\"\n",
    ").properties(width=600)"
   ]
  },
  {
   "cell_type": "markdown",
   "metadata": {},
   "source": [
    "### What's up with 78744, and is 2015 missing?"
   ]
  },
  {
   "cell_type": "code",
   "execution_count": 61,
   "metadata": {},
   "outputs": [
    {
     "data": {
      "text/html": [
       "<div>\n",
       "<style scoped>\n",
       "    .dataframe tbody tr th:only-of-type {\n",
       "        vertical-align: middle;\n",
       "    }\n",
       "\n",
       "    .dataframe tbody tr th {\n",
       "        vertical-align: top;\n",
       "    }\n",
       "\n",
       "    .dataframe thead th {\n",
       "        text-align: right;\n",
       "    }\n",
       "</style>\n",
       "<table border=\"1\" class=\"dataframe\">\n",
       "  <thead>\n",
       "    <tr style=\"text-align: right;\">\n",
       "      <th></th>\n",
       "      <th>Year</th>\n",
       "      <th>Zip</th>\n",
       "      <th>Count</th>\n",
       "    </tr>\n",
       "  </thead>\n",
       "  <tbody>\n",
       "    <tr>\n",
       "      <th>11</th>\n",
       "      <td>2008</td>\n",
       "      <td>78744</td>\n",
       "      <td>1</td>\n",
       "    </tr>\n",
       "    <tr>\n",
       "      <th>33</th>\n",
       "      <td>2009</td>\n",
       "      <td>78744</td>\n",
       "      <td>1</td>\n",
       "    </tr>\n",
       "    <tr>\n",
       "      <th>59</th>\n",
       "      <td>2010</td>\n",
       "      <td>78744</td>\n",
       "      <td>6</td>\n",
       "    </tr>\n",
       "    <tr>\n",
       "      <th>84</th>\n",
       "      <td>2011</td>\n",
       "      <td>78744</td>\n",
       "      <td>2</td>\n",
       "    </tr>\n",
       "    <tr>\n",
       "      <th>113</th>\n",
       "      <td>2012</td>\n",
       "      <td>78744</td>\n",
       "      <td>3</td>\n",
       "    </tr>\n",
       "    <tr>\n",
       "      <th>137</th>\n",
       "      <td>2013</td>\n",
       "      <td>78744</td>\n",
       "      <td>3</td>\n",
       "    </tr>\n",
       "    <tr>\n",
       "      <th>163</th>\n",
       "      <td>2014</td>\n",
       "      <td>78744</td>\n",
       "      <td>2</td>\n",
       "    </tr>\n",
       "    <tr>\n",
       "      <th>218</th>\n",
       "      <td>2016</td>\n",
       "      <td>78744</td>\n",
       "      <td>50</td>\n",
       "    </tr>\n",
       "    <tr>\n",
       "      <th>248</th>\n",
       "      <td>2017</td>\n",
       "      <td>78744</td>\n",
       "      <td>50</td>\n",
       "    </tr>\n",
       "  </tbody>\n",
       "</table>\n",
       "</div>"
      ],
      "text/plain": [
       "     Year    Zip  Count\n",
       "11   2008  78744      1\n",
       "33   2009  78744      1\n",
       "59   2010  78744      6\n",
       "84   2011  78744      2\n",
       "113  2012  78744      3\n",
       "137  2013  78744      3\n",
       "163  2014  78744      2\n",
       "218  2016  78744     50\n",
       "248  2017  78744     50"
      ]
     },
     "execution_count": 61,
     "metadata": {},
     "output_type": "execute_result"
    }
   ],
   "source": [
    "zip_78744 = demos_yr_zip[demos_yr_zip['Zip'] == '78744']\n",
    "zip_78744"
   ]
  },
  {
   "cell_type": "code",
   "execution_count": 76,
   "metadata": {},
   "outputs": [
    {
     "data": {
      "text/html": [
       "<div>\n",
       "<style scoped>\n",
       "    .dataframe tbody tr th:only-of-type {\n",
       "        vertical-align: middle;\n",
       "    }\n",
       "\n",
       "    .dataframe tbody tr th {\n",
       "        vertical-align: top;\n",
       "    }\n",
       "\n",
       "    .dataframe thead th {\n",
       "        text-align: right;\n",
       "    }\n",
       "</style>\n",
       "<table border=\"1\" class=\"dataframe\">\n",
       "  <thead>\n",
       "    <tr style=\"text-align: right;\">\n",
       "      <th></th>\n",
       "      <th>Description</th>\n",
       "    </tr>\n",
       "  </thead>\n",
       "  <tbody>\n",
       "    <tr>\n",
       "      <th>90</th>\n",
       "      <td>total demo of sf res flood mitigation</td>\n",
       "    </tr>\n",
       "    <tr>\n",
       "      <th>91</th>\n",
       "      <td>total demo of sf res flood mitigation</td>\n",
       "    </tr>\n",
       "    <tr>\n",
       "      <th>148</th>\n",
       "      <td>total demo of sf res 1978 flood mitigation</td>\n",
       "    </tr>\n",
       "    <tr>\n",
       "      <th>179</th>\n",
       "      <td>Total demolition of existing sf res</td>\n",
       "    </tr>\n",
       "    <tr>\n",
       "      <th>314</th>\n",
       "      <td>Total demolition of existing SFR City of Austi...</td>\n",
       "    </tr>\n",
       "    <tr>\n",
       "      <th>369</th>\n",
       "      <td>Total demolition of existing duplex residence ...</td>\n",
       "    </tr>\n",
       "    <tr>\n",
       "      <th>462</th>\n",
       "      <td>total demo of sf res</td>\n",
       "    </tr>\n",
       "    <tr>\n",
       "      <th>525</th>\n",
       "      <td>Total demolition of existing SFR City of Austi...</td>\n",
       "    </tr>\n",
       "    <tr>\n",
       "      <th>526</th>\n",
       "      <td>Total demolition of existing SFR City of Austi...</td>\n",
       "    </tr>\n",
       "    <tr>\n",
       "      <th>542</th>\n",
       "      <td>Total demolition of existing SFR City of Austi...</td>\n",
       "    </tr>\n",
       "    <tr>\n",
       "      <th>543</th>\n",
       "      <td>Total demolition of existing SFR City of Austi...</td>\n",
       "    </tr>\n",
       "    <tr>\n",
       "      <th>544</th>\n",
       "      <td>Total demolition of existing SFR City of Austi...</td>\n",
       "    </tr>\n",
       "    <tr>\n",
       "      <th>553</th>\n",
       "      <td>Total demolition of existing mobile home resid...</td>\n",
       "    </tr>\n",
       "    <tr>\n",
       "      <th>559</th>\n",
       "      <td>Total demolition of existing SFR City of Austi...</td>\n",
       "    </tr>\n",
       "    <tr>\n",
       "      <th>560</th>\n",
       "      <td>Total demolition of existing SFR City of Austi...</td>\n",
       "    </tr>\n",
       "    <tr>\n",
       "      <th>562</th>\n",
       "      <td>Total demolition of existing SFR City of Austi...</td>\n",
       "    </tr>\n",
       "    <tr>\n",
       "      <th>575</th>\n",
       "      <td>Total demolition of existing SFR City of Austi...</td>\n",
       "    </tr>\n",
       "    <tr>\n",
       "      <th>576</th>\n",
       "      <td>Total demolition of existing SFR City of Austi...</td>\n",
       "    </tr>\n",
       "    <tr>\n",
       "      <th>608</th>\n",
       "      <td>Total demolition of existing SFR City of Austi...</td>\n",
       "    </tr>\n",
       "    <tr>\n",
       "      <th>609</th>\n",
       "      <td>Total demolition of existing SFR City of Austi...</td>\n",
       "    </tr>\n",
       "    <tr>\n",
       "      <th>627</th>\n",
       "      <td>Total demolition of existing SFR City of Austi...</td>\n",
       "    </tr>\n",
       "    <tr>\n",
       "      <th>628</th>\n",
       "      <td>Total demolition of existing SFR City of Austi...</td>\n",
       "    </tr>\n",
       "    <tr>\n",
       "      <th>629</th>\n",
       "      <td>Total demolition of existing SFR City of Austi...</td>\n",
       "    </tr>\n",
       "    <tr>\n",
       "      <th>638</th>\n",
       "      <td>Total demolition of existing SFR City of Austi...</td>\n",
       "    </tr>\n",
       "    <tr>\n",
       "      <th>642</th>\n",
       "      <td>Total demolition of existing SFR City of Austi...</td>\n",
       "    </tr>\n",
       "    <tr>\n",
       "      <th>643</th>\n",
       "      <td>Total demolition of existing duplex residence ...</td>\n",
       "    </tr>\n",
       "    <tr>\n",
       "      <th>644</th>\n",
       "      <td>Total demolition of existing duplex residence ...</td>\n",
       "    </tr>\n",
       "    <tr>\n",
       "      <th>647</th>\n",
       "      <td>Total demolition of existing SFR City of Austi...</td>\n",
       "    </tr>\n",
       "    <tr>\n",
       "      <th>650</th>\n",
       "      <td>Total demolition of existing SFR City of Austi...</td>\n",
       "    </tr>\n",
       "    <tr>\n",
       "      <th>651</th>\n",
       "      <td>Total demolition of existing SFR City of Austi...</td>\n",
       "    </tr>\n",
       "    <tr>\n",
       "      <th>...</th>\n",
       "      <td>...</td>\n",
       "    </tr>\n",
       "    <tr>\n",
       "      <th>1106</th>\n",
       "      <td>total demo of existing sf res circa 1977</td>\n",
       "    </tr>\n",
       "    <tr>\n",
       "      <th>1107</th>\n",
       "      <td>total demo of existing sf res circa 1977</td>\n",
       "    </tr>\n",
       "    <tr>\n",
       "      <th>1108</th>\n",
       "      <td>total demo of existing sf res circa 1980</td>\n",
       "    </tr>\n",
       "    <tr>\n",
       "      <th>1109</th>\n",
       "      <td>total demo of existing sf res circa 1980</td>\n",
       "    </tr>\n",
       "    <tr>\n",
       "      <th>1122</th>\n",
       "      <td>total demo of existing sf res circa 1980</td>\n",
       "    </tr>\n",
       "    <tr>\n",
       "      <th>1124</th>\n",
       "      <td>total demo of existing sf res circa 1981</td>\n",
       "    </tr>\n",
       "    <tr>\n",
       "      <th>1125</th>\n",
       "      <td>total demo of existing sf res circa 1979</td>\n",
       "    </tr>\n",
       "    <tr>\n",
       "      <th>1129</th>\n",
       "      <td>total demo of existing sf res circa 1981</td>\n",
       "    </tr>\n",
       "    <tr>\n",
       "      <th>1139</th>\n",
       "      <td>total demolition of existing sf res circa 1979</td>\n",
       "    </tr>\n",
       "    <tr>\n",
       "      <th>1140</th>\n",
       "      <td>total demo of existing sf res circa 1980</td>\n",
       "    </tr>\n",
       "    <tr>\n",
       "      <th>1142</th>\n",
       "      <td>Total demo of home  Structure already demolished</td>\n",
       "    </tr>\n",
       "    <tr>\n",
       "      <th>1166</th>\n",
       "      <td>Total demo of home  Fire damage</td>\n",
       "    </tr>\n",
       "    <tr>\n",
       "      <th>1696</th>\n",
       "      <td>TOTAL DEMO 14X60 TRAILER</td>\n",
       "    </tr>\n",
       "    <tr>\n",
       "      <th>1898</th>\n",
       "      <td>Total demo of existing home  Circa 1978</td>\n",
       "    </tr>\n",
       "    <tr>\n",
       "      <th>2165</th>\n",
       "      <td>Total demo of existing house</td>\n",
       "    </tr>\n",
       "    <tr>\n",
       "      <th>2255</th>\n",
       "      <td>Total demo of existing single family res  Circ...</td>\n",
       "    </tr>\n",
       "    <tr>\n",
       "      <th>2317</th>\n",
       "      <td>Demolish existing mobile home</td>\n",
       "    </tr>\n",
       "    <tr>\n",
       "      <th>2497</th>\n",
       "      <td>Permitting the demolition of a residence that ...</td>\n",
       "    </tr>\n",
       "    <tr>\n",
       "      <th>2540</th>\n",
       "      <td>Demolish 1 story 2119 square foot residence wh...</td>\n",
       "    </tr>\n",
       "    <tr>\n",
       "      <th>2541</th>\n",
       "      <td>Demolish 1 story 1396 square foot residence gr...</td>\n",
       "    </tr>\n",
       "    <tr>\n",
       "      <th>2652</th>\n",
       "      <td>Demolish a single family residence</td>\n",
       "    </tr>\n",
       "    <tr>\n",
       "      <th>2687</th>\n",
       "      <td>Repermitting for expired permit number 2009032...</td>\n",
       "    </tr>\n",
       "    <tr>\n",
       "      <th>2773</th>\n",
       "      <td>Demolish a single family residence</td>\n",
       "    </tr>\n",
       "    <tr>\n",
       "      <th>2813</th>\n",
       "      <td>Total demo of existing MH</td>\n",
       "    </tr>\n",
       "    <tr>\n",
       "      <th>2857</th>\n",
       "      <td>Demolish a single family residence</td>\n",
       "    </tr>\n",
       "    <tr>\n",
       "      <th>2903</th>\n",
       "      <td>Demolish a circa 1982 1 story 1071 square foot...</td>\n",
       "    </tr>\n",
       "    <tr>\n",
       "      <th>2904</th>\n",
       "      <td>Demolish a circa 1982 1 story 1205 square foot...</td>\n",
       "    </tr>\n",
       "    <tr>\n",
       "      <th>2905</th>\n",
       "      <td>Demolish a circa 1982 1 story 1205 square foot...</td>\n",
       "    </tr>\n",
       "    <tr>\n",
       "      <th>3035</th>\n",
       "      <td>Demolition permit for a mobile home that was r...</td>\n",
       "    </tr>\n",
       "    <tr>\n",
       "      <th>3059</th>\n",
       "      <td>Total demo of a circa 1977 single family resid...</td>\n",
       "    </tr>\n",
       "  </tbody>\n",
       "</table>\n",
       "<p>122 rows × 1 columns</p>\n",
       "</div>"
      ],
      "text/plain": [
       "                                            Description\n",
       "90                total demo of sf res flood mitigation\n",
       "91                total demo of sf res flood mitigation\n",
       "148          total demo of sf res 1978 flood mitigation\n",
       "179                 Total demolition of existing sf res\n",
       "314   Total demolition of existing SFR City of Austi...\n",
       "369   Total demolition of existing duplex residence ...\n",
       "462                                total demo of sf res\n",
       "525   Total demolition of existing SFR City of Austi...\n",
       "526   Total demolition of existing SFR City of Austi...\n",
       "542   Total demolition of existing SFR City of Austi...\n",
       "543   Total demolition of existing SFR City of Austi...\n",
       "544   Total demolition of existing SFR City of Austi...\n",
       "553   Total demolition of existing mobile home resid...\n",
       "559   Total demolition of existing SFR City of Austi...\n",
       "560   Total demolition of existing SFR City of Austi...\n",
       "562   Total demolition of existing SFR City of Austi...\n",
       "575   Total demolition of existing SFR City of Austi...\n",
       "576   Total demolition of existing SFR City of Austi...\n",
       "608   Total demolition of existing SFR City of Austi...\n",
       "609   Total demolition of existing SFR City of Austi...\n",
       "627   Total demolition of existing SFR City of Austi...\n",
       "628   Total demolition of existing SFR City of Austi...\n",
       "629   Total demolition of existing SFR City of Austi...\n",
       "638   Total demolition of existing SFR City of Austi...\n",
       "642   Total demolition of existing SFR City of Austi...\n",
       "643   Total demolition of existing duplex residence ...\n",
       "644   Total demolition of existing duplex residence ...\n",
       "647   Total demolition of existing SFR City of Austi...\n",
       "650   Total demolition of existing SFR City of Austi...\n",
       "651   Total demolition of existing SFR City of Austi...\n",
       "...                                                 ...\n",
       "1106           total demo of existing sf res circa 1977\n",
       "1107           total demo of existing sf res circa 1977\n",
       "1108           total demo of existing sf res circa 1980\n",
       "1109           total demo of existing sf res circa 1980\n",
       "1122           total demo of existing sf res circa 1980\n",
       "1124           total demo of existing sf res circa 1981\n",
       "1125           total demo of existing sf res circa 1979\n",
       "1129           total demo of existing sf res circa 1981\n",
       "1139     total demolition of existing sf res circa 1979\n",
       "1140           total demo of existing sf res circa 1980\n",
       "1142   Total demo of home  Structure already demolished\n",
       "1166                    Total demo of home  Fire damage\n",
       "1696                           TOTAL DEMO 14X60 TRAILER\n",
       "1898            Total demo of existing home  Circa 1978\n",
       "2165                       Total demo of existing house\n",
       "2255  Total demo of existing single family res  Circ...\n",
       "2317                      Demolish existing mobile home\n",
       "2497  Permitting the demolition of a residence that ...\n",
       "2540  Demolish 1 story 2119 square foot residence wh...\n",
       "2541  Demolish 1 story 1396 square foot residence gr...\n",
       "2652                 Demolish a single family residence\n",
       "2687  Repermitting for expired permit number 2009032...\n",
       "2773                 Demolish a single family residence\n",
       "2813                          Total demo of existing MH\n",
       "2857                 Demolish a single family residence\n",
       "2903  Demolish a circa 1982 1 story 1071 square foot...\n",
       "2904  Demolish a circa 1982 1 story 1205 square foot...\n",
       "2905  Demolish a circa 1982 1 story 1205 square foot...\n",
       "3035  Demolition permit for a mobile home that was r...\n",
       "3059  Total demo of a circa 1977 single family resid...\n",
       "\n",
       "[122 rows x 1 columns]"
      ]
     },
     "execution_count": 76,
     "metadata": {},
     "output_type": "execute_result"
    }
   ],
   "source": [
    "permits_78744 = demolitions[demolitions['OriginalZip'] == '78744']\n",
    "pd.options.display.max_colwidth = 50\n",
    "permits_78744[['Description']]"
   ]
  },
  {
   "cell_type": "markdown",
   "metadata": {},
   "source": [
    "## References\n",
    "Ignore this. It's for column references."
   ]
  },
  {
   "cell_type": "code",
   "execution_count": 63,
   "metadata": {},
   "outputs": [
    {
     "name": "stdout",
     "output_type": "stream",
     "text": [
      "<class 'pandas.core.frame.DataFrame'>\n",
      "RangeIndex: 3169 entries, 0 to 3168\n",
      "Data columns (total 67 columns):\n",
      "Unnamed: 0                    3169 non-null int64\n",
      "PermitType                    3169 non-null object\n",
      "PermitTypeDesc                3169 non-null object\n",
      "PermitNum                     3169 non-null object\n",
      "PermitClassMapped             3169 non-null object\n",
      "PermitClass                   3169 non-null object\n",
      "WorkClass                     3169 non-null object\n",
      "Condominium                   3169 non-null object\n",
      "ProjectName                   3169 non-null object\n",
      "Description                   3169 non-null object\n",
      "TCAD_ID                       3155 non-null object\n",
      "PropertyLegalDescription      2748 non-null object\n",
      "AppliedDate                   3169 non-null object\n",
      "IssuedDate                    3169 non-null object\n",
      "DayIssued                     3169 non-null object\n",
      "CalendarYearIssued            3169 non-null object\n",
      "FiscalYearIssued              3169 non-null int64\n",
      "IssuedInLast30Days            3169 non-null object\n",
      "IssuanceMethod                3169 non-null object\n",
      "StatusCurrent                 3169 non-null object\n",
      "StatusDate                    3169 non-null object\n",
      "ExpiresDate                   3169 non-null object\n",
      "CompletedDate                 2503 non-null object\n",
      "TotalExistingBldgSQFT         3169 non-null float64\n",
      "RemodelRepairSQFT             0 non-null float64\n",
      "TotalNewAddSQFT               0 non-null float64\n",
      "TotalValuationRemodel         0 non-null float64\n",
      "TotalJobValuation             3169 non-null float64\n",
      "NumberOfFloors                3169 non-null int64\n",
      "HousingUnits                  3169 non-null int64\n",
      "BuildingValuation             0 non-null float64\n",
      "BuildingValuationRemodel      0 non-null float64\n",
      "ElectricalValuation           0 non-null float64\n",
      "ElectricalValuationRemodel    0 non-null float64\n",
      "MechanicalValuation           0 non-null float64\n",
      "MechanicalValuationRemodel    0 non-null float64\n",
      "PlumbingValuation             0 non-null float64\n",
      "PlumbingValuationRemodel      0 non-null float64\n",
      "MedGasValuation               0 non-null float64\n",
      "MedGasValuationRemodel        0 non-null float64\n",
      "OriginalAddress1              3169 non-null object\n",
      "OriginalCity                  3169 non-null object\n",
      "OriginalState                 3169 non-null object\n",
      "OriginalZip                   3169 non-null object\n",
      "CouncilDistrict               3157 non-null float64\n",
      "Jurisdiction                  3169 non-null object\n",
      "Link                          3169 non-null object\n",
      "ProjectID                     3169 non-null int64\n",
      "MasterPermitNum               3166 non-null float64\n",
      "Latitude                      3169 non-null float64\n",
      "Longitude                     3169 non-null float64\n",
      "Location                      3169 non-null object\n",
      "ContractorTrade               3156 non-null object\n",
      "ContractorCompanyName         2838 non-null object\n",
      "ContractorFullName            1747 non-null object\n",
      "ContractorPhone               3143 non-null object\n",
      "ContractorAddress1            2272 non-null object\n",
      "ContractorAddress2            2796 non-null object\n",
      "ContractorCity                3153 non-null object\n",
      "ContractorZip                 3100 non-null object\n",
      "ApplicantFullName             1657 non-null object\n",
      "ApplicantOrganization         2725 non-null object\n",
      "ApplicantPhone                3005 non-null object\n",
      "ApplicantAddress1             2163 non-null object\n",
      "ApplicantAddress2             2682 non-null object\n",
      "ApplicantCity                 3016 non-null object\n",
      "ApplicantZip                  2964 non-null object\n",
      "dtypes: float64(19), int64(5), object(43)\n",
      "memory usage: 1.6+ MB\n"
     ]
    }
   ],
   "source": [
    "demolitions.info()"
   ]
  },
  {
   "cell_type": "code",
   "execution_count": null,
   "metadata": {},
   "outputs": [],
   "source": []
  }
 ],
 "metadata": {
  "kernelspec": {
   "display_name": "Python 3",
   "language": "python",
   "name": "python3"
  },
  "language_info": {
   "codemirror_mode": {
    "name": "ipython",
    "version": 3
   },
   "file_extension": ".py",
   "mimetype": "text/x-python",
   "name": "python",
   "nbconvert_exporter": "python",
   "pygments_lexer": "ipython3",
   "version": "3.6.5"
  }
 },
 "nbformat": 4,
 "nbformat_minor": 2
}
