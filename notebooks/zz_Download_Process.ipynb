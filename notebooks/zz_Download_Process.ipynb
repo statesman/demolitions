{
 "cells": [
  {
   "cell_type": "markdown",
   "metadata": {},
   "source": [
    "# Demolitions study\n",
    "\n",
    "- Started with [Construction permits](https://data.austintexas.gov/Building-and-Development/Issued-Construction-Permits/3syk-w9eu/data)\n",
    "- Filtered to two data sets: [Full demos](https://data.austintexas.gov/Building-and-Development/demolitions-full-post2017/4d8v-cjdw) and [partial demos](https://data.austintexas.gov/Building-and-Development/demolitions-partial-post2007/8qw5-9tag), though that may be misnomer."
   ]
  },
  {
   "cell_type": "code",
   "execution_count": 1,
   "metadata": {
    "collapsed": true
   },
   "outputs": [],
   "source": [
    "import agate"
   ]
  },
  {
   "cell_type": "markdown",
   "metadata": {},
   "source": [
    "## Download is separate\n",
    "\n",
    "Last recorded run date was: 06/27/2018"
   ]
  },
  {
   "cell_type": "code",
   "execution_count": 2,
   "metadata": {
    "collapsed": false
   },
   "outputs": [
    {
     "name": "stderr",
     "output_type": "stream",
     "text": [
      "  % Total    % Received % Xferd  Average Speed   Time    Time     Time  Current\n",
      "                                 Dload  Upload   Total   Spent    Left  Speed\n",
      "100 5788k    0 5788k    0     0   483k      0 --:--:--  0:00:11 --:--:--  530k\n",
      "  % Total    % Received % Xferd  Average Speed   Time    Time     Time  Current\n",
      "                                 Dload  Upload   Total   Spent    Left  Speed\n",
      "100 5907k    0 5907k    0     0   543k      0 --:--:--  0:00:10 --:--:--  797k\n"
     ]
    }
   ],
   "source": [
    "%%bash\n",
    "curl -L -o ../data-raw/full-downloaded.csv \\\n",
    "https://data.austintexas.gov/resource/4d8v-cjdw.csv?\\$limit=10000\n",
    "curl -L -o ../data-raw/partials-downloaded.csv \\\n",
    "https://data.austintexas.gov/resource/8qw5-9tag.csv?\\$limit=10000"
   ]
  },
  {
   "cell_type": "code",
   "execution_count": 3,
   "metadata": {
    "collapsed": false
   },
   "outputs": [],
   "source": [
    "#imports files and merges them\n",
    "specified_types = {\n",
    "    'Condominium': agate.Text(),\n",
    "    'CalendarYearIssued': agate.Text(),\n",
    "    'DayIssued': agate.Text(),\n",
    "    'IssuedInLast30Days': agate.Text(),\n",
    "    'MedGasValuation': agate.Text(),\n",
    "    'MedGasValuationRemodel': agate.Text(),\n",
    "    'OriginalZip': agate.Text(),\n",
    "    'ContractorZip': agate.Text(),\n",
    "    'ApplicantZip': agate.Text(),\n",
    "    'ContractorPhone': agate.Text(),\n",
    "    'ApplicantPhone': agate.Text(),\n",
    "}\n",
    "\n",
    "raw_full = agate.Table.from_csv(\n",
    "    '../data-raw/full-downloaded.csv',\n",
    "    column_types=specified_types\n",
    ")\n",
    "raw_partial = agate.Table.from_csv(\n",
    "    '../data-raw/partials-downloaded.csv',\n",
    "    column_types=specified_types\n",
    ")\n",
    "raw = agate.Table.merge([raw_full, raw_partial])"
   ]
  },
  {
   "cell_type": "code",
   "execution_count": 4,
   "metadata": {
    "collapsed": false
   },
   "outputs": [
    {
     "name": "stdout",
     "output_type": "stream",
     "text": [
      "raw_full length: 7871\n",
      "raw_partial length: 6314\n",
      "raw length: 14185\n"
     ]
    }
   ],
   "source": [
    "print('raw_full length: {}'.format(len(raw_full)))\n",
    "print('raw_partial length: {}'.format(len(raw_partial)))\n",
    "print('raw length: {}'.format(len(raw)))"
   ]
  },
  {
   "cell_type": "code",
   "execution_count": 5,
   "metadata": {
    "collapsed": false
   },
   "outputs": [],
   "source": [
    "# set new column for full vs partial demo\n",
    "\n",
    "# test of the value of WorkClass, which is our key field\n",
    "def set_demotype(workclass):\n",
    "    if workclass == \"Demolition\":\n",
    "        return \"Full\"\n",
    "    else:\n",
    "        return \"Partial\"\n",
    "\n",
    "# add DemoType field and fill it based on function above\n",
    "demotype_field = raw.compute([\n",
    "      ('DemoType',\n",
    "       agate.Formula(agate.Text(),\n",
    "       lambda r: set_demotype(r['WorkClass']))\n",
    "      )\n",
    "])"
   ]
  },
  {
   "cell_type": "code",
   "execution_count": 6,
   "metadata": {
    "collapsed": false
   },
   "outputs": [
    {
     "name": "stdout",
     "output_type": "stream",
     "text": [
      "| DemoType | Count |\n",
      "| -------- | ----- |\n",
      "| Full     | 7,871 |\n",
      "| Partial  | 6,314 |\n"
     ]
    }
   ],
   "source": [
    "demotype_field.pivot('DemoType').print_table()"
   ]
  },
  {
   "cell_type": "code",
   "execution_count": 7,
   "metadata": {
    "collapsed": false
   },
   "outputs": [
    {
     "name": "stdout",
     "output_type": "stream",
     "text": [
      "All Status before filtering:\n",
      "\n",
      "| StatusCurrent        | Count |\n",
      "| -------------------- | ----- |\n",
      "| Active               | 1,627 |\n",
      "| Final                | 9,670 |\n",
      "| Withdrawn            |   212 |\n",
      "| Expired              | 2,048 |\n",
      "| On Hold              |     2 |\n",
      "| Cancelled - Contr... |     1 |\n",
      "| VOID                 |   610 |\n",
      "| Aborted              |     4 |\n",
      "| Closed               |     2 |\n",
      "| Inactive Pending ... |     9 |\n",
      "\n",
      "Status after filter:\n",
      "\n",
      "| StatusCurrent | Count |\n",
      "| ------------- | ----- |\n",
      "| Active        | 1,627 |\n",
      "| Final         | 9,670 |\n"
     ]
    }
   ],
   "source": [
    "# a look at StatusCurrent before filter\n",
    "print('All Status before filtering:\\n')\n",
    "demotype_field.pivot('StatusCurrent').print_table()\n",
    "\n",
    "# this filters out records based on discussions with data owner\n",
    "status_filter = demotype_field.where(lambda row: row['StatusCurrent'] in [\n",
    "    'Active',\n",
    "    'Final'\n",
    "])\n",
    "\n",
    "# status after filter\n",
    "print('\\nStatus after filter:\\n')\n",
    "status_filter.pivot('StatusCurrent').print_table(max_column_width=None)\n"
   ]
  },
  {
   "cell_type": "markdown",
   "metadata": {},
   "source": [
    "## Create residential and commercial subsets"
   ]
  },
  {
   "cell_type": "markdown",
   "metadata": {},
   "source": [
    "## Exports"
   ]
  },
  {
   "cell_type": "code",
   "execution_count": 8,
   "metadata": {},
   "outputs": [],
   "source": [
    "# sets final table after filters\n",
    "demolitions = status_filter"
   ]
  },
  {
   "cell_type": "code",
   "execution_count": 9,
   "metadata": {},
   "outputs": [
    {
     "name": "stdout",
     "output_type": "stream",
     "text": [
      "\n",
      "Length of residential subset: 10485\n",
      "Length of commercial subset: 812\n"
     ]
    }
   ],
   "source": [
    "# create residential and commercial subsets\n",
    "residential = demolitions.where(lambda row: row['PermitClassMapped'] == \"Residential\")\n",
    "print('\\nLength of residential subset: {}'.format(len(residential)))\n",
    "commercial = demolitions.where(lambda row: row['PermitClassMapped'] == \"Commercial\")\n",
    "print('Length of commercial subset: {}'.format(len(commercial)))"
   ]
  },
  {
   "cell_type": "code",
   "execution_count": 10,
   "metadata": {
    "collapsed": true
   },
   "outputs": [],
   "source": [
    "# export final table for Tableau and other analysis\n",
    "demolitions.to_csv('../data-processed/demolitions.csv')\n",
    "commercial.to_csv('../data-processed/commercial.csv')\n",
    "residential.to_csv('../data-processed/residential.csv')\n"
   ]
  },
  {
   "cell_type": "code",
   "execution_count": null,
   "metadata": {},
   "outputs": [],
   "source": []
  }
 ],
 "metadata": {
  "kernelspec": {
   "display_name": "Python 3",
   "language": "python",
   "name": "python3"
  },
  "language_info": {
   "codemirror_mode": {
    "name": "ipython",
    "version": 3
   },
   "file_extension": ".py",
   "mimetype": "text/x-python",
   "name": "python",
   "nbconvert_exporter": "python",
   "pygments_lexer": "ipython3",
   "version": "3.6.5"
  }
 },
 "nbformat": 4,
 "nbformat_minor": 2
}
