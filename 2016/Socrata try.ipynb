{
 "cells": [
  {
   "cell_type": "code",
   "execution_count": 9,
   "metadata": {
    "collapsed": false
   },
   "outputs": [
    {
     "name": "stdout",
     "output_type": "stream",
     "text": [
      "-- Permit 1:\n",
      "{u'council_district': u'6', u'work_class': u'New', u'jurisdiction': u'AUSTIN FULL PURPOSE', u'permit_location': u'11608 Spicewood Pkwy', u'original_address1': u'11608 SPICEWOOD PKWY', u'permittype': u'EP', u'issue_method': u'Permit Center', u'fiscal_year_issued': u'2002', u'issue_date': u'2002-06-06T00:00:00.000', u'applieddate': u'2002-05-10T00:00:00.000', u'tcad_id': u'0172191201', u'day_issued': u'THURSDAY', u'location': {u'type': u'Point', u'coordinates': [-97.807461, 30.446297]}, u'status_current': u'VOID', u'latitude': u'30.44629679', u'project_id': u'4395309', u'permit_type_desc': u'Electrical Permit', u'description': u'Temporary Construction Trailer 2', u'link': u'https://www.austintexas.gov/devreview/b_showpublicpermitfolderdetails.jsp?FolderRSN=4395309', u'issued_in_last_30_days': u'No', u'original_zip': u'78750', u'calendar_year_issued': u'2002', u'expiresdate': u'2002-12-10T00:00:00.000', u'longitude': u'-97.80746082', u'original_city': u'AUSTIN', u'permit_class': u'C- 324 Office, Bank & Professional Bldgs', u'original_state': u'TX', u'permit_number': u'2002-015082 EP'}\n",
      "\n",
      "-- Permit 2:\n",
      "{u'total_job_valuation': u'424', u'council_district': u'4', u'housing_units': u'1', u'jurisdiction': u'AUSTIN FULL PURPOSE', u'permit_location': u'131 Bolles Circle                 A  00000', u'original_address1': u'131 BOLLES CIR', u'permittype': u'EP', u'issue_method': u'Permit Center', u'fiscal_year_issued': u'1989', u'issue_date': u'1989-05-31T00:00:00.000', u'applieddate': u'1989-05-31T00:00:00.000', u'tcad_id': u'0237140801', u'day_issued': u'WEDNESDAY', u'work_class': u'Remodel', u'location': {u'type': u'Point', u'coordinates': [-97.7041, 30.35042]}, u'status_current': u'Final', u'latitude': u'30.35041979', u'project_id': u'4179266', u'permit_type_desc': u'Electrical Permit', u'description': u'Change Out 4 Meters', u'completed_date': u'1989-06-06T00:00:00.000', u'link': u'https://www.austintexas.gov/devreview/b_showpublicpermitfolderdetails.jsp?FolderRSN=4179266', u'issued_in_last_30_days': u'No', u'original_zip': u'78753', u'calendar_year_issued': u'1989', u'expiresdate': u'1989-06-06T00:00:00.000', u'longitude': u'-97.70410029', u'original_city': u'AUSTIN', u'condominium': u'No', u'permit_class': u'Commercial', u'original_state': u'TX', u'permit_number': u'1989-005616 EP'}\n",
      "\n",
      "-- Permit 3:\n",
      "{u'council_district': u'7', u'remodel_repair_sqft': u'4332', u'housing_units': u'1', u'jurisdiction': u'AUSTIN FULL PURPOSE', u'permit_location': u'8820 BURNET RD UNIT 400', u'original_address1': u'8820 BURNET RD UNIT 400', u'permittype': u'MP', u'issue_method': u'Permit Center', u'fiscal_year_issued': u'2014', u'issue_date': u'2013-10-31T00:00:00.000', u'applieddate': u'2013-09-10T00:00:00.000', u'tcad_id': u'0245070106', u'day_issued': u'THURSDAY', u'work_class': u'Remodel', u'location': {u'type': u'Point', u'coordinates': [-97.728011, 30.370977]}, u'status_current': u'Final', u'latitude': u'30.37097716', u'project_id': u'11014329', u'permit_type_desc': u'Mechanical Permit', u'description': u'Change Of Use From Retail to Personal Services and Interior Remodel to Add 2 ADA Restrooms and 1 Shower and Install hilo Water Fountain', u'completed_date': u'2013-11-01T00:00:00.000', u'mechanical_valuation_remodel': u'1250', u'link': u'https://www.austintexas.gov/devreview/b_showpublicpermitfolderdetails.jsp?FolderRSN=11014329', u'issued_in_last_30_days': u'No', u'number_of_floors': u'1', u'calendar_year_issued': u'2013', u'expiresdate': u'2013-11-01T00:00:00.000', u'longitude': u'-97.72801121', u'original_city': u'AUSTIN', u'condominium': u'No', u'original_zip': u'78757', u'permit_class': u'C-1000 Commercial Remodel', u'original_state': u'TX', u'permit_number': u'2013-095159 MP'}\n",
      "\n",
      "-- Permit 4:\n",
      "{u'total_job_valuation': u'300', u'council_district': u'2', u'housing_units': u'1', u'jurisdiction': u'AUSTIN FULL PURPOSE', u'permit_location': u'2124 St Elmo Road East             A N00000', u'original_address1': u'2124 E ST ELMO RD', u'permittype': u'EP', u'issue_method': u'Permit Center', u'fiscal_year_issued': u'1984', u'issue_date': u'1984-04-24T00:00:00.000', u'legal_description': u'LOT 14 CROW INDUSTRIAL PARK SOUTH SEC 1', u'applieddate': u'1984-04-24T00:00:00.000', u'tcad_id': u'0313010102', u'day_issued': u'TUESDAY', u'work_class': u'Remodel', u'location': {u'type': u'Point', u'coordinates': [-97.745294, 30.210047]}, u'status_current': u'Final', u'latitude': u'30.21004721', u'project_id': u'4107218', u'permit_type_desc': u'Electrical Permit', u'description': u'Comm  Adding 35 Wire Receptacles', u'completed_date': u'1984-08-30T00:00:00.000', u'link': u'https://www.austintexas.gov/devreview/b_showpublicpermitfolderdetails.jsp?FolderRSN=4107218', u'issued_in_last_30_days': u'No', u'original_zip': u'78744', u'calendar_year_issued': u'1984', u'expiresdate': u'1984-08-30T00:00:00.000', u'longitude': u'-97.74529351', u'original_city': u'AUSTIN', u'condominium': u'No', u'permit_class': u'Commercial', u'original_state': u'TX', u'permit_number': u'1984-023807 EP'}\n",
      "\n",
      "-- Permit 5:\n",
      "{u'total_job_valuation': u'10610', u'council_district': u'7', u'remodel_repair_sqft': u'0', u'plumbing_valuation_remodel': u'0', u'housing_units': u'1', u'jurisdiction': u'AUSTIN FULL PURPOSE', u'permit_location': u'13203 ROCHESTER LN', u'original_address1': u'13203 ROCHESTER LN', u'permittype': u'BP', u'issue_method': u'Permit Center', u'building_valuation_remodel': u'10610', u'total_valuation_remodel': u'10610', u'fiscal_year_issued': u'2009', u'issue_date': u'2009-06-18T00:00:00.000', u'applieddate': u'2009-06-18T00:00:00.000', u'tcad_id': u'0258330501', u'day_issued': u'THURSDAY', u'work_class': u'Repair', u'location': {u'type': u'Point', u'coordinates': [-97.646987, 30.40379]}, u'status_current': u'Final', u'latitude': u'30.40379043', u'project_id': u'10297010', u'permit_type_desc': u'Building Permit', u'electrical_valuation_remodel': u'0', u'description': u'Repair the foundation on the existing single family residence', u'completed_date': u'2009-07-10T00:00:00.000', u'mechanical_valuation_remodel': u'0', u'link': u'https://www.austintexas.gov/devreview/b_showpublicpermitfolderdetails.jsp?FolderRSN=10297010', u'issued_in_last_30_days': u'No', u'number_of_floors': u'1', u'calendar_year_issued': u'2009', u'expiresdate': u'2009-07-10T00:00:00.000', u'longitude': u'-97.64698666', u'original_city': u'AUSTIN', u'condominium': u'No', u'original_zip': u'78753', u'permit_class': u'R- 435 Renovations/Remodel', u'original_state': u'TX', u'permit_number': u'2009-064832 BP'}\n",
      "\n"
     ]
    }
   ],
   "source": [
    "from __future__ import print_function\n",
    "\n",
    "import urllib, urllib2\n",
    "import csv\n",
    "\n",
    "def get_permits(args):\n",
    "    \"\"\"Get permits using passed arguments.\"\"\"\n",
    "\n",
    "    api = \"https://data.austintexas.gov/resource/x9yh-78fz.json?\"\n",
    "    try:\n",
    "        url = api + urllib.urlencode(args)\n",
    "        data = urllib2.urlopen(url)\n",
    "        response_data = json.load(data)\n",
    "        data.close()\n",
    "    except urllib2.HTTPError, e:\n",
    "        print(\"HTTP error: {}\".format(e.code))\n",
    "    except urllib2.URLError, e:\n",
    "        print(\"Network error: {}\".format(e.reason.args[1]))\n",
    "\n",
    "    return response_data\n",
    "\n",
    "# make request for first five permits and order by id\n",
    "args = {\"$order\": \":id\", \"$limit\": 5, \"$offset\": 0}\n",
    "five_permits = get_permits(args)\n",
    "\n",
    "# print out the raw data\n",
    "for n, permit in enumerate(five_permits):\n",
    "    print(\"-- Permit {}:\\n{}\".format(n+1, permit), end='\\n\\n')"
   ]
  },
  {
   "cell_type": "code",
   "execution_count": null,
   "metadata": {
    "collapsed": true
   },
   "outputs": [],
   "source": []
  }
 ],
 "metadata": {
  "kernelspec": {
   "display_name": "Python 3",
   "language": "python",
   "name": "python3"
  },
  "language_info": {
   "codemirror_mode": {
    "name": "ipython",
    "version": 3
   },
   "file_extension": ".py",
   "mimetype": "text/x-python",
   "name": "python",
   "nbconvert_exporter": "python",
   "pygments_lexer": "ipython3",
   "version": "3.5.1"
  }
 },
 "nbformat": 4,
 "nbformat_minor": 0
}
