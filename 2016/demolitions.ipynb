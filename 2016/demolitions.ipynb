{
 "cells": [
  {
   "cell_type": "markdown",
   "metadata": {},
   "source": [
    "Demolitions\n",
    "============\n",
    "\n",
    "## File conversion\n",
    "I downloaded two files [Issued Construction Permits](https://data.austintexas.gov/Permitting/Issued-Construction-Permits/3syk-w9eu).\n",
    "\n",
    "* `WorkClass` = 'Demolition' as `demos-full.csv`\n",
    "* `WorkClass` != 'Demolition' and `Description` contains 'partial demo' as `demos-partial.csv`\n",
    "\n",
    "(Perhaps I could script that download some day?)"
   ]
  },
  {
   "cell_type": "markdown",
   "metadata": {},
   "source": [
    "Combines files and standardizes it through in2csv."
   ]
  },
  {
   "cell_type": "code",
   "execution_count": 4,
   "metadata": {
    "collapsed": false
   },
   "outputs": [],
   "source": [
    "%%bash\n",
    "csvstack demos-full.csv demos-partial.csv > demolitions.csv"
   ]
  },
  {
   "cell_type": "code",
   "execution_count": 5,
   "metadata": {
    "collapsed": false
   },
   "outputs": [
    {
     "name": "stdout",
     "output_type": "stream",
     "text": [
      "  1: PermitType\n",
      "  2: PermitTypeDesc\n",
      "  3: PermitNum\n",
      "  4: PermitClass\n",
      "  5: WorkClass\n",
      "  6: Condominium\n",
      "  7: ProjectName\n",
      "  8: Description\n",
      "  9: TCAD_ID\n",
      " 10: PropertyLegalDescription\n",
      " 11: AppliedDate\n",
      " 12: IssuedDate\n",
      " 13: DayIssued\n",
      " 14: CalendarYearIssued\n",
      " 15: FiscalYearIssued\n",
      " 16: IssuedInLast30Days\n",
      " 17: IssuanceMethod\n",
      " 18: StatusCurrent\n",
      " 19: ExpiresDate\n",
      " 20: CompletedDate\n",
      " 21: TotalExistingBldgSQFT\n",
      " 22: RemodelRepairSQFT\n",
      " 23: TotalNewAddSQFT\n",
      " 24: TotalValuationRemodel\n",
      " 25: TotalJobValuation\n",
      " 26: NumberOfFloors\n",
      " 27: HousingUnits\n",
      " 28: BuildingValuation\n",
      " 29: BuildingValuationRemodel\n",
      " 30: ElectricalValuation\n",
      " 31: ElectricalValuationRemodel\n",
      " 32: MechanicalValuation\n",
      " 33: MechanicalValuationRemodel\n",
      " 34: PlumbingValuation\n",
      " 35: PlumbingValuationRemodel\n",
      " 36: MedGasValuation\n",
      " 37: MedGasValuationRemodel\n",
      " 38: OriginalAddress1\n",
      " 39: OriginalCity\n",
      " 40: OriginalState\n",
      " 41: OriginalZip\n",
      " 42: CouncilDistrict\n",
      " 43: Jurisdiction\n",
      " 44: Link\n",
      " 45: ProjectID\n",
      " 46: Latitude\n",
      " 47: Longitude\n",
      " 48: Location\n"
     ]
    }
   ],
   "source": [
    "%%bash\n",
    "csvcut -n demolitions.csv"
   ]
  },
  {
   "cell_type": "code",
   "execution_count": null,
   "metadata": {
    "collapsed": true
   },
   "outputs": [],
   "source": []
  }
 ],
 "metadata": {
  "kernelspec": {
   "display_name": "Python 3",
   "language": "python",
   "name": "python3"
  },
  "language_info": {
   "codemirror_mode": {
    "name": "ipython",
    "version": 3
   },
   "file_extension": ".py",
   "mimetype": "text/x-python",
   "name": "python",
   "nbconvert_exporter": "python",
   "pygments_lexer": "ipython3",
   "version": "3.5.1"
  }
 },
 "nbformat": 4,
 "nbformat_minor": 0
}
